{
 "cells": [
  {
   "cell_type": "code",
   "execution_count": null,
   "id": "56b2dd01",
   "metadata": {},
   "outputs": [],
   "source": [
    "from aocd import submit\n",
    "import numpy as np\n",
    "import re"
   ]
  },
  {
   "cell_type": "code",
   "execution_count": null,
   "id": "e027d709",
   "metadata": {},
   "outputs": [],
   "source": [
    "YYYY=2021\n",
    "DD=2"
   ]
  },
  {
   "cell_type": "code",
   "execution_count": 1,
   "id": "83bc853f",
   "metadata": {},
   "outputs": [
    {
     "data": {
      "text/plain": [
       "['forward 5', 'down 5', 'forward 8', 'up 3', 'down 8', 'forward 2']"
      ]
     },
     "execution_count": 1,
     "metadata": {},
     "output_type": "execute_result"
    }
   ],
   "source": [
    "def load(filename):\n",
    "    with open(filename,'r') as f:\n",
    "         lines = [s.rstrip(\"\\n\").split()  for s in f]\n",
    "    return []\n",
    "test1 = load(\"test1.dat\")\n",
    "test1"
   ]
  },
  {
   "cell_type": "code",
   "execution_count": null,
   "id": "25fa5b91",
   "metadata": {},
   "outputs": [],
   "source": [
    "data1 = load(\"input.dat\")"
   ]
  },
  {
   "cell_type": "code",
   "execution_count": null,
   "id": "229e9104",
   "metadata": {},
   "outputs": [],
   "source": [
    "test1"
   ]
  },
  {
   "cell_type": "markdown",
   "id": "6299ea79",
   "metadata": {},
   "source": [
    "# Teil a"
   ]
  },
  {
   "cell_type": "code",
   "execution_count": null,
   "id": "bd11b52f",
   "metadata": {},
   "outputs": [],
   "source": [
    "def swima(data):\n",
    "    depth = 0\n",
    "    h = 0 \n",
    "    for d,s in data:\n",
    "        if d == \"up\":\n",
    "            depth -= s\n",
    "        elif d == \"down\":\n",
    "            depth += s\n",
    "        elif d == \"forward\":\n",
    "            h += s\n",
    "    return depth * h"
   ]
  },
  {
   "cell_type": "code",
   "execution_count": null,
   "id": "f2c151b4",
   "metadata": {},
   "outputs": [],
   "source": [
    "swima(test1)"
   ]
  },
  {
   "cell_type": "code",
   "execution_count": null,
   "id": "6cf11ccf",
   "metadata": {},
   "outputs": [],
   "source": [
    "submit(swima(data1),part=\"a\",day=DD, year=YYYY)"
   ]
  },
  {
   "cell_type": "markdown",
   "id": "706ace18",
   "metadata": {},
   "source": [
    "# Teil b"
   ]
  },
  {
   "cell_type": "code",
   "execution_count": null,
   "id": "45d05cd8",
   "metadata": {},
   "outputs": [],
   "source": [
    "def swimb(data):\n",
    "    depth = 0\n",
    "    aim = 0\n",
    "    h = 0 \n",
    "    for d,s in data:\n",
    "        if d == \"up\":\n",
    "            aim -= s\n",
    "        elif d == \"down\":\n",
    "            aim += s\n",
    "        elif d == \"forward\":\n",
    "            h += s\n",
    "            depth += (aim*s)\n",
    "    return depth * h"
   ]
  },
  {
   "cell_type": "code",
   "execution_count": null,
   "id": "cbbadf56",
   "metadata": {},
   "outputs": [],
   "source": [
    "swimb(test1)"
   ]
  },
  {
   "cell_type": "code",
   "execution_count": null,
   "id": "0c5c033a",
   "metadata": {},
   "outputs": [],
   "source": [
    "submit(swimb(data1),part=\"b\",day=DD, year=YYYY)"
   ]
  },
  {
   "cell_type": "code",
   "execution_count": null,
   "id": "79c4482c",
   "metadata": {},
   "outputs": [],
   "source": []
  }
 ],
 "metadata": {
  "kernelspec": {
   "display_name": "Python 3 (ipykernel)",
   "language": "python",
   "name": "python3"
  },
  "language_info": {
   "codemirror_mode": {
    "name": "ipython",
    "version": 3
   },
   "file_extension": ".py",
   "mimetype": "text/x-python",
   "name": "python",
   "nbconvert_exporter": "python",
   "pygments_lexer": "ipython3",
   "version": "3.7.11"
  }
 },
 "nbformat": 4,
 "nbformat_minor": 5
}
