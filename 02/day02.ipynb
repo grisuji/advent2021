{
 "cells": [
  {
   "cell_type": "code",
   "execution_count": null,
   "id": "56b2dd01",
   "metadata": {},
   "outputs": [],
   "source": [
    "from aocd import submit\n",
    "import numpy as np\n",
    "import re"
   ]
  },
  {
   "cell_type": "code",
   "execution_count": null,
   "id": "e027d709",
   "metadata": {},
   "outputs": [],
   "source": [
    "YYYY=2021\n",
    "DD=2"
   ]
  },
  {
   "cell_type": "code",
   "execution_count": null,
   "id": "c8e8633a",
   "metadata": {},
   "outputs": [],
   "source": [
    "def load(filename):\n",
    "    with open(filename,'r') as f:\n",
    "         lines = [s.rstrip(\"\\n\")  for s in f]\n",
    "    return lines"
   ]
  },
  {
   "cell_type": "code",
   "execution_count": null,
   "id": "25fa5b91",
   "metadata": {},
   "outputs": [],
   "source": [
    "def load(filename):\n",
    "    with open(filename,'r') as f:\n",
    "        lines = [l.rstrip(\"\\n\").split()  for l in f]\n",
    "    return [(d, int(step)) for d, step in lines]\n",
    "    \n",
    "test1 = load(\"test1.dat\")\n",
    "data1 = load(\"input.dat\")"
   ]
  },
  {
   "cell_type": "code",
   "execution_count": null,
   "id": "0fc81827",
   "metadata": {},
   "outputs": [],
   "source": [
    "test1"
   ]
  },
  {
   "cell_type": "markdown",
   "id": "6299ea79",
   "metadata": {},
   "source": [
    "# Teil a"
   ]
  },
  {
   "cell_type": "code",
   "execution_count": null,
   "id": "28fcf9bc",
   "metadata": {},
   "outputs": [],
   "source": [
    "def swima(data):\n",
    "    depth = 0\n",
    "    h = 0 \n",
    "    for d,s in data:\n",
    "        if d == \"up\":\n",
    "            depth -= s\n",
    "        elif d == \"down\":\n",
    "            depth += s\n",
    "        elif d == \"forward\":\n",
    "            h += s\n",
    "    return depth * h"
   ]
  },
  {
   "cell_type": "code",
   "execution_count": null,
   "id": "222f08af",
   "metadata": {},
   "outputs": [],
   "source": [
    "swima(test1)"
   ]
  },
  {
   "cell_type": "code",
   "execution_count": null,
   "id": "6cf11ccf",
   "metadata": {},
   "outputs": [],
   "source": [
    "submit(swima(data1),part=\"a\",day=DD, year=YYYY)"
   ]
  },
  {
   "cell_type": "markdown",
   "id": "706ace18",
   "metadata": {},
   "source": [
    "# Teil b"
   ]
  },
  {
   "cell_type": "code",
   "execution_count": null,
   "id": "39da9499",
   "metadata": {},
   "outputs": [],
   "source": [
    "def swimb(data):\n",
    "    depth = 0\n",
    "    aim = 0\n",
    "    h = 0 \n",
    "    for d,s in data:\n",
    "        if d == \"up\":\n",
    "            aim -= s\n",
    "        elif d == \"down\":\n",
    "            aim += s\n",
    "        elif d == \"forward\":\n",
    "            h += s\n",
    "            depth += (aim*s)\n",
    "    return depth * h"
   ]
  },
  {
   "cell_type": "code",
   "execution_count": null,
   "id": "4ed277b2",
   "metadata": {},
   "outputs": [],
   "source": [
    "swimb(test1)"
   ]
  },
  {
   "cell_type": "code",
   "execution_count": null,
   "id": "c87526a4",
   "metadata": {},
   "outputs": [],
   "source": [
    "submit(swimb(data1),part=\"b\",day=DD, year=YYYY)"
   ]
  },
  {
   "cell_type": "code",
   "execution_count": null,
   "id": "fda8e1d2",
   "metadata": {},
   "outputs": [],
   "source": []
  }
 ],
 "metadata": {
  "kernelspec": {
   "display_name": "Python 3 (ipykernel)",
   "language": "python",
   "name": "python3"
  },
  "language_info": {
   "codemirror_mode": {
    "name": "ipython",
    "version": 3
   },
   "file_extension": ".py",
   "mimetype": "text/x-python",
   "name": "python",
   "nbconvert_exporter": "python",
   "pygments_lexer": "ipython3",
   "version": "3.7.11"
  }
 },
 "nbformat": 4,
 "nbformat_minor": 5
}
