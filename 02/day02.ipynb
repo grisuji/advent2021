{
 "cells": [
  {
   "cell_type": "code",
   "execution_count": null,
   "id": "56b2dd01",
   "metadata": {},
   "outputs": [],
   "source": [
    "from aocd import submit\n",
    "import numpy as np\n",
    "import re"
   ]
  },
  {
   "cell_type": "code",
   "execution_count": null,
   "id": "e027d709",
   "metadata": {},
   "outputs": [],
   "source": [
    "YYYY=2021\n",
    "DD=2"
   ]
  },
  {
   "cell_type": "code",
   "execution_count": 3,
   "id": "d4da55ea",
   "metadata": {},
   "outputs": [
    {
     "data": {
      "text/plain": [
       "[('forward', 5),\n",
       " ('down', 5),\n",
       " ('forward', 8),\n",
       " ('up', 3),\n",
       " ('down', 8),\n",
       " ('forward', 2)]"
      ]
     },
     "execution_count": 3,
     "metadata": {},
     "output_type": "execute_result"
    }
   ],
   "source": [
    "def load(filename):\n",
    "    with open(filename,'r') as f:\n",
    "         lines = [s.rstrip(\"\\n\").split()  for s in f]\n",
    "    return [(d, int(s)) for d,s in lines]\n",
    "test1 = load(\"test1.dat\")\n",
    "test1"
   ]
  },
  {
   "cell_type": "code",
   "execution_count": null,
   "id": "25fa5b91",
   "metadata": {},
   "outputs": [],
   "source": [
    "data1 = load(\"input.dat\")"
   ]
  },
  {
   "cell_type": "markdown",
   "id": "6299ea79",
   "metadata": {},
   "source": [
    "# Teil a"
   ]
  },
  {
   "cell_type": "code",
   "execution_count": null,
   "id": "13724058",
   "metadata": {},
   "outputs": [],
   "source": [
    "def swima(data):\n",
    "    depth = 0\n",
    "    h = 0 \n",
    "    for d,s in data:\n",
    "        if d == \"up\":\n",
    "            depth -= s\n",
    "        elif d == \"down\":\n",
    "            depth += s\n",
    "        elif d == \"forward\":\n",
    "            h += s\n",
    "    return depth * h"
   ]
  },
  {
   "cell_type": "code",
   "execution_count": null,
   "id": "6704a0e3",
   "metadata": {},
   "outputs": [],
   "source": [
    "swima(test1)"
   ]
  },
  {
   "cell_type": "code",
   "execution_count": null,
   "id": "6cf11ccf",
   "metadata": {},
   "outputs": [],
   "source": [
    "submit(swima(data1),part=\"a\",day=DD, year=YYYY)"
   ]
  },
  {
   "cell_type": "markdown",
   "id": "706ace18",
   "metadata": {},
   "source": [
    "# Teil b"
   ]
  },
  {
   "cell_type": "code",
   "execution_count": null,
   "id": "b2df0990",
   "metadata": {},
   "outputs": [],
   "source": [
    "def swimb(data):\n",
    "    depth = 0\n",
    "    aim = 0\n",
    "    h = 0 \n",
    "    for d,s in data:\n",
    "        if d == \"up\":\n",
    "            aim -= s\n",
    "        elif d == \"down\":\n",
    "            aim += s\n",
    "        elif d == \"forward\":\n",
    "            h += s\n",
    "            depth += (aim*s)\n",
    "    return depth * h"
   ]
  },
  {
   "cell_type": "code",
   "execution_count": null,
   "id": "0169c361",
   "metadata": {},
   "outputs": [],
   "source": [
    "swimb(test1)"
   ]
  },
  {
   "cell_type": "code",
   "execution_count": null,
   "id": "6c24e654",
   "metadata": {},
   "outputs": [],
   "source": [
    "submit(swimb(data1),part=\"b\",day=DD, year=YYYY)"
   ]
  },
  {
   "cell_type": "code",
   "execution_count": null,
   "id": "21c990af",
   "metadata": {},
   "outputs": [],
   "source": []
  }
 ],
 "metadata": {
  "kernelspec": {
   "display_name": "Python 3 (ipykernel)",
   "language": "python",
   "name": "python3"
  },
  "language_info": {
   "codemirror_mode": {
    "name": "ipython",
    "version": 3
   },
   "file_extension": ".py",
   "mimetype": "text/x-python",
   "name": "python",
   "nbconvert_exporter": "python",
   "pygments_lexer": "ipython3",
   "version": "3.7.11"
  }
 },
 "nbformat": 4,
 "nbformat_minor": 5
}
