{
 "cells": [
  {
   "cell_type": "code",
   "execution_count": 83,
   "id": "56b2dd01",
   "metadata": {},
   "outputs": [],
   "source": [
    "from aocd import submit\n",
    "import numpy as np\n",
    "import re\n",
    "import ast\n",
    "from math import floor, ceil\n",
    "from functools import reduce"
   ]
  },
  {
   "cell_type": "code",
   "execution_count": 247,
   "id": "e027d709",
   "metadata": {},
   "outputs": [],
   "source": [
    "YYYY=2021\n",
    "DD=18"
   ]
  },
  {
   "cell_type": "code",
   "execution_count": 252,
   "id": "25fa5b91",
   "metadata": {},
   "outputs": [
    {
     "data": {
      "text/plain": [
       "[[1, 2],\n",
       " [[1, 2], 3],\n",
       " [9, [8, 7]],\n",
       " [[1, 9], [8, 5]],\n",
       " [[[[1, 2], [3, 4]], [[5, 6], [7, 8]]], 9],\n",
       " [[[9, [3, 8]], [[0, 9], 6]], [[[3, 7], [4, 9]], 3]],\n",
       " [[[[1, 3], [5, 3]], [[1, 3], [8, 7]]], [[[4, 9], [6, 9]], [[8, 2], [7, 3]]]]]"
      ]
     },
     "execution_count": 252,
     "metadata": {},
     "output_type": "execute_result"
    }
   ],
   "source": [
    "def load(filename):\n",
    "    with open(filename,'r') as f:\n",
    "         lines = [ast.literal_eval(s.rstrip(\"\\n\"))  for s in f]\n",
    "    return lines\n",
    "test1 = load(\"test1.dat\")\n",
    "test2 = load(\"test2.dat\")\n",
    "test3 = load(\"test3.dat\")\n",
    "test1"
   ]
  },
  {
   "cell_type": "code",
   "execution_count": 7,
   "id": "2ee85b6c",
   "metadata": {},
   "outputs": [],
   "source": [
    "data_in = load(\"input.dat\")"
   ]
  },
  {
   "cell_type": "markdown",
   "id": "6299ea79",
   "metadata": {},
   "source": [
    "# Teil a"
   ]
  },
  {
   "cell_type": "code",
   "execution_count": 407,
   "id": "de6277e4",
   "metadata": {},
   "outputs": [],
   "source": [
    "class Snail:\n",
    "    def __init__(self, val):\n",
    "        if isinstance(val, Snail):\n",
    "            if val.type == 0:\n",
    "                self.set_number(val.val)\n",
    "            else:\n",
    "                self.left = val.left\n",
    "                self.right = val.right\n",
    "        if isinstance(val, list): \n",
    "            self.type = 1\n",
    "            left, right = val\n",
    "            self.left = Snail(left)\n",
    "            self.right = Snail(right)\n",
    "        else:\n",
    "            self.set_number(val)\n",
    "    \n",
    "    def set_number(self, n):\n",
    "        self.type = 0\n",
    "        self.val = n\n",
    "        self.left = None\n",
    "        self.right = None\n",
    "    \n",
    "    def add_number(self, n):\n",
    "        self.val += n\n",
    "    \n",
    "    def add_snail(self,s):\n",
    "        self.left = self\n",
    "        self.right = s\n",
    "        self.type = 1\n",
    "        \n",
    "    def get_pair(self):\n",
    "        return self.left, self.right\n",
    "    \n",
    "    def split(self):\n",
    "        if self.type != 0 or self.val < 10:\n",
    "            return\n",
    "        self.type = 1\n",
    "        self.left = Snail(floor(self.val/2))\n",
    "        self.right = Snail(ceil(self.val/2))\n",
    "    \n",
    "    def __str__(self):\n",
    "        if self.type == 0:\n",
    "            return str(self.val)\n",
    "        return f\"[{self.left},{self.right}]\"\n",
    "    \n",
    "    def to_list(self):\n",
    "        if self.type == 0:\n",
    "            return self.val\n",
    "        return [self.left.to_list(), self.right.to_list()]\n",
    "        \n",
    "\n",
    "def explode(snail):\n",
    "    explode_snail, left, right = e(snail)\n",
    "    if explode_snail:\n",
    "        if left:\n",
    "            left.val+=explode_snail.left.val\n",
    "        if right:\n",
    "            right.val+=explode_snail.right.val\n",
    "        explode_snail.set_number(0)\n",
    "    \n",
    "def e(snail, explode_snail=None, last_val_snail=None, level=0):\n",
    "    if snail.type == 0:\n",
    "        if explode_snail:\n",
    "            return explode_snail, last_val_snail, snail\n",
    "        else:\n",
    "            return None, snail, None #last_val_snail = snail\n",
    "    else:\n",
    "        if level == 4 and not explode_snail:\n",
    "            return snail, last_val_snail, None\n",
    "        \n",
    "        left, right = snail.get_pair()\n",
    "        explode_snail, last_val_snail, next_val_snail  = e(left, explode_snail, last_val_snail, level+1)\n",
    "        if not next_val_snail:\n",
    "            explode_snail, last_val_snail, next_val_snail  = e(right, explode_snail, last_val_snail, level+1)\n",
    "    \n",
    "    return explode_snail, last_val_snail, next_val_snail\n",
    "\n",
    "def split(snail):\n",
    "    if snail.type == 0:\n",
    "        #print(snail)\n",
    "        if snail.val > 9:\n",
    "            snail.split()\n",
    "            return True\n",
    "        return False\n",
    "    left, right = snail.get_pair()\n",
    "    if split(left):\n",
    "        return True\n",
    "    return split(right)\n",
    "\n",
    "        \n",
    "def snail_reduce(s):\n",
    "    changed = True\n",
    "    while changed:\n",
    "        tmp = f\"{s}\"\n",
    "        explode(s)\n",
    "        if tmp != f\"{s}\":\n",
    "            continue\n",
    "        split(s)\n",
    "        if tmp != f\"{s}\":\n",
    "            continue\n",
    "        changed = False\n",
    "    return s\n",
    "\n",
    "def magnitude(s):\n",
    "    if s.type == 0:\n",
    "        return s.val\n",
    "    left, right = s.get_pair()\n",
    "    return 3*magnitude(left)+2*magnitude(right)\n",
    "\n",
    "    "
   ]
  },
  {
   "cell_type": "code",
   "execution_count": 408,
   "id": "70afa776",
   "metadata": {},
   "outputs": [],
   "source": [
    "def solution_a(data):\n",
    "    snails = [Snail(s) for s in data]\n",
    "    s1 = None\n",
    "    for ss in snails:\n",
    "        if not s1:\n",
    "            s1 = snail_reduce(ss)\n",
    "            #print(s1)\n",
    "        else:\n",
    "            s2 = snail_reduce(ss)\n",
    "            #print(s2)\n",
    "            s1 = snail_reduce(Snail([s1.to_list(), s2.to_list()]))\n",
    "            #print(s1)\n",
    "            #break\n",
    "    return magnitude(s1)"
   ]
  },
  {
   "cell_type": "code",
   "execution_count": 410,
   "id": "ad7c4095",
   "metadata": {},
   "outputs": [
    {
     "name": "stdout",
     "output_type": "stream",
     "text": [
      "4140\n"
     ]
    }
   ],
   "source": [
    "print(solution_a(test3))"
   ]
  },
  {
   "cell_type": "code",
   "execution_count": 401,
   "id": "6cf11ccf",
   "metadata": {},
   "outputs": [
    {
     "name": "stdout",
     "output_type": "stream",
     "text": [
      "\u001b[32mThat's the right answer!  You are one gold star closer to finding the sleigh keys. [Continue to Part Two]\u001b[0m\n"
     ]
    },
    {
     "data": {
      "text/plain": [
       "<Response [200]>"
      ]
     },
     "execution_count": 401,
     "metadata": {},
     "output_type": "execute_result"
    }
   ],
   "source": [
    "submit(solution_a(data_in),part=\"a\",day=DD, year=YYYY)"
   ]
  },
  {
   "cell_type": "markdown",
   "id": "706ace18",
   "metadata": {},
   "source": [
    "# Teil b"
   ]
  },
  {
   "cell_type": "code",
   "execution_count": 411,
   "id": "97bc6f05",
   "metadata": {},
   "outputs": [],
   "source": [
    "def solution_b(data):\n",
    "    snails = [Snail(s) for s in data]\n",
    "    m = 0\n",
    "    for i, s1 in enumerate(data):\n",
    "        for j, s2 in enumerate(data):\n",
    "            if i==j:\n",
    "                continue\n",
    "            s = Snail([s1,s2])\n",
    "            snail_reduce(s)\n",
    "            mag = magnitude(s)\n",
    "            if mag > m:\n",
    "                m=mag\n",
    "    return m"
   ]
  },
  {
   "cell_type": "code",
   "execution_count": 412,
   "id": "fae1d1c9",
   "metadata": {},
   "outputs": [
    {
     "data": {
      "text/plain": [
       "3993"
      ]
     },
     "execution_count": 412,
     "metadata": {},
     "output_type": "execute_result"
    }
   ],
   "source": [
    "solution_b(test3)"
   ]
  },
  {
   "cell_type": "code",
   "execution_count": 405,
   "id": "9145d4ca",
   "metadata": {},
   "outputs": [
    {
     "name": "stdout",
     "output_type": "stream",
     "text": [
      "\u001b[32mThat's the right answer!  You are one gold star closer to finding the sleigh keys.You have completed Day 18! You can [Shareon\n",
      "  Twitter\n",
      "Mastodon] this victory or [Return to Your Advent Calendar].\u001b[0m\n"
     ]
    },
    {
     "data": {
      "text/plain": [
       "<Response [200]>"
      ]
     },
     "execution_count": 405,
     "metadata": {},
     "output_type": "execute_result"
    }
   ],
   "source": [
    "submit(solution_b(data_in),part=\"b\",day=DD, year=YYYY)"
   ]
  },
  {
   "cell_type": "code",
   "execution_count": null,
   "id": "b52ef6ab",
   "metadata": {},
   "outputs": [],
   "source": []
  }
 ],
 "metadata": {
  "kernelspec": {
   "display_name": "Python 3 (ipykernel)",
   "language": "python",
   "name": "python3"
  },
  "language_info": {
   "codemirror_mode": {
    "name": "ipython",
    "version": 3
   },
   "file_extension": ".py",
   "mimetype": "text/x-python",
   "name": "python",
   "nbconvert_exporter": "python",
   "pygments_lexer": "ipython3",
   "version": "3.7.11"
  }
 },
 "nbformat": 4,
 "nbformat_minor": 5
}
