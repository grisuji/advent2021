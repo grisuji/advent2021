{
 "cells": [
  {
   "cell_type": "code",
   "execution_count": 1,
   "id": "56b2dd01",
   "metadata": {},
   "outputs": [],
   "source": [
    "from aocd import submit\n",
    "import numpy as np\n",
    "import re"
   ]
  },
  {
   "cell_type": "code",
   "execution_count": 2,
   "id": "e027d709",
   "metadata": {},
   "outputs": [],
   "source": [
    "YYYY=2021\n",
    "DD=5"
   ]
  },
  {
   "cell_type": "code",
   "execution_count": 9,
   "id": "25fa5b91",
   "metadata": {},
   "outputs": [
    {
     "data": {
      "text/plain": [
       "[(0, 9, 5, 9),\n",
       " (8, 0, 0, 8),\n",
       " (9, 4, 3, 4),\n",
       " (2, 2, 2, 1),\n",
       " (7, 0, 7, 4),\n",
       " (6, 4, 2, 0),\n",
       " (0, 9, 2, 9),\n",
       " (3, 4, 1, 4),\n",
       " (0, 0, 8, 8),\n",
       " (5, 5, 8, 2)]"
      ]
     },
     "execution_count": 9,
     "metadata": {},
     "output_type": "execute_result"
    }
   ],
   "source": [
    "def load(filename):\n",
    "    with open(filename,'r') as f:\n",
    "         lines = [re.findall(r'\\d+', s.rstrip(\"\\n\"))  for s in f]\n",
    "    return [tuple(map(int,d)) for d in lines]\n",
    "test1 = load(\"test1.dat\")\n",
    "test1"
   ]
  },
  {
   "cell_type": "code",
   "execution_count": 10,
   "id": "2ee85b6c",
   "metadata": {},
   "outputs": [],
   "source": [
    "data_in = load(\"input.dat\")"
   ]
  },
  {
   "cell_type": "markdown",
   "id": "6299ea79",
   "metadata": {},
   "source": [
    "# Teil a"
   ]
  },
  {
   "cell_type": "code",
   "execution_count": 160,
   "id": "7425b5e0",
   "metadata": {},
   "outputs": [],
   "source": [
    "def get_points(x1,y1,x2,y2, part=\"A\"):\n",
    "    def direction(x,y):\n",
    "        return -1 if x > y else 1\n",
    "    \n",
    "    xdir, ydir = direction(x1,x2), direction(y1,y2)\n",
    "    if x1!=x2 and y1!=y2:\n",
    "        if part == \"A\":\n",
    "            return []\n",
    "        return list(zip(list(range(x1,x2+xdir,xdir)),list(range(y1,y2+ydir,ydir))))\n",
    "    if x1 != x2:\n",
    "        return [(x,y1) for x in range(x1,x2+xdir,xdir)]\n",
    "    return [(x1,y) for y in range(y1,y2+ydir,ydir)]\n",
    "\n",
    "def solution_a(data):\n",
    "    X = max(sum(data, ()))+1\n",
    "    field = np.zeros((X,X))\n",
    "    for x1,y1,x2,y2 in data:\n",
    "        points = get_points(x1,y1,x2,y2)\n",
    "        for p in points:\n",
    "            field[p] += 1\n",
    "    #print(field)\n",
    "    return sum(sum(field>1))"
   ]
  },
  {
   "cell_type": "code",
   "execution_count": 159,
   "id": "dec9cd4e",
   "metadata": {},
   "outputs": [
    {
     "data": {
      "text/plain": [
       "5"
      ]
     },
     "execution_count": 159,
     "metadata": {},
     "output_type": "execute_result"
    }
   ],
   "source": [
    "solution_a(test1)"
   ]
  },
  {
   "cell_type": "code",
   "execution_count": 151,
   "id": "6cf11ccf",
   "metadata": {},
   "outputs": [
    {
     "name": "stdout",
     "output_type": "stream",
     "text": [
      "Part a already solved with same answer: 4826\n"
     ]
    }
   ],
   "source": [
    "submit(solution_a(data_in),part=\"a\",day=DD, year=YYYY)"
   ]
  },
  {
   "cell_type": "markdown",
   "id": "706ace18",
   "metadata": {},
   "source": [
    "# Teil b"
   ]
  },
  {
   "cell_type": "code",
   "execution_count": 154,
   "id": "97bc6f05",
   "metadata": {},
   "outputs": [],
   "source": [
    "def solution_b(data):\n",
    "    X = max(sum(data, ()))+1\n",
    "    field = np.zeros((X,X))\n",
    "    for x1,y1,x2,y2 in data:\n",
    "        points = get_points(x1,y1,x2,y2,\"B\")\n",
    "        for p in points:\n",
    "            field[p] += 1\n",
    "    return sum(sum(field>1))"
   ]
  },
  {
   "cell_type": "code",
   "execution_count": 155,
   "id": "fae1d1c9",
   "metadata": {
    "scrolled": true
   },
   "outputs": [
    {
     "data": {
      "text/plain": [
       "12"
      ]
     },
     "execution_count": 155,
     "metadata": {},
     "output_type": "execute_result"
    }
   ],
   "source": [
    "solution_b(test1)"
   ]
  },
  {
   "cell_type": "code",
   "execution_count": 156,
   "id": "9145d4ca",
   "metadata": {},
   "outputs": [
    {
     "name": "stdout",
     "output_type": "stream",
     "text": [
      "Part b already solved with same answer: 16793\n"
     ]
    }
   ],
   "source": [
    "submit(solution_b(data_in),part=\"b\",day=DD, year=YYYY)"
   ]
  },
  {
   "cell_type": "code",
   "execution_count": null,
   "id": "cd257147",
   "metadata": {},
   "outputs": [],
   "source": []
  }
 ],
 "metadata": {
  "kernelspec": {
   "display_name": "Python 3 (ipykernel)",
   "language": "python",
   "name": "python3"
  },
  "language_info": {
   "codemirror_mode": {
    "name": "ipython",
    "version": 3
   },
   "file_extension": ".py",
   "mimetype": "text/x-python",
   "name": "python",
   "nbconvert_exporter": "python",
   "pygments_lexer": "ipython3",
   "version": "3.7.11"
  }
 },
 "nbformat": 4,
 "nbformat_minor": 5
}
