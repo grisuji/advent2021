{
 "cells": [
  {
   "cell_type": "code",
   "execution_count": 1,
   "id": "56b2dd01",
   "metadata": {},
   "outputs": [],
   "source": [
    "from aocd import submit\n",
    "import numpy as np\n",
    "import re"
   ]
  },
  {
   "cell_type": "code",
   "execution_count": 2,
   "id": "e027d709",
   "metadata": {},
   "outputs": [],
   "source": [
    "YYYY=2021\n",
    "DD=17"
   ]
  },
  {
   "cell_type": "code",
   "execution_count": 4,
   "id": "2ee85b6c",
   "metadata": {},
   "outputs": [],
   "source": [
    "test1 = [(20,30), (-10,-5)]\n",
    "data_in = [[70,125], (-159,-121)]"
   ]
  },
  {
   "cell_type": "markdown",
   "id": "6299ea79",
   "metadata": {},
   "source": [
    "# Teil a"
   ]
  },
  {
   "cell_type": "code",
   "execution_count": 124,
   "id": "c0f26b03",
   "metadata": {},
   "outputs": [],
   "source": [
    "def update(x):\n",
    "    if x < 0:\n",
    "        return x+1\n",
    "    elif x > 0:\n",
    "        return x-1\n",
    "    return x\n",
    "    \n",
    "def step(x, y, vx, vy):\n",
    "    x,y = x+vx, y+vy\n",
    "    vx = update(vx)\n",
    "    vy -= 1\n",
    "    return x,y,vx,vy\n",
    "\n",
    "def get_maxy(vx,vy,tx,ty, debug=False):\n",
    "    x,y = 0,0\n",
    "    maxy = 0\n",
    "    while True:\n",
    "        if debug:\n",
    "            print(x,y)\n",
    "        if x >= tx[0] and x <= tx[1] and y >= ty[0] and y <= ty[1]:\n",
    "            return maxy\n",
    "        if x > tx[1] or y < ty[0]:\n",
    "            return -1\n",
    "        x, y, vx, vy = step(x,y,vx,vy)\n",
    "        if y > maxy:\n",
    "            maxy = y\n",
    "    return maxy\n"
   ]
  },
  {
   "cell_type": "code",
   "execution_count": 125,
   "id": "7425b5e0",
   "metadata": {},
   "outputs": [],
   "source": [
    "def solution_a(data):\n",
    "    maxy=0\n",
    "    for i in range(1100):\n",
    "        for j in range(1100):\n",
    "            result=verify(i,j, data[0], data[1])\n",
    "            if result > maxy:\n",
    "                maxy = result\n",
    "    return maxy"
   ]
  },
  {
   "cell_type": "code",
   "execution_count": 126,
   "id": "44a2cc22",
   "metadata": {},
   "outputs": [
    {
     "data": {
      "text/plain": [
       "45"
      ]
     },
     "execution_count": 126,
     "metadata": {},
     "output_type": "execute_result"
    }
   ],
   "source": [
    "get_maxy(6,9, test1[0], test1[1])"
   ]
  },
  {
   "cell_type": "code",
   "execution_count": 127,
   "id": "dec9cd4e",
   "metadata": {},
   "outputs": [
    {
     "data": {
      "text/plain": [
       "12561"
      ]
     },
     "execution_count": 127,
     "metadata": {},
     "output_type": "execute_result"
    }
   ],
   "source": [
    "solution_a(data_in)"
   ]
  },
  {
   "cell_type": "code",
   "execution_count": 84,
   "id": "6cf11ccf",
   "metadata": {},
   "outputs": [
    {
     "name": "stdout",
     "output_type": "stream",
     "text": [
      "\u001b[32mThat's the right answer!  You are one gold star closer to finding the sleigh keys. [Continue to Part Two]\u001b[0m\n"
     ]
    },
    {
     "data": {
      "text/plain": [
       "<Response [200]>"
      ]
     },
     "execution_count": 84,
     "metadata": {},
     "output_type": "execute_result"
    }
   ],
   "source": [
    "submit(solution_a(data_in),part=\"a\",day=DD, year=YYYY)"
   ]
  },
  {
   "cell_type": "markdown",
   "id": "706ace18",
   "metadata": {},
   "source": [
    "# Teil b"
   ]
  },
  {
   "cell_type": "code",
   "execution_count": 132,
   "id": "97bc6f05",
   "metadata": {},
   "outputs": [],
   "source": [
    "def solution_b(data):\n",
    "    treffer = 0\n",
    "    for i in range(1100):\n",
    "        for j in range(-1200,1200):\n",
    "            result=verify(i,j, data[0], data[1])\n",
    "            if result > -1:\n",
    "                treffer += 1\n",
    "    return treffer"
   ]
  },
  {
   "cell_type": "code",
   "execution_count": 133,
   "id": "fae1d1c9",
   "metadata": {},
   "outputs": [
    {
     "data": {
      "text/plain": [
       "3785"
      ]
     },
     "execution_count": 133,
     "metadata": {},
     "output_type": "execute_result"
    }
   ],
   "source": [
    "solution_b(data_in)"
   ]
  },
  {
   "cell_type": "code",
   "execution_count": 96,
   "id": "9145d4ca",
   "metadata": {},
   "outputs": [
    {
     "name": "stdout",
     "output_type": "stream",
     "text": [
      "Part b already solved with same answer: 3785\n"
     ]
    }
   ],
   "source": [
    "submit(solution_b(data_in),part=\"b\",day=DD, year=YYYY)"
   ]
  },
  {
   "cell_type": "code",
   "execution_count": null,
   "id": "9b80979c",
   "metadata": {},
   "outputs": [],
   "source": []
  }
 ],
 "metadata": {
  "kernelspec": {
   "display_name": "Python 3 (ipykernel)",
   "language": "python",
   "name": "python3"
  },
  "language_info": {
   "codemirror_mode": {
    "name": "ipython",
    "version": 3
   },
   "file_extension": ".py",
   "mimetype": "text/x-python",
   "name": "python",
   "nbconvert_exporter": "python",
   "pygments_lexer": "ipython3",
   "version": "3.7.11"
  }
 },
 "nbformat": 4,
 "nbformat_minor": 5
}
