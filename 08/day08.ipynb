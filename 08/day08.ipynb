{
 "cells": [
  {
   "cell_type": "code",
   "execution_count": 128,
   "id": "56b2dd01",
   "metadata": {},
   "outputs": [],
   "source": [
    "from aocd import submit\n",
    "import numpy as np\n",
    "from functools import reduce"
   ]
  },
  {
   "cell_type": "code",
   "execution_count": 6,
   "id": "e027d709",
   "metadata": {},
   "outputs": [],
   "source": [
    "YYYY=2021\n",
    "DD=8"
   ]
  },
  {
   "cell_type": "code",
   "execution_count": 12,
   "id": "25fa5b91",
   "metadata": {},
   "outputs": [
    {
     "data": {
      "text/plain": [
       "[['be cfbegad cbdgef fgaecd cgeb fdcge agebfd fecdb fabcd edb ',\n",
       "  ' fdgacbe cefdb cefbgd gcbe'],\n",
       " ['edbfga begcd cbg gc gcadebf fbgde acbgfd abcde gfcbed gfec ',\n",
       "  ' fcgedb cgb dgebacf gc'],\n",
       " ['fgaebd cg bdaec gdafb agbcfd gdcbef bgcad gfac gcb cdgabef ',\n",
       "  ' cg cg fdcagb cbg'],\n",
       " ['fbegcd cbd adcefb dageb afcb bc aefdc ecdab fgdeca fcdbega ',\n",
       "  ' efabcd cedba gadfec cb'],\n",
       " ['aecbfdg fbg gf bafeg dbefa fcge gcbea fcaegb dgceab fcbdga ',\n",
       "  ' gecf egdcabf bgf bfgea'],\n",
       " ['fgeab ca afcebg bdacfeg cfaedg gcfdb baec bfadeg bafgc acf ',\n",
       "  ' gebdcfa ecba ca fadegcb'],\n",
       " ['dbcfg fgd bdegcaf fgec aegbdf ecdfab fbedc dacgb gdcebf gf ',\n",
       "  ' cefg dcbef fcge gbcadfe'],\n",
       " ['bdfegc cbegaf gecbf dfcage bdacg ed bedf ced adcbefg gebcd ',\n",
       "  ' ed bcgafe cdgba cbgef'],\n",
       " ['egadfb cdbfeg cegd fecab cgb gbdefca cg fgcdab egfdb bfceg ',\n",
       "  ' gbdfcae bgc cg cgb'],\n",
       " ['gcafb gcf dcaebfg ecagb gf abcdeg gaef cafbge fdbac fegbdc ',\n",
       "  ' fgae cfgab fg bagce']]"
      ]
     },
     "execution_count": 12,
     "metadata": {},
     "output_type": "execute_result"
    }
   ],
   "source": [
    "def load(filename):\n",
    "    with open(filename,'r') as f:\n",
    "         lines = [s.rstrip(\"\\n\").split(\"|\")  for s in f]\n",
    "    return lines #np.array([ int(n) for n in lines.split(\",\")])\n",
    "test1 = load(\"test1.dat\")\n",
    "test1"
   ]
  },
  {
   "cell_type": "code",
   "execution_count": 13,
   "id": "2ee85b6c",
   "metadata": {},
   "outputs": [],
   "source": [
    "data_in = load(\"input.dat\")"
   ]
  },
  {
   "cell_type": "markdown",
   "id": "6299ea79",
   "metadata": {},
   "source": [
    "# Teil a"
   ]
  },
  {
   "cell_type": "code",
   "execution_count": 14,
   "id": "7425b5e0",
   "metadata": {},
   "outputs": [],
   "source": [
    "def solution_a(data):\n",
    "    count = 0\n",
    "    for l in data:\n",
    "        for ll in l[1].split():\n",
    "            if len(ll) in [2,3,4,7]:\n",
    "                count = count +1\n",
    "    return count"
   ]
  },
  {
   "cell_type": "code",
   "execution_count": 15,
   "id": "dec9cd4e",
   "metadata": {},
   "outputs": [
    {
     "data": {
      "text/plain": [
       "26"
      ]
     },
     "execution_count": 15,
     "metadata": {},
     "output_type": "execute_result"
    }
   ],
   "source": [
    "solution_a(test1)"
   ]
  },
  {
   "cell_type": "code",
   "execution_count": 16,
   "id": "6cf11ccf",
   "metadata": {},
   "outputs": [
    {
     "name": "stdout",
     "output_type": "stream",
     "text": [
      "\u001b[32mThat's the right answer!  You are one gold star closer to finding the sleigh keys. [Continue to Part Two]\u001b[0m\n"
     ]
    },
    {
     "data": {
      "text/plain": [
       "<Response [200]>"
      ]
     },
     "execution_count": 16,
     "metadata": {},
     "output_type": "execute_result"
    }
   ],
   "source": [
    "submit(solution_a(data_in),part=\"a\",day=DD, year=YYYY)"
   ]
  },
  {
   "cell_type": "markdown",
   "id": "706ace18",
   "metadata": {},
   "source": [
    "# Teil b"
   ]
  },
  {
   "cell_type": "code",
   "execution_count": 157,
   "id": "97bc6f05",
   "metadata": {},
   "outputs": [],
   "source": [
    "def analyse(data):\n",
    "    p = {}\n",
    "    seg5 = set()\n",
    "    seg6 = set()\n",
    "    for d in data.split():\n",
    "        l = len(d)\n",
    "        if l == 2:\n",
    "            p[1] = frozenset(d)\n",
    "        elif l == 3:\n",
    "            p[7] = frozenset(d)\n",
    "        elif l == 4:\n",
    "            p[4] = frozenset(d)\n",
    "        elif l == 7:\n",
    "            p[8] = frozenset(d)\n",
    "        elif l == 5:\n",
    "            seg5.add(frozenset(d))\n",
    "        elif l == 6:\n",
    "            seg6.add(frozenset(d))\n",
    "    adg = reduce(lambda a,b: a & b, list(seg5))\n",
    "    d = adg & p[4]\n",
    "    p[0] = set(\"abcdefg\") - d\n",
    "    p[3] = adg | p[1]\n",
    "    seg5.remove(p[3])\n",
    "\n",
    "    cfd = p[1] | d\n",
    "    b = p[4] - cfd\n",
    "    p[9] = p[3] | b\n",
    "    seg6.remove(p[9])\n",
    "    seg6.remove(p[0])\n",
    "    p[6] = list(seg6)[0]\n",
    "    p[5] = p[6] & p[9]\n",
    "    seg5.remove(p[5])\n",
    "    p[2] = list(seg5)[0]\n",
    "    return {frozenset(v): k for k, v in p.items()}\n",
    "\n",
    "    \n",
    "def translate(d, p):\n",
    "    r = \"\"\n",
    "    for n in d.split():\n",
    "        r += str(p[frozenset(n)])\n",
    "    return int(r)\n",
    "\n",
    "def solution_b(data):\n",
    "    return sum([translate(b, analyse(a)) for a, b in data])\n"
   ]
  },
  {
   "cell_type": "code",
   "execution_count": 156,
   "id": "fae1d1c9",
   "metadata": {
    "scrolled": true
   },
   "outputs": [
    {
     "data": {
      "text/plain": [
       "61229"
      ]
     },
     "execution_count": 156,
     "metadata": {},
     "output_type": "execute_result"
    }
   ],
   "source": [
    "solution_b(test1)"
   ]
  },
  {
   "cell_type": "code",
   "execution_count": 117,
   "id": "9145d4ca",
   "metadata": {},
   "outputs": [
    {
     "name": "stdout",
     "output_type": "stream",
     "text": [
      "\u001b[32mThat's the right answer!  You are one gold star closer to finding the sleigh keys.You have completed Day 8! You can [Shareon\n",
      "  Twitter\n",
      "Mastodon] this victory or [Return to Your Advent Calendar].\u001b[0m\n"
     ]
    },
    {
     "data": {
      "text/plain": [
       "<Response [200]>"
      ]
     },
     "execution_count": 117,
     "metadata": {},
     "output_type": "execute_result"
    }
   ],
   "source": [
    "submit(solution_b(data_in),part=\"b\",day=DD, year=YYYY)"
   ]
  },
  {
   "cell_type": "code",
   "execution_count": null,
   "id": "f4d9cf19",
   "metadata": {},
   "outputs": [],
   "source": []
  }
 ],
 "metadata": {
  "kernelspec": {
   "display_name": "Python 3 (ipykernel)",
   "language": "python",
   "name": "python3"
  },
  "language_info": {
   "codemirror_mode": {
    "name": "ipython",
    "version": 3
   },
   "file_extension": ".py",
   "mimetype": "text/x-python",
   "name": "python",
   "nbconvert_exporter": "python",
   "pygments_lexer": "ipython3",
   "version": "3.7.11"
  }
 },
 "nbformat": 4,
 "nbformat_minor": 5
}
