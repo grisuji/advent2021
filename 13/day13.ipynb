{
 "cells": [
  {
   "cell_type": "code",
   "execution_count": 15,
   "id": "56b2dd01",
   "metadata": {},
   "outputs": [],
   "source": [
    "from aocd import submit\n",
    "import numpy as np\n",
    "import re\n",
    "from functools import reduce"
   ]
  },
  {
   "cell_type": "code",
   "execution_count": 123,
   "id": "e027d709",
   "metadata": {},
   "outputs": [],
   "source": [
    "YYYY=2021\n",
    "DD=13"
   ]
  },
  {
   "cell_type": "code",
   "execution_count": 99,
   "id": "25fa5b91",
   "metadata": {},
   "outputs": [
    {
     "data": {
      "text/plain": [
       "(array([[ 6, 10],\n",
       "        [ 0, 14],\n",
       "        [ 9, 10],\n",
       "        [ 0,  3],\n",
       "        [10,  4],\n",
       "        [ 4, 11],\n",
       "        [ 6,  0],\n",
       "        [ 6, 12],\n",
       "        [ 4,  1],\n",
       "        [ 0, 13],\n",
       "        [10, 12],\n",
       "        [ 3,  4],\n",
       "        [ 3,  0],\n",
       "        [ 8,  4],\n",
       "        [ 1, 10],\n",
       "        [ 2, 14],\n",
       "        [ 8, 10],\n",
       "        [ 9,  0]]),\n",
       " [('y', 7), ('x', 5)])"
      ]
     },
     "execution_count": 99,
     "metadata": {},
     "output_type": "execute_result"
    }
   ],
   "source": [
    "\n",
    "def split_point(p):\n",
    "    pp = p.split(\",\")\n",
    "    return (int(pp[0]), int(pp[1]))\n",
    "\n",
    "def split_cmd(c):\n",
    "    cc = c.split(\"=\")\n",
    "    return (cc[0][-1], int(cc[1]))\n",
    "    \n",
    "def load(filename):\n",
    "    with open(filename,'r') as f:\n",
    "         lines = [s.rstrip(\"\\n\")  for s in f]\n",
    "    points = np.array([split_point(l) for l in lines if l and not l[0] == \"f\"])\n",
    "    cmds = [split_cmd(l) for l in lines if l and l[0] == \"f\"]\n",
    "    return points, cmds\n",
    "test1 = load(\"test1.dat\")\n",
    "test1"
   ]
  },
  {
   "cell_type": "code",
   "execution_count": 178,
   "id": "2ee85b6c",
   "metadata": {},
   "outputs": [],
   "source": [
    "data_in = load(\"input.dat\")"
   ]
  },
  {
   "cell_type": "markdown",
   "id": "6b6de364",
   "metadata": {},
   "source": [
    "# (col, row)"
   ]
  },
  {
   "cell_type": "markdown",
   "id": "6299ea79",
   "metadata": {},
   "source": [
    "# Teil a"
   ]
  },
  {
   "cell_type": "code",
   "execution_count": 184,
   "id": "7425b5e0",
   "metadata": {},
   "outputs": [],
   "source": [
    "def get_dim(data):\n",
    "    m = np.amax(data,0)\n",
    "    return (m[1]+1, m[0]+1)\n",
    "    \n",
    "def create_image(data):\n",
    "    image = np.zeros(get_dim(data))\n",
    "    #return image\n",
    "    for y,x in data:\n",
    "        image[x][y]=1\n",
    "    return image    \n",
    "\n",
    "def fold(image, line, axis=\"y\"):\n",
    "    if axis == \"y\": # rows\n",
    "        image1 = image[:line]\n",
    "        image2 = image[line+1:]\n",
    "        image1 += image2[::-1]\n",
    "        #print(image1)\n",
    "        #print(image2[::-1])\n",
    "    if axis == \"x\": # rows\n",
    "        image1 = image[:,:line]\n",
    "        image2 = image[:,line+1:]\n",
    "        image1 += image2[:,::-1]\n",
    "        #print(image1)\n",
    "        #print(image2)\n",
    "    return image1\n",
    "        \n",
    "def solution_a(data):\n",
    "    points, cmds = data\n",
    "    image = create_image(points)\n",
    "    cmd=cmds[0]\n",
    "    image = fold(image, line=cmd[1], axis=cmd[0])\n",
    "    return len(np.where(image>0)[0])"
   ]
  },
  {
   "cell_type": "code",
   "execution_count": 185,
   "id": "dec9cd4e",
   "metadata": {},
   "outputs": [
    {
     "data": {
      "text/plain": [
       "array([[1., 0., 1., 1., 0., 0., 1., 0., 0., 1., 0.],\n",
       "       [1., 0., 0., 0., 1., 0., 0., 0., 0., 0., 0.],\n",
       "       [0., 0., 0., 0., 0., 0., 1., 0., 0., 0., 1.],\n",
       "       [1., 0., 0., 0., 1., 0., 0., 0., 0., 0., 0.],\n",
       "       [0., 1., 0., 1., 0., 0., 1., 0., 2., 1., 1.],\n",
       "       [0., 0., 0., 0., 0., 0., 0., 0., 0., 0., 0.],\n",
       "       [0., 0., 0., 0., 0., 0., 0., 0., 0., 0., 0.]])"
      ]
     },
     "execution_count": 185,
     "metadata": {},
     "output_type": "execute_result"
    }
   ],
   "source": [
    "i=create_image(test1[0])\n",
    "fold(i,7)"
   ]
  },
  {
   "cell_type": "code",
   "execution_count": 186,
   "id": "99dc1c1a",
   "metadata": {},
   "outputs": [
    {
     "data": {
      "text/plain": [
       "17"
      ]
     },
     "execution_count": 186,
     "metadata": {},
     "output_type": "execute_result"
    }
   ],
   "source": [
    "solution_a(test1)"
   ]
  },
  {
   "cell_type": "code",
   "execution_count": 187,
   "id": "6cf11ccf",
   "metadata": {},
   "outputs": [
    {
     "name": "stdout",
     "output_type": "stream",
     "text": [
      "Part a already solved with same answer: 814\n"
     ]
    }
   ],
   "source": [
    "submit(solution_a(data_in),part=\"a\",day=DD, year=YYYY)"
   ]
  },
  {
   "cell_type": "markdown",
   "id": "706ace18",
   "metadata": {},
   "source": [
    "# Teil b"
   ]
  },
  {
   "cell_type": "code",
   "execution_count": 198,
   "id": "97bc6f05",
   "metadata": {},
   "outputs": [],
   "source": [
    "def print_image(i):\n",
    "    ii=map(tuple, i.astype(int))\n",
    "    for l in ii:\n",
    "        s = [\" \" if n == 0 else \"#\" for n in l]\n",
    "        print(\"\".join(s))\n",
    "    print(\"-----\")\n",
    "\n",
    "def solution_b(data):\n",
    "    points, cmds = data\n",
    "    image = create_image(points)\n",
    "    for cmd in cmds:\n",
    "        image = fold(image, line=cmd[1], axis=cmd[0])\n",
    "    print_image(image)\n",
    "    return len(np.where(image>0)[0])"
   ]
  },
  {
   "cell_type": "code",
   "execution_count": 199,
   "id": "9175e845",
   "metadata": {},
   "outputs": [
    {
     "name": "stdout",
     "output_type": "stream",
     "text": [
      "#####\n",
      "#   #\n",
      "#   #\n",
      "#   #\n",
      "#####\n",
      "     \n",
      "     \n",
      "-----\n"
     ]
    },
    {
     "data": {
      "text/plain": [
       "16"
      ]
     },
     "execution_count": 199,
     "metadata": {},
     "output_type": "execute_result"
    }
   ],
   "source": [
    "solution_b(test1)"
   ]
  },
  {
   "cell_type": "code",
   "execution_count": 200,
   "id": "fae1d1c9",
   "metadata": {
    "scrolled": true
   },
   "outputs": [
    {
     "name": "stdout",
     "output_type": "stream",
     "text": [
      "###  #### #### #  # ###   ##  #### ###  \n",
      "#  #    # #    #  # #  # #  # #    #  # \n",
      "#  #   #  ###  #### #  # #  # ###  #  # \n",
      "###   #   #    #  # ###  #### #    ###  \n",
      "#    #    #    #  # # #  #  # #    # #  \n",
      "#    #### #### #  # #  # #  # #### #  # \n",
      "-----\n"
     ]
    },
    {
     "data": {
      "text/plain": [
       "108"
      ]
     },
     "execution_count": 200,
     "metadata": {},
     "output_type": "execute_result"
    }
   ],
   "source": [
    "solution_b(data_in)"
   ]
  },
  {
   "cell_type": "code",
   "execution_count": null,
   "id": "9145d4ca",
   "metadata": {},
   "outputs": [],
   "source": [
    "submit(solution_b(data_in),part=\"b\",day=DD, year=YYYY)"
   ]
  },
  {
   "cell_type": "code",
   "execution_count": null,
   "id": "10395e96",
   "metadata": {},
   "outputs": [],
   "source": []
  }
 ],
 "metadata": {
  "kernelspec": {
   "display_name": "Python 3 (ipykernel)",
   "language": "python",
   "name": "python3"
  },
  "language_info": {
   "codemirror_mode": {
    "name": "ipython",
    "version": 3
   },
   "file_extension": ".py",
   "mimetype": "text/x-python",
   "name": "python",
   "nbconvert_exporter": "python",
   "pygments_lexer": "ipython3",
   "version": "3.7.11"
  }
 },
 "nbformat": 4,
 "nbformat_minor": 5
}
