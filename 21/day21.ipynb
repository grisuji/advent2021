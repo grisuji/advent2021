{
 "cells": [
  {
   "cell_type": "code",
   "execution_count": 1,
   "id": "56b2dd01",
   "metadata": {},
   "outputs": [],
   "source": [
    "from aocd import submit\n",
    "import numpy as np\n",
    "import re"
   ]
  },
  {
   "cell_type": "code",
   "execution_count": 2,
   "id": "e027d709",
   "metadata": {},
   "outputs": [],
   "source": [
    "YYYY=2021\n",
    "DD=21"
   ]
  },
  {
   "cell_type": "code",
   "execution_count": 134,
   "id": "7f327272",
   "metadata": {},
   "outputs": [],
   "source": [
    "test1=(4,8)"
   ]
  },
  {
   "cell_type": "code",
   "execution_count": 51,
   "id": "2ee85b6c",
   "metadata": {},
   "outputs": [],
   "source": [
    "data_in = (7,6)"
   ]
  },
  {
   "cell_type": "markdown",
   "id": "6299ea79",
   "metadata": {},
   "source": [
    "# Teil a"
   ]
  },
  {
   "cell_type": "code",
   "execution_count": 54,
   "id": "7425b5e0",
   "metadata": {},
   "outputs": [],
   "source": [
    "def dice(s, vmax):\n",
    "    v = s % vmax \n",
    "    return v if v > 0 else vmax\n",
    "\n",
    "def move(pos, vmax):\n",
    "    v = pos%vmax\n",
    "    return v if v > 0 else vmax \n",
    "\n",
    "def turn(n, pos):\n",
    "    m = 1+(n-1)*3\n",
    "    #s=0\n",
    "    for i in range(3):\n",
    "        dice = m + i\n",
    "        pos = move(pos + dice, 10)\n",
    "        #print(pos)\n",
    "        #s += pos\n",
    "    return pos\n",
    "        \n",
    "def solution_a(data):\n",
    "    p1, p2 = data\n",
    "    s1, s2 = 0,0\n",
    "    active, passive = 2,1\n",
    "    for m in range(1,1000):\n",
    "        active, passive = passive, active\n",
    "        if active == 1:\n",
    "            p1 = turn(m,p1)\n",
    "            s1 += p1\n",
    "            if s1 >= 1000:\n",
    "                return s2*m*3\n",
    "        else:\n",
    "            p2 = turn(m,p2)\n",
    "            s2 += p2\n",
    "            if s2 >= 1000:\n",
    "                return s1*m*3\n",
    "        \n",
    "        "
   ]
  },
  {
   "cell_type": "code",
   "execution_count": 137,
   "id": "dec9cd4e",
   "metadata": {},
   "outputs": [
    {
     "data": {
      "text/plain": [
       "739785"
      ]
     },
     "execution_count": 137,
     "metadata": {},
     "output_type": "execute_result"
    }
   ],
   "source": [
    "solution_a(test1)"
   ]
  },
  {
   "cell_type": "code",
   "execution_count": 53,
   "id": "6cf11ccf",
   "metadata": {},
   "outputs": [
    {
     "name": "stdout",
     "output_type": "stream",
     "text": [
      "\u001b[32mThat's the right answer!  You are one gold star closer to finding the sleigh keys. [Continue to Part Two]\u001b[0m\n"
     ]
    },
    {
     "data": {
      "text/plain": [
       "<Response [200]>"
      ]
     },
     "execution_count": 53,
     "metadata": {},
     "output_type": "execute_result"
    }
   ],
   "source": [
    "submit(solution_a(data_in),part=\"a\",day=DD, year=YYYY)"
   ]
  },
  {
   "cell_type": "markdown",
   "id": "706ace18",
   "metadata": {},
   "source": [
    "# Teil b"
   ]
  },
  {
   "cell_type": "code",
   "execution_count": 145,
   "id": "97bc6f05",
   "metadata": {},
   "outputs": [],
   "source": [
    "def dice(s):\n",
    "    v = s % 3 \n",
    "    return v if v > 0 else 3\n",
    "\n",
    "def qdice():\n",
    "    r = {}\n",
    "    for i in (1,2,3):\n",
    "        for j in (1,2,3):\n",
    "            for k in (1,2,3):\n",
    "                v = i+j+k\n",
    "                r[v] = r.get(v,0)+1\n",
    "    return r\n",
    "\n",
    "def move(pos, vmax):\n",
    "    v = pos%vmax\n",
    "    return v if v > 0 else vmax \n",
    "\n",
    "def turn(n, pos):\n",
    "    m = 1+(n-1)*3\n",
    "    #s=0\n",
    "    for i in range(3):\n",
    "        dice = m + i\n",
    "        pos = move(pos + dice, 10)\n",
    "        #print(pos)\n",
    "        #s += pos\n",
    "    return pos\n",
    "        \n",
    "# state is  pos1, score1, pos2, score2 -> count\n",
    "# for every position, score add a dice\n",
    "def solution_b(data):\n",
    "    games = {}\n",
    "    games[(data[0],0,data[1],0)] = 1\n",
    "    active, passive = 2,1\n",
    "    w1 = 0\n",
    "    w2 = 0\n",
    "    for m in range(1,20):\n",
    "        active, passive = passive, active\n",
    "        open_game = False\n",
    "        if active == 1:\n",
    "            new_r = {}\n",
    "            for p, count in games.items():\n",
    "                pos1, score1, pos2, score2 = p\n",
    "                for v, n in qdice().items():\n",
    "                    new_pos = move(pos1+v,10)\n",
    "                    new_score = score1+new_pos\n",
    "                    if new_score >= 21:\n",
    "                        w1 += (count*n)\n",
    "                    else:\n",
    "                        open_game = True\n",
    "                        state = (new_pos, new_score, pos2, score2)\n",
    "                        new_r[state] = new_r.get(state,0)+(count*n)\n",
    "            games = new_r\n",
    "            if not open_game:\n",
    "                break \n",
    "        open_game = False\n",
    "        if active == 2:\n",
    "            new_r = {}\n",
    "            for p, count in games.items():\n",
    "                pos1, score1, pos2, score2 = p\n",
    "                for v, n in qdice().items():\n",
    "                    new_pos = move(pos2+v,10)\n",
    "                    new_score = score2+new_pos\n",
    "                    if new_score >= 21:\n",
    "                        w2 += (count*n)\n",
    "                    else: \n",
    "                        open_game = True\n",
    "                        state = (pos1, score1, new_pos, new_score)\n",
    "                        new_r[state] = new_r.get(state,0)+(count*n)\n",
    "            games = new_r\n",
    "            if not open_game:\n",
    "                break \n",
    "    return max(w1,w2)\n",
    "\n",
    "                \n"
   ]
  },
  {
   "cell_type": "code",
   "execution_count": 146,
   "id": "fae1d1c9",
   "metadata": {},
   "outputs": [
    {
     "data": {
      "text/plain": [
       "444356092776315"
      ]
     },
     "execution_count": 146,
     "metadata": {},
     "output_type": "execute_result"
    }
   ],
   "source": [
    "solution_b(test1)"
   ]
  },
  {
   "cell_type": "code",
   "execution_count": 147,
   "id": "9145d4ca",
   "metadata": {},
   "outputs": [
    {
     "name": "stdout",
     "output_type": "stream",
     "text": [
      "Part b already solved with same answer: 912857726749764\n"
     ]
    }
   ],
   "source": [
    "submit(solution_b(data_in),part=\"b\",day=DD, year=YYYY)"
   ]
  }
 ],
 "metadata": {
  "kernelspec": {
   "display_name": "Python 3 (ipykernel)",
   "language": "python",
   "name": "python3"
  },
  "language_info": {
   "codemirror_mode": {
    "name": "ipython",
    "version": 3
   },
   "file_extension": ".py",
   "mimetype": "text/x-python",
   "name": "python",
   "nbconvert_exporter": "python",
   "pygments_lexer": "ipython3",
   "version": "3.7.11"
  }
 },
 "nbformat": 4,
 "nbformat_minor": 5
}
