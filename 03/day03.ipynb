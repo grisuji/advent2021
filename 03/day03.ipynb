{
 "cells": [
  {
   "cell_type": "code",
   "execution_count": 1,
   "id": "56b2dd01",
   "metadata": {},
   "outputs": [],
   "source": [
    "from aocd import submit\n",
    "import numpy as np\n",
    "import re"
   ]
  },
  {
   "cell_type": "code",
   "execution_count": 2,
   "id": "e027d709",
   "metadata": {},
   "outputs": [],
   "source": [
    "YYYY=2021\n",
    "DD=3"
   ]
  },
  {
   "cell_type": "code",
   "execution_count": 5,
   "id": "25fa5b91",
   "metadata": {},
   "outputs": [
    {
     "data": {
      "text/plain": [
       "['00100',\n",
       " '11110',\n",
       " '10110',\n",
       " '10111',\n",
       " '10101',\n",
       " '01111',\n",
       " '00111',\n",
       " '11100',\n",
       " '10000',\n",
       " '11001',\n",
       " '00010',\n",
       " '01010']"
      ]
     },
     "execution_count": 5,
     "metadata": {},
     "output_type": "execute_result"
    }
   ],
   "source": [
    "def load(filename):\n",
    "    with open(filename,'r') as f:\n",
    "         lines = [s.rstrip(\"\\n\")  for s in f]\n",
    "    return lines\n",
    "test1 = load(\"test1.dat\")\n",
    "test1"
   ]
  },
  {
   "cell_type": "code",
   "execution_count": 6,
   "id": "174bd461",
   "metadata": {},
   "outputs": [],
   "source": [
    "data_in = load(\"input.dat\")"
   ]
  },
  {
   "cell_type": "markdown",
   "id": "6299ea79",
   "metadata": {},
   "source": [
    "# Teil a"
   ]
  },
  {
   "cell_type": "code",
   "execution_count": 47,
   "id": "11f36d7f",
   "metadata": {},
   "outputs": [],
   "source": [
    "def commons(data):\n",
    "    l = len(data[0])\n",
    "    count=[0]*l\n",
    "    for b in data:\n",
    "        for i in range(l):\n",
    "            ii = 1 if b[i] == \"1\" else -1\n",
    "            count[i] += ii\n",
    "    mc = \"\"\n",
    "    lc = \"\"\n",
    "    for i in range(l):\n",
    "        mc += \"1\" if count[i] >= 0 else \"0\"\n",
    "        lc += \"0\" if count[i] >= 0 else \"1\"\n",
    "    return mc, lc\n",
    "\n",
    "def solution_a(data):\n",
    "    mc, lc = commons(data)\n",
    "    return  int(mc,2)*int(lc,2)"
   ]
  },
  {
   "cell_type": "code",
   "execution_count": 48,
   "id": "003e64e0",
   "metadata": {},
   "outputs": [
    {
     "data": {
      "text/plain": [
       "198"
      ]
     },
     "execution_count": 48,
     "metadata": {},
     "output_type": "execute_result"
    }
   ],
   "source": [
    "solution_a(test1)"
   ]
  },
  {
   "cell_type": "code",
   "execution_count": 35,
   "id": "6cf11ccf",
   "metadata": {},
   "outputs": [
    {
     "name": "stdout",
     "output_type": "stream",
     "text": [
      "\u001b[32mThat's the right answer!  You are one gold star closer to finding the sleigh keys. [Continue to Part Two]\u001b[0m\n"
     ]
    },
    {
     "data": {
      "text/plain": [
       "<Response [200]>"
      ]
     },
     "execution_count": 35,
     "metadata": {},
     "output_type": "execute_result"
    }
   ],
   "source": [
    "submit(solution_a(data_in),part=\"a\",day=DD, year=YYYY)"
   ]
  },
  {
   "cell_type": "markdown",
   "id": "706ace18",
   "metadata": {},
   "source": [
    "# Teil b"
   ]
  },
  {
   "cell_type": "code",
   "execution_count": 49,
   "id": "37dd8baf",
   "metadata": {},
   "outputs": [],
   "source": [
    "def filter_data(data, c, i):\n",
    "    result = []\n",
    "    for d in data:\n",
    "        if d[i] == c[i]:\n",
    "            result.append(d)\n",
    "    return result\n",
    "\n",
    "def solution_b(data):\n",
    "    l = len(data[0])\n",
    "    o2, co2 = data[:], data[:]\n",
    "    for i in range(l):\n",
    "        if len(o2) > 1:\n",
    "            mc, lc = commons(o2)\n",
    "            o2 = filter_data(o2, mc, i)\n",
    "        if len(co2) > 1:\n",
    "            mc, lc = commons(co2)\n",
    "            co2 = filter_data(co2, lc, i)\n",
    "    return int(o2[0],2) * int(co2[0],2)"
   ]
  },
  {
   "cell_type": "code",
   "execution_count": 50,
   "id": "e3da94f2",
   "metadata": {},
   "outputs": [
    {
     "data": {
      "text/plain": [
       "230"
      ]
     },
     "execution_count": 50,
     "metadata": {},
     "output_type": "execute_result"
    }
   ],
   "source": [
    "solution_b(test1)"
   ]
  },
  {
   "cell_type": "code",
   "execution_count": 46,
   "id": "9145d4ca",
   "metadata": {},
   "outputs": [
    {
     "name": "stdout",
     "output_type": "stream",
     "text": [
      "\u001b[32mThat's the right answer!  You are one gold star closer to finding the sleigh keys.You have completed Day 3! You can [Shareon\n",
      "  Twitter\n",
      "Mastodon] this victory or [Return to Your Advent Calendar].\u001b[0m\n"
     ]
    },
    {
     "data": {
      "text/plain": [
       "<Response [200]>"
      ]
     },
     "execution_count": 46,
     "metadata": {},
     "output_type": "execute_result"
    }
   ],
   "source": [
    "submit(solution_b(data_in),part=\"b\",day=DD, year=YYYY)"
   ]
  },
  {
   "cell_type": "code",
   "execution_count": null,
   "id": "9d52bbaf",
   "metadata": {},
   "outputs": [],
   "source": []
  }
 ],
 "metadata": {
  "kernelspec": {
   "display_name": "Python 3 (ipykernel)",
   "language": "python",
   "name": "python3"
  },
  "language_info": {
   "codemirror_mode": {
    "name": "ipython",
    "version": 3
   },
   "file_extension": ".py",
   "mimetype": "text/x-python",
   "name": "python",
   "nbconvert_exporter": "python",
   "pygments_lexer": "ipython3",
   "version": "3.7.11"
  }
 },
 "nbformat": 4,
 "nbformat_minor": 5
}
