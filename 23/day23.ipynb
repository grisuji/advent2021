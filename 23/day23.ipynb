{
 "cells": [
  {
   "cell_type": "code",
   "execution_count": 155,
   "id": "56b2dd01",
   "metadata": {},
   "outputs": [],
   "source": [
    "from aocd import submit\n",
    "import numpy as np\n",
    "import re\n",
    "import sys"
   ]
  },
  {
   "cell_type": "code",
   "execution_count": 325,
   "id": "e4dad71a",
   "metadata": {},
   "outputs": [
    {
     "name": "stdout",
     "output_type": "stream",
     "text": [
      "5000\n"
     ]
    }
   ],
   "source": [
    "print(sys.getrecursionlimit())\n",
    "sys.setrecursionlimit(5000)"
   ]
  },
  {
   "cell_type": "code",
   "execution_count": 2,
   "id": "e027d709",
   "metadata": {},
   "outputs": [],
   "source": [
    "YYYY=2021\n",
    "DD=23"
   ]
  },
  {
   "cell_type": "code",
   "execution_count": 5,
   "id": "25fa5b91",
   "metadata": {},
   "outputs": [
    {
     "data": {
      "text/plain": [
       "['#############',\n",
       " '#...........#',\n",
       " '###B#C#B#D###',\n",
       " '  #A#D#C#A#',\n",
       " '  #########']"
      ]
     },
     "execution_count": 5,
     "metadata": {},
     "output_type": "execute_result"
    }
   ],
   "source": [
    "def load(filename):\n",
    "    with open(filename, \"r\") as f:\n",
    "        lines = [l.rstrip(\"\\n\") for l in f]\n",
    "    return lines\n",
    "test1 = load(\"test1.dat\")\n",
    "test1"
   ]
  },
  {
   "cell_type": "code",
   "execution_count": 259,
   "id": "2ee85b6c",
   "metadata": {},
   "outputs": [],
   "source": [
    "data_in = load(\"input.dat\")\n",
    "data_in2 = load(\"input2.dat\")"
   ]
  },
  {
   "cell_type": "code",
   "execution_count": 260,
   "id": "a8985caa",
   "metadata": {},
   "outputs": [
    {
     "data": {
      "text/plain": [
       "['#############',\n",
       " '#...........#',\n",
       " '###B#C#A#D###',\n",
       " '  #D#C#B#A#',\n",
       " '  #D#B#A#C#',\n",
       " '  #B#C#D#A#',\n",
       " '  #########']"
      ]
     },
     "execution_count": 260,
     "metadata": {},
     "output_type": "execute_result"
    }
   ],
   "source": [
    "data_in2"
   ]
  },
  {
   "cell_type": "markdown",
   "id": "6299ea79",
   "metadata": {},
   "source": [
    "# Teil a"
   ]
  },
  {
   "cell_type": "code",
   "execution_count": 391,
   "id": "db0eea68",
   "metadata": {},
   "outputs": [],
   "source": [
    "def read_conf(config):\n",
    "    free=[]\n",
    "    x = [(1, 3),(1, 5),(1, 7),(1, 9)] # RULE1\n",
    "    a,b,c,d=[],[],[],[]\n",
    "    for i, row in enumerate(config):\n",
    "        for j,col in enumerate(row):\n",
    "            if col == \".\":\n",
    "                free.append((i,j))\n",
    "            elif col == \"A\":\n",
    "                a.append((i,j))\n",
    "            elif col == \"B\":\n",
    "                b.append((i,j))\n",
    "            elif col == \"C\":\n",
    "                c.append((i,j))\n",
    "            elif col == \"D\":\n",
    "                d.append((i,j))\n",
    "    conf ={\"flur\": free[:], \"free\": free, \"A\":a,\"B\":b,\"C\":c,\"D\":d, \"X\":x}\n",
    "    \n",
    "    conf[\"HA\"] = [(2, 3), (3, 3)]\n",
    "    conf[\"HB\"] = [(2, 5), (3, 5)]\n",
    "    conf[\"HC\"] = [(2, 7), (3, 7)]\n",
    "    conf[\"HD\"] = [(2, 9), (3, 9)]\n",
    "\n",
    "    return conf\n",
    "\n",
    "def clean(c):\n",
    "    for i, x in enumerate([\"A\",\"B\",\"C\",\"D\"]):\n",
    "        if (3,3+(i*2)) in c[x] and len(c[x]) == 2:\n",
    "            c[x].remove((3,3+(i*2)))\n",
    "        if (2,3+(i*2)) in c[x] and len(c[x]) == 1:\n",
    "            c[x].remove((2,3+(i*2)))\n",
    "\n",
    "def clean2(c):\n",
    "    if (3,3) in c[\"A\"]:\n",
    "        c[\"A\"].remove((3,3))\n",
    "    if (2,3) in c[\"A\"] and len(c[\"A\"]) == 1:\n",
    "        c[\"A\"].remove((2,3))\n",
    "    if (3,5) in c[\"B\"]:\n",
    "        c[\"B\"].remove((3,5))\n",
    "    if (2,5) in c[\"B\"] and len(c[\"B\"]) == 1:\n",
    "        c[\"B\"].remove((2,5))\n",
    "    if (3,7) in c[\"C\"]:\n",
    "        c[\"C\"].remove((3,7))\n",
    "    if (2,7) in c[\"C\"] and len(c[\"C\"]) == 1:\n",
    "        c[\"C\"].remove((2,7))\n",
    "    if (3,9) in c[\"D\"]:\n",
    "        c[\"D\"].remove((3,9))\n",
    "    if (2,9) in c[\"D\"] and len(c[\"D\"]) == 1:\n",
    "        c[\"D\"].remove((2,9))\n",
    "\n",
    "def finish(c):\n",
    "    for x in [\"A\", \"B\", \"C\", \"D\"]:\n",
    "        if len(c[x]) > 0:\n",
    "            return False\n",
    "    return True\n",
    "\n",
    "def get_neighbour_space(pos, config, visited, steps):\n",
    "    x,y=pos\n",
    "    for n in [(x-1, y),(x+1,y),(x,y-1),(x,y+1)]:\n",
    "        if (n in visited and visited[n] <=steps+1) or n not in config[\"free\"]:\n",
    "            continue\n",
    "        visited[n]=steps+1\n",
    "        get_neighbour_space(n, config, visited, steps+1)\n",
    "\n",
    "def move(c, pos1, pos2, steps):\n",
    "    for i, x in enumerate([\"A\", \"B\", \"C\", \"D\"]):\n",
    "        cps = 10**i #costs per step\n",
    "        if pos1 in c[x] and pos2 not in c[\"X\"]:\n",
    "            c[x].remove(pos1)\n",
    "            c[\"free\"].append(pos1)\n",
    "            c[x].append(pos2)\n",
    "            c[\"free\"].remove(pos2)\n",
    "            return steps*cps\n",
    "    return 10000\n",
    "\n",
    "def get_amphis(c):\n",
    "    l = []\n",
    "    l += c[\"A\"]\n",
    "    l += c[\"B\"]\n",
    "    l += c[\"C\"]\n",
    "    l += c[\"D\"]\n",
    "    return l\n",
    "\n",
    "def get_type(a,c):\n",
    "    for x in [\"A\", \"B\", \"C\", \"D\"]:\n",
    "        if a in c[x]:\n",
    "            return x\n",
    "    return \"Free\"\n",
    "\n",
    "def homebase(t, pos, c):\n",
    "    if pos in c[\"flur\"]:\n",
    "        return False\n",
    "    return pos in c[\"H\"+t] and sideroom_free(t, c) and check_hb(t,pos,c)\n",
    "\n",
    "def sideroom_free(t, c):\n",
    "    for p in c[\"H\"+t]:\n",
    "        tt = get_type(p,c)\n",
    "        if tt != \"Free\" and tt != t:\n",
    "            return False\n",
    "    return True\n",
    "    \n",
    "    \n",
    "def get_moves(c):\n",
    "    moves = {}\n",
    "    amphis = get_amphis(c)\n",
    "    for a in amphis:\n",
    "        vorschlag = {}\n",
    "        get_neighbour_space(a, c, vorschlag, 0)\n",
    "        m = {}\n",
    "        t = get_type(a, c)\n",
    "        #p = get_lowest(t, c)\n",
    "        for pos2, s in vorschlag.items():\n",
    "            if homebase(t, pos2, c): # immediately jump home if possible\n",
    "         #       if pos2 == p:\n",
    "                return {a:{pos2:s}}\n",
    "                \n",
    "            if a in c[\"flur\"] and pos2 in c[\"flur\"]:\n",
    "                continue # no moves on the floor\n",
    "            #if not homebase(a, pos2,c):\n",
    "            #    continue # dont go in wrong homebse\n",
    "            if a in c[\"flur\"] and not homebase(t, pos2, c):\n",
    "                continue\n",
    "            if (a not in c[\"flur\"] and not homebase(t, pos2, c)) and pos2 not in c[\"flur\"]:\n",
    "                continue\n",
    "            if pos2 in c[\"X\"]:\n",
    "                continue\n",
    "            m[pos2] = s\n",
    "        moves[a] = m\n",
    "    return moves\n",
    "\n",
    "def get_lowest(t, c):\n",
    "    for p in c[\"H\"+t][::-1]:\n",
    "        tt = get_type(p,c)\n",
    "        if tt == \"Free\":\n",
    "            return p\n",
    "    return (0,0)\n",
    "\n",
    "def check_hb(t,pos,c):\n",
    "    i = \"ABCD\".find(t)\n",
    "    if (3,3+(i*2)) == pos and len(c[t]) == 2:\n",
    "        return True\n",
    "    if (2,3+(i*2)) == pos and len(c[t]) == 1:\n",
    "        return True\n",
    "    return False\n",
    "\n",
    "\n",
    "def play(config, costs, s=0):\n",
    "    if s > 50:\n",
    "        return 33000\n",
    "    clean(config)\n",
    "    if costs > 33000:\n",
    "        return costs\n",
    "    if finish(config):\n",
    "        #print(\"OK\")\n",
    "        return costs\n",
    "    best = 33000\n",
    "    clean(config)\n",
    "    moves = get_moves(config)\n",
    "    if len(moves) == 0:\n",
    "        #print(\"ERR\")\n",
    "        return best\n",
    "    for pos1, dest in get_moves(config).items():\n",
    "        for pos2, steps in dest.items():\n",
    "            c = {key: value[:] for key, value in config.items()}\n",
    "            m_cost = move(c, pos1,pos2, steps)\n",
    "            #print(f\"move {pos1, pos2}\")\n",
    "            #print(c)\n",
    "            new_costs = play(c, costs + m_cost, s+1)\n",
    "            #print(f\"{new_costs} {costs} + {m_cost}\")\n",
    "            if new_costs < best:\n",
    "                best = new_costs\n",
    "    #print(best)\n",
    "    return best"
   ]
  },
  {
   "cell_type": "code",
   "execution_count": 392,
   "id": "7425b5e0",
   "metadata": {},
   "outputs": [],
   "source": [
    "def solution_a(data):\n",
    "    conf = read_conf(data)\n",
    "    return play(conf,0)"
   ]
  },
  {
   "cell_type": "code",
   "execution_count": 393,
   "id": "6b3daa64",
   "metadata": {},
   "outputs": [
    {
     "data": {
      "text/plain": [
       "{(2, 5): {(2, 7): 4}}"
      ]
     },
     "execution_count": 393,
     "metadata": {},
     "output_type": "execute_result"
    }
   ],
   "source": [
    "conf = read_conf(test1)\n",
    "move(conf, (2,7), (1,4), 4)\n",
    "clean(conf)\n",
    "get_moves(conf)\n",
    "#conf"
   ]
  },
  {
   "cell_type": "code",
   "execution_count": 394,
   "id": "dec9cd4e",
   "metadata": {},
   "outputs": [
    {
     "data": {
      "text/plain": [
       "12521"
      ]
     },
     "execution_count": 394,
     "metadata": {},
     "output_type": "execute_result"
    }
   ],
   "source": [
    "solution_a(test1)"
   ]
  },
  {
   "cell_type": "code",
   "execution_count": null,
   "id": "992b6874",
   "metadata": {},
   "outputs": [],
   "source": [
    "solution_a(data_in)"
   ]
  },
  {
   "cell_type": "code",
   "execution_count": 252,
   "id": "6cf11ccf",
   "metadata": {},
   "outputs": [
    {
     "name": "stdout",
     "output_type": "stream",
     "text": [
      "\u001b[32mThat's the right answer!  You are one gold star closer to finding the sleigh keys. [Continue to Part Two]\u001b[0m\n"
     ]
    },
    {
     "data": {
      "text/plain": [
       "<Response [200]>"
      ]
     },
     "execution_count": 252,
     "metadata": {},
     "output_type": "execute_result"
    }
   ],
   "source": [
    "submit(solution_a(data_in),part=\"a\",day=DD, year=YYYY)"
   ]
  },
  {
   "cell_type": "markdown",
   "id": "706ace18",
   "metadata": {},
   "source": [
    "# Teil b"
   ]
  },
  {
   "cell_type": "code",
   "execution_count": 399,
   "id": "11b1889b",
   "metadata": {},
   "outputs": [],
   "source": [
    "def read_conf(config):\n",
    "    free=[]\n",
    "    x = [(1, 3),(1, 5),(1, 7),(1, 9)] # RULE1\n",
    "    a,b,c,d=[],[],[],[]\n",
    "    for i, row in enumerate(config):\n",
    "        for j,col in enumerate(row):\n",
    "            if col == \".\":\n",
    "                free.append((i,j))\n",
    "            elif col == \"A\":\n",
    "                a.append((i,j))\n",
    "            elif col == \"B\":\n",
    "                b.append((i,j))\n",
    "            elif col == \"C\":\n",
    "                c.append((i,j))\n",
    "            elif col == \"D\":\n",
    "                d.append((i,j))\n",
    "    conf ={\"flur\": free[:], \"free\": free, \"A\":a,\"B\":b,\"C\":c,\"D\":d, \"X\":x}\n",
    "    \n",
    "    conf[\"HA\"] = [(2, 3), (3, 3), (4, 3), (5, 3)]\n",
    "    conf[\"HB\"] = [(2, 5), (3, 5), (4, 5), (5, 5)]\n",
    "    conf[\"HC\"] = [(2, 7), (3, 7), (4, 7), (5, 7)]\n",
    "    conf[\"HD\"] = [(2, 9), (3, 9), (4, 9), (5, 9)]\n",
    "\n",
    "    return conf\n",
    "\n",
    "def clean(c):\n",
    "    for i, x in enumerate([\"A\",\"B\",\"C\",\"D\"]):\n",
    "        c[x].sort()\n",
    "        if (5,3+(i*2)) in c[x]:\n",
    "            c[x].remove((5,3+(i*2)))\n",
    "        if (4,3+(i*2)) in c[x] and len(c[x]) == 3:\n",
    "            c[x].remove((4,3+(i*2)))\n",
    "        if (3,3+(i*2)) in c[x] and len(c[x]) == 2:\n",
    "            c[x].remove((3,3+(i*2)))\n",
    "        if (2,3+(i*2)) in c[x] and len(c[x]) == 1:\n",
    "            c[x].remove((2,3+(i*2)))\n",
    "\n",
    "def check_hb(t, pos, c):\n",
    "    i = \"ABCD\".find(t)\n",
    "    if (5,3+(i*2)) == pos and len(c[t]) == 4:\n",
    "        return True\n",
    "    if (4,3+(i*2)) == pos and len(c[t]) == 3:\n",
    "        return True\n",
    "    if (3,3+(i*2)) == pos and len(c[t]) == 2:\n",
    "        return True\n",
    "    if (2,3+(i*2)) == pos and len(c[t]) == 1:\n",
    "        return True\n",
    "    return False\n",
    "\n",
    "def finish(c):\n",
    "    for x in [\"A\", \"B\", \"C\", \"D\"]:\n",
    "        if len(c[x]) > 0:\n",
    "            return False\n",
    "    return True\n",
    "\n",
    "def get_neighbour_space(pos, config, visited, steps):\n",
    "    x,y=pos\n",
    "    for n in [(x-1, y),(x+1,y),(x,y-1),(x,y+1)]:\n",
    "        if (n in visited and visited[n] <=steps+1) or n not in config[\"free\"]:\n",
    "            continue\n",
    "        visited[n]=steps+1\n",
    "        get_neighbour_space(n, config, visited, steps+1)\n",
    "\n",
    "def move(c, pos1, pos2, steps):\n",
    "    for i, x in enumerate([\"A\", \"B\", \"C\", \"D\"]):\n",
    "        cps = 10**i #costs per step\n",
    "        if pos1 in c[x] and pos2 not in c[\"X\"]:\n",
    "            c[x].remove(pos1)\n",
    "            c[\"free\"].append(pos1)\n",
    "            c[x].append(pos2)\n",
    "            c[\"free\"].remove(pos2)\n",
    "            return steps*cps\n",
    "    return 10000\n",
    "\n",
    "def get_amphis(c):\n",
    "    l = []\n",
    "    l += c[\"A\"]\n",
    "    l += c[\"B\"]\n",
    "    l += c[\"C\"]\n",
    "    l += c[\"D\"]\n",
    "    return l\n",
    "\n",
    "def get_type(a,c):\n",
    "    for x in [\"A\", \"B\", \"C\", \"D\"]:\n",
    "        if a in c[x]:\n",
    "            return x\n",
    "    return \"Free\"\n",
    "\n",
    "def homebase(t, pos, c):\n",
    "    if pos in c[\"flur\"]:\n",
    "        return False\n",
    "    return pos in c[\"H\"+t] and sideroom_free(t, c) and check_hb(t,pos,c)\n",
    "\n",
    "def sideroom_free(t, c):\n",
    "    for p in c[\"H\"+t]:\n",
    "        tt = get_type(p,c)\n",
    "        if tt != \"Free\" and tt != t:\n",
    "            return False\n",
    "    return True\n",
    "\n",
    "def get_lowest(t, c):\n",
    "    for p in c[\"H\"+t][::-1]:\n",
    "        tt = get_type(p,c)\n",
    "        if tt == \"Free\":\n",
    "            return p\n",
    "    return (0,0)\n",
    "\n",
    "    \n",
    "    \n",
    "def get_moves(c):\n",
    "    moves = {}\n",
    "    amphis = get_amphis(c)\n",
    "    for a in amphis:\n",
    "        vorschlag = {}\n",
    "        get_neighbour_space(a, c, vorschlag, 0)\n",
    "        #vorschlag = {k: v for k, v in sorted(vorschlag.items(), key=lambda item: item[1])}\n",
    "        m = {}\n",
    "        t = get_type(a, c)\n",
    "        #p = get_lowest(t, c)\n",
    "        for pos2, s in vorschlag.items():\n",
    "            if homebase(t, pos2, c): # immediately jump home if possible\n",
    "                #if pos2 == p:\n",
    "                return {a:{pos2:s}}\n",
    "            if a in c[\"flur\"] and pos2 in c[\"flur\"]:\n",
    "                continue # no moves on the floor\n",
    "            if a in c[\"flur\"] and not homebase(t, pos2, c):\n",
    "                continue\n",
    "            if (a not in c[\"flur\"] and not homebase(t, pos2, c)) and pos2 not in c[\"flur\"]:\n",
    "                continue\n",
    "            if pos2 in c[\"X\"]:\n",
    "                continue\n",
    "            m[pos2] = s\n",
    "        moves[a] = m\n",
    "    return moves\n",
    "\n",
    "def play(config, costs, s=1):\n",
    "    if s > 100:\n",
    "        return 80000\n",
    "    clean(config)\n",
    "    if costs > 80000:\n",
    "        return costs\n",
    "    if finish(config):\n",
    "        print(f\"OK  {costs}\")\n",
    "        return costs\n",
    "    best = 80000\n",
    "    moves = get_moves(config)\n",
    "    if len(moves) == 0:\n",
    "        #print(\"ERR\")\n",
    "        return best\n",
    "    for pos1, dest in get_moves(config).items():\n",
    "        for pos2, steps in dest.items():\n",
    "            c = {key: value[:] for key, value in config.items()}\n",
    "            m_cost = move(c, pos1,pos2, steps)\n",
    "            new_costs = play(c, costs + m_cost, s+1)\n",
    "            if new_costs < best:\n",
    "                best = new_costs\n",
    "    return best"
   ]
  },
  {
   "cell_type": "code",
   "execution_count": 400,
   "id": "97bc6f05",
   "metadata": {},
   "outputs": [],
   "source": [
    "def solution_b(data):\n",
    "    conf = read_conf(data)\n",
    "    print(data)\n",
    "    return play(conf,0)"
   ]
  },
  {
   "cell_type": "code",
   "execution_count": 401,
   "id": "fae1d1c9",
   "metadata": {
    "scrolled": true
   },
   "outputs": [
    {
     "data": {
      "text/plain": [
       "{'flur': [(1, 1),\n",
       "  (1, 2),\n",
       "  (1, 3),\n",
       "  (1, 4),\n",
       "  (1, 5),\n",
       "  (1, 6),\n",
       "  (1, 7),\n",
       "  (1, 8),\n",
       "  (1, 9),\n",
       "  (1, 10),\n",
       "  (1, 11)],\n",
       " 'free': [(1, 1),\n",
       "  (1, 2),\n",
       "  (1, 3),\n",
       "  (1, 4),\n",
       "  (1, 5),\n",
       "  (1, 6),\n",
       "  (1, 7),\n",
       "  (1, 8),\n",
       "  (1, 9),\n",
       "  (1, 10),\n",
       "  (1, 11)],\n",
       " 'A': [(2, 7), (3, 9), (4, 7), (5, 9)],\n",
       " 'B': [(2, 3), (3, 7), (4, 5), (5, 3)],\n",
       " 'C': [(2, 5), (3, 5), (4, 9), (5, 5)],\n",
       " 'D': [(2, 9), (3, 3), (4, 3), (5, 7)],\n",
       " 'X': [(1, 3), (1, 5), (1, 7), (1, 9)],\n",
       " 'HA': [(2, 3), (3, 3), (4, 3), (5, 3)],\n",
       " 'HB': [(2, 5), (3, 5), (4, 5), (5, 5)],\n",
       " 'HC': [(2, 7), (3, 7), (4, 7), (5, 7)],\n",
       " 'HD': [(2, 9), (3, 9), (4, 9), (5, 9)]}"
      ]
     },
     "execution_count": 401,
     "metadata": {},
     "output_type": "execute_result"
    }
   ],
   "source": [
    "c=read_conf(data_in2)\n",
    "c"
   ]
  },
  {
   "cell_type": "code",
   "execution_count": null,
   "id": "2027c360",
   "metadata": {},
   "outputs": [
    {
     "name": "stdout",
     "output_type": "stream",
     "text": [
      "['#############', '#...........#', '###B#C#A#D###', '  #D#C#B#A#', '  #D#B#A#C#', '  #B#C#D#A#', '  #########']\n",
      "OK  50752\n",
      "OK  49552\n",
      "OK  49352\n",
      "OK  49552\n",
      "OK  50792\n",
      "OK  49432\n",
      "OK  49232\n",
      "OK  49432\n",
      "OK  49552\n",
      "OK  49352\n",
      "OK  49452\n",
      "OK  49492\n",
      "OK  50052\n",
      "OK  50092\n",
      "OK  49852\n",
      "OK  49892\n",
      "OK  49252\n",
      "OK  49292\n",
      "OK  49552\n",
      "OK  49352\n",
      "OK  49552\n",
      "OK  49452\n",
      "OK  49492\n",
      "OK  50052\n",
      "OK  50092\n",
      "OK  49852\n",
      "OK  49892\n",
      "OK  50052\n",
      "OK  50092\n",
      "OK  50752\n",
      "OK  50792\n",
      "OK  50232\n",
      "OK  50032\n",
      "OK  50232\n",
      "OK  50752\n",
      "OK  50792\n",
      "OK  50752\n",
      "OK  50732\n",
      "OK  50772\n",
      "OK  50792\n",
      "OK  50772\n",
      "OK  56746\n",
      "OK  50752\n",
      "OK  56746\n",
      "OK  56746\n",
      "OK  56766\n",
      "OK  50772\n",
      "OK  56766\n",
      "OK  56766\n",
      "OK  56806\n",
      "OK  50812\n",
      "OK  56806\n",
      "OK  56806\n",
      "OK  49552\n",
      "OK  49352\n"
     ]
    }
   ],
   "source": [
    "solution_b(data_in2)"
   ]
  },
  {
   "cell_type": "code",
   "execution_count": null,
   "id": "9145d4ca",
   "metadata": {
    "scrolled": true
   },
   "outputs": [],
   "source": [
    "submit(solution_b(data_in2),part=\"b\",day=DD, year=YYYY)"
   ]
  },
  {
   "cell_type": "code",
   "execution_count": null,
   "id": "0b7e8b80",
   "metadata": {},
   "outputs": [],
   "source": []
  }
 ],
 "metadata": {
  "kernelspec": {
   "display_name": "Python 3 (ipykernel)",
   "language": "python",
   "name": "python3"
  },
  "language_info": {
   "codemirror_mode": {
    "name": "ipython",
    "version": 3
   },
   "file_extension": ".py",
   "mimetype": "text/x-python",
   "name": "python",
   "nbconvert_exporter": "python",
   "pygments_lexer": "ipython3",
   "version": "3.7.11"
  }
 },
 "nbformat": 4,
 "nbformat_minor": 5
}
