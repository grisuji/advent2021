{
 "cells": [
  {
   "cell_type": "code",
   "execution_count": 1,
   "id": "56b2dd01",
   "metadata": {},
   "outputs": [],
   "source": [
    "from aocd import submit\n",
    "import numpy as np\n",
    "import re"
   ]
  },
  {
   "cell_type": "code",
   "execution_count": 2,
   "id": "e027d709",
   "metadata": {},
   "outputs": [],
   "source": [
    "YYYY=2021\n",
    "DD=25"
   ]
  },
  {
   "cell_type": "code",
   "execution_count": 4,
   "id": "25fa5b91",
   "metadata": {},
   "outputs": [
    {
     "data": {
      "text/plain": [
       "['v...>>.vv>',\n",
       " '.vv>>.vv..',\n",
       " '>>.>v>...v',\n",
       " '>>v>>.>.v.',\n",
       " 'v>v.vv.v..',\n",
       " '>.>>..v...',\n",
       " '.vv..>.>v.',\n",
       " 'v.v..>>v.v',\n",
       " '....v..v.>']"
      ]
     },
     "execution_count": 4,
     "metadata": {},
     "output_type": "execute_result"
    }
   ],
   "source": [
    "def load(filename):\n",
    "    with open(filename,'r') as f:\n",
    "         lines = [s.rstrip(\"\\n\")  for s in f]\n",
    "    return lines\n",
    "test1 = load(\"test1.dat\")\n",
    "test1"
   ]
  },
  {
   "cell_type": "code",
   "execution_count": 5,
   "id": "2ee85b6c",
   "metadata": {},
   "outputs": [],
   "source": [
    "data_in = load(\"input.dat\")"
   ]
  },
  {
   "cell_type": "markdown",
   "id": "6299ea79",
   "metadata": {},
   "source": [
    "# Teil a"
   ]
  },
  {
   "cell_type": "code",
   "execution_count": 72,
   "id": "7425b5e0",
   "metadata": {},
   "outputs": [],
   "source": [
    "def transpose(d):\n",
    "    return [''.join(s) for s in zip(*d)]\n",
    "\n",
    "def find_all(a_str, sub):\n",
    "    a_str += a_str[0]\n",
    "    start = 0\n",
    "    while True:\n",
    "        start = a_str.find(sub, start)\n",
    "        if start == -1: return\n",
    "        yield start\n",
    "        start += 1\n",
    "\n",
    "def step(data, c):\n",
    "    d = data[:]\n",
    "    moves = 0\n",
    "    for row, l in enumerate(d):\n",
    "        dim = len(l)\n",
    "        dd = list(l)\n",
    "        for col1 in find_all(l,c+\".\"):\n",
    "            moves += 1\n",
    "            col2 = col1+1 if col1+1 < dim else 0\n",
    "            dd[col2], dd[col1] = dd[col1], dd[col2]\n",
    "        d[row] = \"\".join(dd)\n",
    "    return d, moves\n",
    "    \n",
    "def e_steps(data):\n",
    "    return step(data, \">\")\n",
    "\n",
    "def s_steps(data):\n",
    "    d,m  = step(transpose(data),\"v\")\n",
    "    return transpose(d), m\n",
    "\n",
    "def solution_a(data):\n",
    "    d = data[:]\n",
    "    for i in range(1000):\n",
    "        d, m1 = e_steps(d)\n",
    "        d, m2 = s_steps(d)\n",
    "        if m1+m2 == 0:\n",
    "            return i+1"
   ]
  },
  {
   "cell_type": "code",
   "execution_count": 73,
   "id": "83a1fc8a",
   "metadata": {},
   "outputs": [
    {
     "data": {
      "text/plain": [
       "406"
      ]
     },
     "execution_count": 73,
     "metadata": {},
     "output_type": "execute_result"
    }
   ],
   "source": [
    "solution_a(data_in)"
   ]
  },
  {
   "cell_type": "code",
   "execution_count": 79,
   "id": "6cf11ccf",
   "metadata": {},
   "outputs": [
    {
     "name": "stdout",
     "output_type": "stream",
     "text": [
      "Part a already solved with same answer: 406\n"
     ]
    }
   ],
   "source": [
    "submit(solution_a(data_in),part=\"a\",day=DD, year=YYYY)"
   ]
  },
  {
   "cell_type": "code",
   "execution_count": null,
   "id": "0287a35c",
   "metadata": {},
   "outputs": [],
   "source": []
  }
 ],
 "metadata": {
  "kernelspec": {
   "display_name": "Python 3 (ipykernel)",
   "language": "python",
   "name": "python3"
  },
  "language_info": {
   "codemirror_mode": {
    "name": "ipython",
    "version": 3
   },
   "file_extension": ".py",
   "mimetype": "text/x-python",
   "name": "python",
   "nbconvert_exporter": "python",
   "pygments_lexer": "ipython3",
   "version": "3.7.11"
  }
 },
 "nbformat": 4,
 "nbformat_minor": 5
}
