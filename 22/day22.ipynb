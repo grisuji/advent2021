{
 "cells": [
  {
   "cell_type": "code",
   "execution_count": 1,
   "id": "56b2dd01",
   "metadata": {},
   "outputs": [],
   "source": [
    "from aocd import submit\n",
    "import numpy as np\n",
    "import re\n",
    "from itertools import product"
   ]
  },
  {
   "cell_type": "code",
   "execution_count": 2,
   "id": "e027d709",
   "metadata": {},
   "outputs": [],
   "source": [
    "YYYY=2021\n",
    "DD=22"
   ]
  },
  {
   "cell_type": "code",
   "execution_count": 3,
   "id": "25fa5b91",
   "metadata": {},
   "outputs": [
    {
     "data": {
      "text/plain": [
       "[[1, ((-20, 26), (-36, 17), (-47, 7))],\n",
       " [1, ((-20, 33), (-21, 23), (-26, 28))],\n",
       " [1, ((-22, 28), (-29, 23), (-38, 16))],\n",
       " [1, ((-46, 7), (-6, 46), (-50, -1))],\n",
       " [1, ((-49, 1), (-3, 46), (-24, 28))],\n",
       " [1, ((2, 47), (-22, 22), (-23, 27))],\n",
       " [1, ((-27, 23), (-28, 26), (-21, 29))],\n",
       " [1, ((-39, 5), (-6, 47), (-3, 44))],\n",
       " [1, ((-30, 21), (-8, 43), (-13, 34))],\n",
       " [1, ((-22, 26), (-27, 20), (-29, 19))],\n",
       " [0, ((-48, -32), (26, 41), (-47, -37))],\n",
       " [1, ((-12, 35), (6, 50), (-50, -2))],\n",
       " [0, ((-48, -32), (-32, -16), (-15, -5))],\n",
       " [1, ((-18, 26), (-33, 15), (-7, 46))],\n",
       " [0, ((-40, -22), (-38, -28), (23, 41))],\n",
       " [1, ((-16, 35), (-41, 10), (-47, 6))],\n",
       " [0, ((-32, -23), (11, 30), (-14, 3))],\n",
       " [1, ((-49, -5), (-3, 45), (-29, 18))],\n",
       " [0, ((18, 30), (-20, -8), (-3, 13))],\n",
       " [1, ((-41, 9), (-7, 43), (-33, 15))],\n",
       " [1, ((-54112, -39298), (-85059, -49293), (-27449, 7877))],\n",
       " [1, ((967, 23432), (45373, 81175), (27513, 53682))]]"
      ]
     },
     "execution_count": 3,
     "metadata": {},
     "output_type": "execute_result"
    }
   ],
   "source": [
    "def translate(s):\n",
    "    parse=re.compile(\"[-+]?[0-9]+\")\n",
    "    s1 = 1 if  s[0:2] == \"on\" else 0\n",
    "    s2 = [int(n) for n in parse.findall(s)]\n",
    "    s2 = [(s2[0], s2[1]), (s2[2], s2[3]), (s2[4], s2[5])]\n",
    "\n",
    "    return [s1, tuple(s2)]\n",
    "    \n",
    "def load(filename):\n",
    "    with open(filename,'r') as f:\n",
    "         lines = [translate(s)  for s in f]\n",
    "    return lines\n",
    "test1 = load(\"test1.dat\")\n",
    "test2 = load(\"test2.dat\")\n",
    "test2"
   ]
  },
  {
   "cell_type": "code",
   "execution_count": 4,
   "id": "2ee85b6c",
   "metadata": {},
   "outputs": [],
   "source": [
    "data_in = load(\"input.dat\")"
   ]
  },
  {
   "cell_type": "markdown",
   "id": "6299ea79",
   "metadata": {},
   "source": [
    "# Teil a"
   ]
  },
  {
   "cell_type": "code",
   "execution_count": 5,
   "id": "d624172e",
   "metadata": {},
   "outputs": [
    {
     "data": {
      "text/plain": [
       "['10', '12', '10', '12', '10', '12']"
      ]
     },
     "execution_count": 5,
     "metadata": {},
     "output_type": "execute_result"
    }
   ],
   "source": [
    "\"\"\"\n",
    "0..100\n",
    "-50 = 0\n",
    "50 = 100\n",
    "\"\"\"\n",
    "a= 'on x=10..12,y=10..12,z=10..12'\n",
    "parse=re.compile(\"\\d+\")\n",
    "parse.findall(a)"
   ]
  },
  {
   "cell_type": "code",
   "execution_count": 6,
   "id": "7425b5e0",
   "metadata": {},
   "outputs": [],
   "source": [
    "def transform(cubes):\n",
    "    c=list(cubes)\n",
    "    for i,v in enumerate(cubes):\n",
    "        c[i] = 50+(min(50, v) if i % 2 else max(-50,v))\n",
    "    return c"
   ]
  },
  {
   "cell_type": "code",
   "execution_count": 7,
   "id": "dec9cd4e",
   "metadata": {},
   "outputs": [
    {
     "data": {
      "text/plain": [
       "[60, 62, 60, 62, 60, 62]"
      ]
     },
     "execution_count": 7,
     "metadata": {},
     "output_type": "execute_result"
    }
   ],
   "source": [
    "transform(test1[0][1])"
   ]
  },
  {
   "cell_type": "code",
   "execution_count": 8,
   "id": "f7dc4a14",
   "metadata": {},
   "outputs": [],
   "source": [
    "def solution_a(data):\n",
    "    c = np.zeros((101,101,101), int)\n",
    "    for s, d in data:\n",
    "        x1,x2, y1,y2, z1, z2 = transform(d)\n",
    "        c[x1:x2+1,y1:y2+1,z1:z2+1] = s\n",
    "        #print(c.sum())\n",
    "    return c.sum()"
   ]
  },
  {
   "cell_type": "code",
   "execution_count": 9,
   "id": "056b0666",
   "metadata": {},
   "outputs": [
    {
     "data": {
      "text/plain": [
       "590784"
      ]
     },
     "execution_count": 9,
     "metadata": {},
     "output_type": "execute_result"
    }
   ],
   "source": [
    "solution_a(test2)"
   ]
  },
  {
   "cell_type": "code",
   "execution_count": 10,
   "id": "6cf11ccf",
   "metadata": {},
   "outputs": [
    {
     "name": "stdout",
     "output_type": "stream",
     "text": [
      "Part a already solved with same answer: 553201\n"
     ]
    }
   ],
   "source": [
    "submit(solution_a(data_in),part=\"a\",day=DD, year=YYYY)"
   ]
  },
  {
   "cell_type": "markdown",
   "id": "706ace18",
   "metadata": {},
   "source": [
    "# Teil b"
   ]
  },
  {
   "cell_type": "code",
   "execution_count": 19,
   "id": "f8987797",
   "metadata": {},
   "outputs": [
    {
     "data": {
      "text/plain": [
       "[1, 2, 3]"
      ]
     },
     "execution_count": 19,
     "metadata": {},
     "output_type": "execute_result"
    }
   ],
   "source": [
    "a=list((3,2,1))\n",
    "a.sort()\n",
    "a"
   ]
  },
  {
   "cell_type": "code",
   "execution_count": 193,
   "id": "4b8cc05c",
   "metadata": {},
   "outputs": [],
   "source": [
    "def overlap(a,b):\n",
    "    # a1 < a2\n",
    "    a1,a2=a\n",
    "    b1,b2=b\n",
    "    return not (a1 >= b2 or b1 >= a2)\n",
    "\n",
    "def count_overlap(c1, c2):\n",
    "    x1, y1, z1 = c1\n",
    "    x2, y2, z2 = c2\n",
    "    if overlap(x1,x2) and overlap(y1,y2) and overlap(z1,z2):\n",
    "        x = (max(x1[0], x2[0]), min(x1[1],x2[1]))\n",
    "        y = (max(y1[0], y2[0]), min(y1[1],y2[1]))\n",
    "        z = (max(z1[0], z2[0]), min(z1[1],z2[1]))\n",
    "        return (1+x[1]-x[0])*(1+y[1]-y[0])*(1+z[1]-z[0])\n",
    "    return 0\n",
    "\n",
    "def _isin(a, b):\n",
    "    # is a in b?\n",
    "    a1,a2=a\n",
    "    b1,b2=b\n",
    "    return (a1 >= b1 and a2 <= b2)    \n",
    "\n",
    "def isin(a, b):\n",
    "    # is a in b?\n",
    "    x1,y1,z1 = a\n",
    "    x2,y2,z2 = b\n",
    "    return _isin(x1, x2) and _isin(y1,y2) and _isin(z1,z2)\n",
    "\n",
    "\n",
    "def mintuple(l):\n",
    "    values = {b[0] for b in l}\n",
    "    result = []\n",
    "    for v in values:\n",
    "        result.append(min([b for b in l if b[0]==v], key=lambda x:x[1]))\n",
    "    result.sort()\n",
    "    return result\n",
    "\n",
    "def legal(a,b):\n",
    "    x = mintuple([ (n,m) for n, m in product(a+b, a+b) if n<m])\n",
    "    for i, xx in enumerate(x[:-1]):\n",
    "        if x[i][1] == x[i+1][0]:\n",
    "            x[i] = (x[i][0], x[i][1]-1)\n",
    "    return x\n",
    "\n",
    "def split(c1 , c2):\n",
    "    x1, y1, z1 = c1\n",
    "    x2, y2, z2 = c2\n",
    "    if overlap(x1,x2) and overlap(y1,y2) and overlap(z1,z2):\n",
    "        x = legal(x1,x2)\n",
    "        y = legal(y1,y2)\n",
    "        z = legal(z1,z2)\n",
    "        return [(c[0][0], c[0][1], c[1]) for c in product(product(x,y),z)]\n",
    "    else:\n",
    "        return [c1,c2]\n",
    "\n",
    "def merge(l, cube):\n",
    "    result=set()\n",
    "    for c in l:\n",
    "        result |= set(split(c, cube))\n",
    "    return result\n",
    "    \n",
    "def get_countable(cube, subcube):\n",
    "    x,y,z = cube\n",
    "    xx,yy,zz = list(subcube) \n",
    "    if xx[1] < x[1]:\n",
    "        xx = (xx[0], xx[1] - 1)\n",
    "    if yy[1] < y[1]:\n",
    "        yy = (yy[0], yy[1] - 1)\n",
    "    if zz[1] < z[1]:\n",
    "        zz = (zz[0], zz[1] - 1)\n",
    "    return (1+xx[1]-xx[0])*(1+yy[1]-yy[0])*(1+zz[1]-zz[0])\n",
    "\n",
    "def count(subcube):\n",
    "    xx,yy,zz = subcube\n",
    "    return (1+xx[1]-xx[0])*(1+yy[1]-yy[0])*(1+zz[1]-zz[0])\n",
    "\n",
    "    "
   ]
  },
  {
   "cell_type": "code",
   "execution_count": 147,
   "id": "ba8eface",
   "metadata": {},
   "outputs": [
    {
     "name": "stdout",
     "output_type": "stream",
     "text": [
      "skip\n"
     ]
    }
   ],
   "source": [
    "%%script echo \"skip\"\n",
    "def calc_subcubes(data):\n",
    "    cubes = {data[0][1]}\n",
    "    for s,c in data[1:]:\n",
    "        cubes = merge(cubes, c)\n",
    "    return {c: 0 for c in cubes}\n",
    "\n",
    "splitted=calc_subcubes(test2)\n",
    "len(splitted)\n"
   ]
  },
  {
   "cell_type": "code",
   "execution_count": 198,
   "id": "838a7bf5",
   "metadata": {},
   "outputs": [],
   "source": [
    "def solution_b(data):\n",
    "    on = 0\n",
    "    splitted=calc_subcubes(data)\n",
    "    for s, cube in data:\n",
    "        # have the cube to perform\n",
    "        print(cube)\n",
    "        for k,v in splitted.items():\n",
    "            if isin(k, cube):\n",
    "                splitted[k] = s\n",
    "    for k,v in splitted.items():\n",
    "        if v == 1:\n",
    "            print(f\"{k, count(k)}\")\n",
    "            on += count(k)\n",
    "    return on\n",
    "    "
   ]
  },
  {
   "cell_type": "code",
   "execution_count": 203,
   "id": "dec09d64",
   "metadata": {},
   "outputs": [
    {
     "name": "stdout",
     "output_type": "stream",
     "text": [
      "((10, 12), (10, 12), (10, 12))\n",
      "((10, 10), (10, 10), (10, 10))\n",
      "(((10, 10), (10, 10), (10, 10)), 1)\n",
      "(((10, 12), (10, 12), (10, 12)), 27)\n"
     ]
    },
    {
     "data": {
      "text/plain": [
       "28"
      ]
     },
     "execution_count": 203,
     "metadata": {},
     "output_type": "execute_result"
    }
   ],
   "source": [
    "solution_b([test1[0], test1[3]])"
   ]
  },
  {
   "cell_type": "code",
   "execution_count": 204,
   "id": "f494e071",
   "metadata": {},
   "outputs": [
    {
     "data": {
      "text/plain": [
       "[(10, 12)]"
      ]
     },
     "execution_count": 204,
     "metadata": {},
     "output_type": "execute_result"
    }
   ],
   "source": [
    "legal((10, 12), (10, 10))"
   ]
  },
  {
   "cell_type": "code",
   "execution_count": 114,
   "id": "3479ea14",
   "metadata": {},
   "outputs": [
    {
     "data": {
      "text/plain": [
       "74"
      ]
     },
     "execution_count": 114,
     "metadata": {},
     "output_type": "execute_result"
    }
   ],
   "source": [
    "113-39"
   ]
  },
  {
   "cell_type": "code",
   "execution_count": 5,
   "id": "410ebe95",
   "metadata": {},
   "outputs": [],
   "source": [
    "\n",
    "\n",
    "def extract(rule, wide):\n",
    "    (x1, x2), (y1, y2), (z1, z2)= rule\n",
    "    cubes = set()\n",
    "    for x in range(floorx(x1,wide), ceilx(x2,wide), wide):\n",
    "        for y in range(floorx(y1,wide), ceilx(y2,wide), wide):\n",
    "            for z in range(floorx(z1,wide), ceilx(z2,wide), wide):\n",
    "                cubes.add((x,y,z))\n",
    "    return cubes\n",
    "\n",
    "def ceilx(d,wide):\n",
    "    return int(wide*np.ceil(d/wide))\n",
    "\n",
    "def floorx(d, wide):\n",
    "    return int(wide*np.floor(d/wide))\n",
    "\n",
    "def minmax(d,wide):\n",
    "    nx,mx = 1000,-1000\n",
    "    ny,my = 1000,-1000\n",
    "    nz,mz = 1000,-1000\n",
    "    for s, dd in d:\n",
    "        (x1,x2), (y1,y2),(z1,z2) = dd\n",
    "        nx, mx = min(nx, x1), max(mx,x2)\n",
    "        ny, my = min(ny, x1), max(my,x2)\n",
    "        nz, mz = min(nz, x1), max(mz,x2)\n",
    "    return floorx(nx,wide),ceilx(mx,wide),floorx(ny,wide),ceilx(my,wide),floorx(nz,wide),ceilx(mz, wide)\n",
    "    #return nx, mx, ny, my, nz,mz\n",
    "\n",
    "def dim(nx, mx, ny, my, nz,mz):\n",
    "    return abs(nx)+abs(mx)+1, abs(ny)+abs(my)+1, abs(nz)+abs(mz)+1\n",
    "\n",
    "def transform(cubes, x1, x2, y1, y2, z1, z2, r=100): # x1... means the offsets\n",
    "    c=[0]*6\n",
    "    c[0] = -x1+cubes[0][0]\n",
    "    c[1] = -x1+cubes[0][1]\n",
    "    c[2] = -y1+cubes[1][0]\n",
    "    c[3] = -y1+cubes[1][1]\n",
    "    c[4] = -z1+cubes[2][0]\n",
    "    c[5] = -z1+cubes[2][1]\n",
    "    if any([x > r for x in c[::2]]) or any([x < 0 for x in c[1::2]]):\n",
    "        return [-1,-1,-1,-1,-1,-1]\n",
    "    return [min(r,max(0,x)) for x in c]\n"
   ]
  },
  {
   "cell_type": "code",
   "execution_count": 6,
   "id": "97bc6f05",
   "metadata": {},
   "outputs": [],
   "source": [
    "def solution_b(data):\n",
    "    s=0\n",
    "    wide = 500\n",
    "    nx, mx, ny, my, nz,mz = minmax(data, wide)\n",
    "    #nx, mx, ny, my, nz,mz = (-50,50,-50,50,-50,50)\n",
    "    print(nx, mx, ny, my, nz,mz)\n",
    "    #nx,ny,nz=0,0,0\n",
    "    mycubes = set()\n",
    "    for switch, d in data:\n",
    "        mycubes |= extract(d,wide)\n",
    "    print(f\"identified {len(mycubes)} cubes\",flush=True)\n",
    "    for i, (x,y,z) in enumerate(mycubes):\n",
    "        if i%100000 == 0:\n",
    "            print(f\"cube {i}: {(x,y,z)}\", flush=True)\n",
    "        c = np.zeros((wide+1,wide+1,wide+1), np.bool)\n",
    "        # c[:,:,:] = 0\n",
    "        for switch, d in data: \n",
    "            x1,x2, y1,y2, z1, z2 = transform(d, x,x+wide,y,y+wide,z,z+wide)\n",
    "            if x1 == -1:\n",
    "                continue\n",
    "            #print(f\"{d} -> {x1,x2+1,y1,y2+1,z1,z2+1}\")\n",
    "            c[x1:x2+1,y1:y2+1,z1:z2+1] = switch\n",
    "        s += c.sum()\n",
    "        if i%100000 == 0:\n",
    "            print(s, flush=True)\n",
    "    return s"
   ]
  },
  {
   "cell_type": "code",
   "execution_count": 7,
   "id": "d8dcc6cf",
   "metadata": {},
   "outputs": [
    {
     "name": "stdout",
     "output_type": "stream",
     "text": [
      "-98000 93000 -98000 93000 -98000 93000\n",
      "identified 14937980 cubes\n",
      "cube 0: (58000, 14500, -62000)\n",
      "1030301\n"
     ]
    },
    {
     "name": "stderr",
     "output_type": "stream",
     "text": [
      "/home/grisuji/anaconda3/envs/aoc/lib/python3.7/site-packages/ipykernel_launcher.py:15: DeprecationWarning: `np.bool` is a deprecated alias for the builtin `bool`. To silence this warning, use `bool` by itself. Doing this will not modify any behavior and is safe. If you specifically wanted the numpy scalar type, use `np.bool_` here.\n",
      "Deprecated in NumPy 1.20; for more details and guidance: https://numpy.org/devdocs/release/1.20.0-notes.html#deprecations\n",
      "  from ipykernel import kernelapp as app\n"
     ]
    },
    {
     "ename": "KeyboardInterrupt",
     "evalue": "",
     "output_type": "error",
     "traceback": [
      "\u001b[0;31m---------------------------------------------------------------------------\u001b[0m",
      "\u001b[0;31mKeyboardInterrupt\u001b[0m                         Traceback (most recent call last)",
      "\u001b[0;32m/tmp/ipykernel_36323/3526082201.py\u001b[0m in \u001b[0;36m<module>\u001b[0;34m\u001b[0m\n\u001b[0;32m----> 1\u001b[0;31m \u001b[0msolution_b\u001b[0m\u001b[0;34m(\u001b[0m\u001b[0mdata_in\u001b[0m\u001b[0;34m)\u001b[0m\u001b[0;34m\u001b[0m\u001b[0;34m\u001b[0m\u001b[0m\n\u001b[0m",
      "\u001b[0;32m/tmp/ipykernel_36323/1069263489.py\u001b[0m in \u001b[0;36msolution_b\u001b[0;34m(data)\u001b[0m\n\u001b[1;32m     21\u001b[0m             \u001b[0;31m#print(f\"{d} -> {x1,x2+1,y1,y2+1,z1,z2+1}\")\u001b[0m\u001b[0;34m\u001b[0m\u001b[0;34m\u001b[0m\u001b[0;34m\u001b[0m\u001b[0m\n\u001b[1;32m     22\u001b[0m             \u001b[0mc\u001b[0m\u001b[0;34m[\u001b[0m\u001b[0mx1\u001b[0m\u001b[0;34m:\u001b[0m\u001b[0mx2\u001b[0m\u001b[0;34m+\u001b[0m\u001b[0;36m1\u001b[0m\u001b[0;34m,\u001b[0m\u001b[0my1\u001b[0m\u001b[0;34m:\u001b[0m\u001b[0my2\u001b[0m\u001b[0;34m+\u001b[0m\u001b[0;36m1\u001b[0m\u001b[0;34m,\u001b[0m\u001b[0mz1\u001b[0m\u001b[0;34m:\u001b[0m\u001b[0mz2\u001b[0m\u001b[0;34m+\u001b[0m\u001b[0;36m1\u001b[0m\u001b[0;34m]\u001b[0m \u001b[0;34m=\u001b[0m \u001b[0mswitch\u001b[0m\u001b[0;34m\u001b[0m\u001b[0;34m\u001b[0m\u001b[0m\n\u001b[0;32m---> 23\u001b[0;31m         \u001b[0ms\u001b[0m \u001b[0;34m+=\u001b[0m \u001b[0mc\u001b[0m\u001b[0;34m.\u001b[0m\u001b[0msum\u001b[0m\u001b[0;34m(\u001b[0m\u001b[0;34m)\u001b[0m\u001b[0;34m\u001b[0m\u001b[0;34m\u001b[0m\u001b[0m\n\u001b[0m\u001b[1;32m     24\u001b[0m         \u001b[0;32mif\u001b[0m \u001b[0mi\u001b[0m\u001b[0;34m%\u001b[0m\u001b[0;36m100000\u001b[0m \u001b[0;34m==\u001b[0m \u001b[0;36m0\u001b[0m\u001b[0;34m:\u001b[0m\u001b[0;34m\u001b[0m\u001b[0;34m\u001b[0m\u001b[0m\n\u001b[1;32m     25\u001b[0m             \u001b[0mprint\u001b[0m\u001b[0;34m(\u001b[0m\u001b[0ms\u001b[0m\u001b[0;34m,\u001b[0m \u001b[0mflush\u001b[0m\u001b[0;34m=\u001b[0m\u001b[0;32mTrue\u001b[0m\u001b[0;34m)\u001b[0m\u001b[0;34m\u001b[0m\u001b[0;34m\u001b[0m\u001b[0m\n",
      "\u001b[0;32m~/anaconda3/envs/aoc/lib/python3.7/site-packages/numpy/core/_methods.py\u001b[0m in \u001b[0;36m_sum\u001b[0;34m(a, axis, dtype, out, keepdims, initial, where)\u001b[0m\n\u001b[1;32m     46\u001b[0m def _sum(a, axis=None, dtype=None, out=None, keepdims=False,\n\u001b[1;32m     47\u001b[0m          initial=_NoValue, where=True):\n\u001b[0;32m---> 48\u001b[0;31m     \u001b[0;32mreturn\u001b[0m \u001b[0mumr_sum\u001b[0m\u001b[0;34m(\u001b[0m\u001b[0ma\u001b[0m\u001b[0;34m,\u001b[0m \u001b[0maxis\u001b[0m\u001b[0;34m,\u001b[0m \u001b[0mdtype\u001b[0m\u001b[0;34m,\u001b[0m \u001b[0mout\u001b[0m\u001b[0;34m,\u001b[0m \u001b[0mkeepdims\u001b[0m\u001b[0;34m,\u001b[0m \u001b[0minitial\u001b[0m\u001b[0;34m,\u001b[0m \u001b[0mwhere\u001b[0m\u001b[0;34m)\u001b[0m\u001b[0;34m\u001b[0m\u001b[0;34m\u001b[0m\u001b[0m\n\u001b[0m\u001b[1;32m     49\u001b[0m \u001b[0;34m\u001b[0m\u001b[0m\n\u001b[1;32m     50\u001b[0m def _prod(a, axis=None, dtype=None, out=None, keepdims=False,\n",
      "\u001b[0;31mKeyboardInterrupt\u001b[0m: "
     ]
    }
   ],
   "source": [
    "solution_b(data_in)"
   ]
  },
  {
   "cell_type": "code",
   "execution_count": 9,
   "id": "018bb7f1",
   "metadata": {},
   "outputs": [
    {
     "data": {
      "text/plain": [
       "40000000000"
      ]
     },
     "execution_count": 9,
     "metadata": {},
     "output_type": "execute_result"
    }
   ],
   "source": [
    "200000**2"
   ]
  },
  {
   "cell_type": "code",
   "execution_count": 8,
   "id": "e073509c",
   "metadata": {},
   "outputs": [
    {
     "ename": "MemoryError",
     "evalue": "Unable to allocate 298. GiB for an array with shape (200000, 200000) and data type float64",
     "output_type": "error",
     "traceback": [
      "\u001b[0;31m---------------------------------------------------------------------------\u001b[0m",
      "\u001b[0;31mMemoryError\u001b[0m                               Traceback (most recent call last)",
      "\u001b[0;32m/tmp/ipykernel_36323/4164236964.py\u001b[0m in \u001b[0;36m<module>\u001b[0;34m\u001b[0m\n\u001b[0;32m----> 1\u001b[0;31m \u001b[0ma\u001b[0m\u001b[0;34m=\u001b[0m\u001b[0mnp\u001b[0m\u001b[0;34m.\u001b[0m\u001b[0mzeros\u001b[0m\u001b[0;34m(\u001b[0m\u001b[0;34m(\u001b[0m\u001b[0;36m200000\u001b[0m\u001b[0;34m,\u001b[0m \u001b[0;36m200000\u001b[0m\u001b[0;34m)\u001b[0m\u001b[0;34m)\u001b[0m\u001b[0;34m\u001b[0m\u001b[0;34m\u001b[0m\u001b[0m\n\u001b[0m",
      "\u001b[0;31mMemoryError\u001b[0m: Unable to allocate 298. GiB for an array with shape (200000, 200000) and data type float64"
     ]
    }
   ],
   "source": [
    "a=np.zeros((200000, 200000))"
   ]
  },
  {
   "cell_type": "code",
   "execution_count": null,
   "id": "9145d4ca",
   "metadata": {},
   "outputs": [],
   "source": [
    "submit(solution_b(data_in),part=\"b\",day=DD, year=YYYY)"
   ]
  }
 ],
 "metadata": {
  "kernelspec": {
   "display_name": "Python 3 (ipykernel)",
   "language": "python",
   "name": "python3"
  },
  "language_info": {
   "codemirror_mode": {
    "name": "ipython",
    "version": 3
   },
   "file_extension": ".py",
   "mimetype": "text/x-python",
   "name": "python",
   "nbconvert_exporter": "python",
   "pygments_lexer": "ipython3",
   "version": "3.7.11"
  }
 },
 "nbformat": 4,
 "nbformat_minor": 5
}
