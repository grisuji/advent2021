{
 "cells": [
  {
   "cell_type": "code",
   "execution_count": 3,
   "id": "56b2dd01",
   "metadata": {},
   "outputs": [],
   "source": [
    "from aocd import submit\n",
    "import numpy as np\n",
    "import re\n",
    "from itertools import product"
   ]
  },
  {
   "cell_type": "code",
   "execution_count": 4,
   "id": "e027d709",
   "metadata": {},
   "outputs": [],
   "source": [
    "YYYY=2021\n",
    "DD=22"
   ]
  },
  {
   "cell_type": "code",
   "execution_count": 5,
   "id": "25fa5b91",
   "metadata": {},
   "outputs": [
    {
     "data": {
      "text/plain": [
       "[[1, ((-20, 26), (-36, 17), (-47, 7))],\n",
       " [1, ((-20, 33), (-21, 23), (-26, 28))],\n",
       " [1, ((-22, 28), (-29, 23), (-38, 16))],\n",
       " [1, ((-46, 7), (-6, 46), (-50, -1))],\n",
       " [1, ((-49, 1), (-3, 46), (-24, 28))],\n",
       " [1, ((2, 47), (-22, 22), (-23, 27))],\n",
       " [1, ((-27, 23), (-28, 26), (-21, 29))],\n",
       " [1, ((-39, 5), (-6, 47), (-3, 44))],\n",
       " [1, ((-30, 21), (-8, 43), (-13, 34))],\n",
       " [1, ((-22, 26), (-27, 20), (-29, 19))],\n",
       " [0, ((-48, -32), (26, 41), (-47, -37))],\n",
       " [1, ((-12, 35), (6, 50), (-50, -2))],\n",
       " [0, ((-48, -32), (-32, -16), (-15, -5))],\n",
       " [1, ((-18, 26), (-33, 15), (-7, 46))],\n",
       " [0, ((-40, -22), (-38, -28), (23, 41))],\n",
       " [1, ((-16, 35), (-41, 10), (-47, 6))],\n",
       " [0, ((-32, -23), (11, 30), (-14, 3))],\n",
       " [1, ((-49, -5), (-3, 45), (-29, 18))],\n",
       " [0, ((18, 30), (-20, -8), (-3, 13))],\n",
       " [1, ((-41, 9), (-7, 43), (-33, 15))],\n",
       " [1, ((-54112, -39298), (-85059, -49293), (-27449, 7877))],\n",
       " [1, ((967, 23432), (45373, 81175), (27513, 53682))]]"
      ]
     },
     "execution_count": 5,
     "metadata": {},
     "output_type": "execute_result"
    }
   ],
   "source": [
    "def translate(s):\n",
    "    parse=re.compile(\"[-+]?[0-9]+\")\n",
    "    s1 = 1 if  s[0:2] == \"on\" else 0\n",
    "    s2 = [int(n) for n in parse.findall(s)]\n",
    "    s2 = [(s2[0], s2[1]), (s2[2], s2[3]), (s2[4], s2[5])]\n",
    "\n",
    "    return [s1, tuple(s2)]\n",
    "    \n",
    "def load(filename):\n",
    "    with open(filename,'r') as f:\n",
    "         lines = [translate(s)  for s in f]\n",
    "    return lines\n",
    "test1 = load(\"test1.dat\")\n",
    "test2 = load(\"test2.dat\")\n",
    "test3 = load(\"test3.dat\")\n",
    "test2"
   ]
  },
  {
   "cell_type": "code",
   "execution_count": 6,
   "id": "2ee85b6c",
   "metadata": {},
   "outputs": [],
   "source": [
    "data_in = load(\"input.dat\")"
   ]
  },
  {
   "cell_type": "markdown",
   "id": "6299ea79",
   "metadata": {},
   "source": [
    "# Teil a"
   ]
  },
  {
   "cell_type": "code",
   "execution_count": 5,
   "id": "8d3d56fb",
   "metadata": {},
   "outputs": [
    {
     "data": {
      "text/plain": [
       "['10', '12', '10', '12', '10', '12']"
      ]
     },
     "execution_count": 5,
     "metadata": {},
     "output_type": "execute_result"
    }
   ],
   "source": [
    "\"\"\"\n",
    "0..100\n",
    "-50 = 0\n",
    "50 = 100\n",
    "\"\"\"\n",
    "a= 'on x=10..12,y=10..12,z=10..12'\n",
    "parse=re.compile(\"\\d+\")\n",
    "parse.findall(a)"
   ]
  },
  {
   "cell_type": "code",
   "execution_count": 6,
   "id": "7425b5e0",
   "metadata": {},
   "outputs": [],
   "source": [
    "def transform(cubes):\n",
    "    c=list(cubes)\n",
    "    for i,v in enumerate(cubes):\n",
    "        c[i] = 50+(min(50, v) if i % 2 else max(-50,v))\n",
    "    return c"
   ]
  },
  {
   "cell_type": "code",
   "execution_count": 7,
   "id": "dec9cd4e",
   "metadata": {},
   "outputs": [
    {
     "ename": "TypeError",
     "evalue": "'>' not supported between instances of 'tuple' and 'int'",
     "output_type": "error",
     "traceback": [
      "\u001b[0;31m---------------------------------------------------------------------------\u001b[0m",
      "\u001b[0;31mTypeError\u001b[0m                                 Traceback (most recent call last)",
      "\u001b[0;32m/tmp/ipykernel_102734/1075853260.py\u001b[0m in \u001b[0;36m<module>\u001b[0;34m\u001b[0m\n\u001b[0;32m----> 1\u001b[0;31m \u001b[0mtransform\u001b[0m\u001b[0;34m(\u001b[0m\u001b[0mtest1\u001b[0m\u001b[0;34m[\u001b[0m\u001b[0;36m0\u001b[0m\u001b[0;34m]\u001b[0m\u001b[0;34m[\u001b[0m\u001b[0;36m1\u001b[0m\u001b[0;34m]\u001b[0m\u001b[0;34m)\u001b[0m\u001b[0;34m\u001b[0m\u001b[0;34m\u001b[0m\u001b[0m\n\u001b[0m",
      "\u001b[0;32m/tmp/ipykernel_102734/3263667197.py\u001b[0m in \u001b[0;36mtransform\u001b[0;34m(cubes)\u001b[0m\n\u001b[1;32m      2\u001b[0m     \u001b[0mc\u001b[0m\u001b[0;34m=\u001b[0m\u001b[0mlist\u001b[0m\u001b[0;34m(\u001b[0m\u001b[0mcubes\u001b[0m\u001b[0;34m)\u001b[0m\u001b[0;34m\u001b[0m\u001b[0;34m\u001b[0m\u001b[0m\n\u001b[1;32m      3\u001b[0m     \u001b[0;32mfor\u001b[0m \u001b[0mi\u001b[0m\u001b[0;34m,\u001b[0m\u001b[0mv\u001b[0m \u001b[0;32min\u001b[0m \u001b[0menumerate\u001b[0m\u001b[0;34m(\u001b[0m\u001b[0mcubes\u001b[0m\u001b[0;34m)\u001b[0m\u001b[0;34m:\u001b[0m\u001b[0;34m\u001b[0m\u001b[0;34m\u001b[0m\u001b[0m\n\u001b[0;32m----> 4\u001b[0;31m         \u001b[0mc\u001b[0m\u001b[0;34m[\u001b[0m\u001b[0mi\u001b[0m\u001b[0;34m]\u001b[0m \u001b[0;34m=\u001b[0m \u001b[0;36m50\u001b[0m\u001b[0;34m+\u001b[0m\u001b[0;34m(\u001b[0m\u001b[0mmin\u001b[0m\u001b[0;34m(\u001b[0m\u001b[0;36m50\u001b[0m\u001b[0;34m,\u001b[0m \u001b[0mv\u001b[0m\u001b[0;34m)\u001b[0m \u001b[0;32mif\u001b[0m \u001b[0mi\u001b[0m \u001b[0;34m%\u001b[0m \u001b[0;36m2\u001b[0m \u001b[0;32melse\u001b[0m \u001b[0mmax\u001b[0m\u001b[0;34m(\u001b[0m\u001b[0;34m-\u001b[0m\u001b[0;36m50\u001b[0m\u001b[0;34m,\u001b[0m\u001b[0mv\u001b[0m\u001b[0;34m)\u001b[0m\u001b[0;34m)\u001b[0m\u001b[0;34m\u001b[0m\u001b[0;34m\u001b[0m\u001b[0m\n\u001b[0m\u001b[1;32m      5\u001b[0m     \u001b[0;32mreturn\u001b[0m \u001b[0mc\u001b[0m\u001b[0;34m\u001b[0m\u001b[0;34m\u001b[0m\u001b[0m\n",
      "\u001b[0;31mTypeError\u001b[0m: '>' not supported between instances of 'tuple' and 'int'"
     ]
    }
   ],
   "source": [
    "transform(test1[0][1])"
   ]
  },
  {
   "cell_type": "code",
   "execution_count": 8,
   "id": "e42e44cb",
   "metadata": {},
   "outputs": [],
   "source": [
    "def solution_a(data):\n",
    "    c = np.zeros((101,101,101), int)\n",
    "    for s, d in data:\n",
    "        x1,x2, y1,y2, z1, z2 = transform(d)\n",
    "        c[x1:x2+1,y1:y2+1,z1:z2+1] = s\n",
    "        #print(c.sum())\n",
    "    return c.sum()"
   ]
  },
  {
   "cell_type": "code",
   "execution_count": 9,
   "id": "3bf5c93b",
   "metadata": {},
   "outputs": [
    {
     "ename": "TypeError",
     "evalue": "'>' not supported between instances of 'tuple' and 'int'",
     "output_type": "error",
     "traceback": [
      "\u001b[0;31m---------------------------------------------------------------------------\u001b[0m",
      "\u001b[0;31mTypeError\u001b[0m                                 Traceback (most recent call last)",
      "\u001b[0;32m/tmp/ipykernel_102734/199010895.py\u001b[0m in \u001b[0;36m<module>\u001b[0;34m\u001b[0m\n\u001b[0;32m----> 1\u001b[0;31m \u001b[0msolution_a\u001b[0m\u001b[0;34m(\u001b[0m\u001b[0mtest2\u001b[0m\u001b[0;34m)\u001b[0m\u001b[0;34m\u001b[0m\u001b[0;34m\u001b[0m\u001b[0m\n\u001b[0m",
      "\u001b[0;32m/tmp/ipykernel_102734/389870966.py\u001b[0m in \u001b[0;36msolution_a\u001b[0;34m(data)\u001b[0m\n\u001b[1;32m      2\u001b[0m     \u001b[0mc\u001b[0m \u001b[0;34m=\u001b[0m \u001b[0mnp\u001b[0m\u001b[0;34m.\u001b[0m\u001b[0mzeros\u001b[0m\u001b[0;34m(\u001b[0m\u001b[0;34m(\u001b[0m\u001b[0;36m101\u001b[0m\u001b[0;34m,\u001b[0m\u001b[0;36m101\u001b[0m\u001b[0;34m,\u001b[0m\u001b[0;36m101\u001b[0m\u001b[0;34m)\u001b[0m\u001b[0;34m,\u001b[0m \u001b[0mint\u001b[0m\u001b[0;34m)\u001b[0m\u001b[0;34m\u001b[0m\u001b[0;34m\u001b[0m\u001b[0m\n\u001b[1;32m      3\u001b[0m     \u001b[0;32mfor\u001b[0m \u001b[0ms\u001b[0m\u001b[0;34m,\u001b[0m \u001b[0md\u001b[0m \u001b[0;32min\u001b[0m \u001b[0mdata\u001b[0m\u001b[0;34m:\u001b[0m\u001b[0;34m\u001b[0m\u001b[0;34m\u001b[0m\u001b[0m\n\u001b[0;32m----> 4\u001b[0;31m         \u001b[0mx1\u001b[0m\u001b[0;34m,\u001b[0m\u001b[0mx2\u001b[0m\u001b[0;34m,\u001b[0m \u001b[0my1\u001b[0m\u001b[0;34m,\u001b[0m\u001b[0my2\u001b[0m\u001b[0;34m,\u001b[0m \u001b[0mz1\u001b[0m\u001b[0;34m,\u001b[0m \u001b[0mz2\u001b[0m \u001b[0;34m=\u001b[0m \u001b[0mtransform\u001b[0m\u001b[0;34m(\u001b[0m\u001b[0md\u001b[0m\u001b[0;34m)\u001b[0m\u001b[0;34m\u001b[0m\u001b[0;34m\u001b[0m\u001b[0m\n\u001b[0m\u001b[1;32m      5\u001b[0m         \u001b[0mc\u001b[0m\u001b[0;34m[\u001b[0m\u001b[0mx1\u001b[0m\u001b[0;34m:\u001b[0m\u001b[0mx2\u001b[0m\u001b[0;34m+\u001b[0m\u001b[0;36m1\u001b[0m\u001b[0;34m,\u001b[0m\u001b[0my1\u001b[0m\u001b[0;34m:\u001b[0m\u001b[0my2\u001b[0m\u001b[0;34m+\u001b[0m\u001b[0;36m1\u001b[0m\u001b[0;34m,\u001b[0m\u001b[0mz1\u001b[0m\u001b[0;34m:\u001b[0m\u001b[0mz2\u001b[0m\u001b[0;34m+\u001b[0m\u001b[0;36m1\u001b[0m\u001b[0;34m]\u001b[0m \u001b[0;34m=\u001b[0m \u001b[0ms\u001b[0m\u001b[0;34m\u001b[0m\u001b[0;34m\u001b[0m\u001b[0m\n\u001b[1;32m      6\u001b[0m         \u001b[0;31m#print(c.sum())\u001b[0m\u001b[0;34m\u001b[0m\u001b[0;34m\u001b[0m\u001b[0;34m\u001b[0m\u001b[0m\n",
      "\u001b[0;32m/tmp/ipykernel_102734/3263667197.py\u001b[0m in \u001b[0;36mtransform\u001b[0;34m(cubes)\u001b[0m\n\u001b[1;32m      2\u001b[0m     \u001b[0mc\u001b[0m\u001b[0;34m=\u001b[0m\u001b[0mlist\u001b[0m\u001b[0;34m(\u001b[0m\u001b[0mcubes\u001b[0m\u001b[0;34m)\u001b[0m\u001b[0;34m\u001b[0m\u001b[0;34m\u001b[0m\u001b[0m\n\u001b[1;32m      3\u001b[0m     \u001b[0;32mfor\u001b[0m \u001b[0mi\u001b[0m\u001b[0;34m,\u001b[0m\u001b[0mv\u001b[0m \u001b[0;32min\u001b[0m \u001b[0menumerate\u001b[0m\u001b[0;34m(\u001b[0m\u001b[0mcubes\u001b[0m\u001b[0;34m)\u001b[0m\u001b[0;34m:\u001b[0m\u001b[0;34m\u001b[0m\u001b[0;34m\u001b[0m\u001b[0m\n\u001b[0;32m----> 4\u001b[0;31m         \u001b[0mc\u001b[0m\u001b[0;34m[\u001b[0m\u001b[0mi\u001b[0m\u001b[0;34m]\u001b[0m \u001b[0;34m=\u001b[0m \u001b[0;36m50\u001b[0m\u001b[0;34m+\u001b[0m\u001b[0;34m(\u001b[0m\u001b[0mmin\u001b[0m\u001b[0;34m(\u001b[0m\u001b[0;36m50\u001b[0m\u001b[0;34m,\u001b[0m \u001b[0mv\u001b[0m\u001b[0;34m)\u001b[0m \u001b[0;32mif\u001b[0m \u001b[0mi\u001b[0m \u001b[0;34m%\u001b[0m \u001b[0;36m2\u001b[0m \u001b[0;32melse\u001b[0m \u001b[0mmax\u001b[0m\u001b[0;34m(\u001b[0m\u001b[0;34m-\u001b[0m\u001b[0;36m50\u001b[0m\u001b[0;34m,\u001b[0m\u001b[0mv\u001b[0m\u001b[0;34m)\u001b[0m\u001b[0;34m)\u001b[0m\u001b[0;34m\u001b[0m\u001b[0;34m\u001b[0m\u001b[0m\n\u001b[0m\u001b[1;32m      5\u001b[0m     \u001b[0;32mreturn\u001b[0m \u001b[0mc\u001b[0m\u001b[0;34m\u001b[0m\u001b[0;34m\u001b[0m\u001b[0m\n",
      "\u001b[0;31mTypeError\u001b[0m: '>' not supported between instances of 'tuple' and 'int'"
     ]
    }
   ],
   "source": [
    "solution_a(test2)"
   ]
  },
  {
   "cell_type": "code",
   "execution_count": 10,
   "id": "6cf11ccf",
   "metadata": {},
   "outputs": [
    {
     "ename": "TypeError",
     "evalue": "'>' not supported between instances of 'tuple' and 'int'",
     "output_type": "error",
     "traceback": [
      "\u001b[0;31m---------------------------------------------------------------------------\u001b[0m",
      "\u001b[0;31mTypeError\u001b[0m                                 Traceback (most recent call last)",
      "\u001b[0;32m/tmp/ipykernel_102734/1802081033.py\u001b[0m in \u001b[0;36m<module>\u001b[0;34m\u001b[0m\n\u001b[0;32m----> 1\u001b[0;31m \u001b[0msubmit\u001b[0m\u001b[0;34m(\u001b[0m\u001b[0msolution_a\u001b[0m\u001b[0;34m(\u001b[0m\u001b[0mdata_in\u001b[0m\u001b[0;34m)\u001b[0m\u001b[0;34m,\u001b[0m\u001b[0mpart\u001b[0m\u001b[0;34m=\u001b[0m\u001b[0;34m\"a\"\u001b[0m\u001b[0;34m,\u001b[0m\u001b[0mday\u001b[0m\u001b[0;34m=\u001b[0m\u001b[0mDD\u001b[0m\u001b[0;34m,\u001b[0m \u001b[0myear\u001b[0m\u001b[0;34m=\u001b[0m\u001b[0mYYYY\u001b[0m\u001b[0;34m)\u001b[0m\u001b[0;34m\u001b[0m\u001b[0;34m\u001b[0m\u001b[0m\n\u001b[0m",
      "\u001b[0;32m/tmp/ipykernel_102734/389870966.py\u001b[0m in \u001b[0;36msolution_a\u001b[0;34m(data)\u001b[0m\n\u001b[1;32m      2\u001b[0m     \u001b[0mc\u001b[0m \u001b[0;34m=\u001b[0m \u001b[0mnp\u001b[0m\u001b[0;34m.\u001b[0m\u001b[0mzeros\u001b[0m\u001b[0;34m(\u001b[0m\u001b[0;34m(\u001b[0m\u001b[0;36m101\u001b[0m\u001b[0;34m,\u001b[0m\u001b[0;36m101\u001b[0m\u001b[0;34m,\u001b[0m\u001b[0;36m101\u001b[0m\u001b[0;34m)\u001b[0m\u001b[0;34m,\u001b[0m \u001b[0mint\u001b[0m\u001b[0;34m)\u001b[0m\u001b[0;34m\u001b[0m\u001b[0;34m\u001b[0m\u001b[0m\n\u001b[1;32m      3\u001b[0m     \u001b[0;32mfor\u001b[0m \u001b[0ms\u001b[0m\u001b[0;34m,\u001b[0m \u001b[0md\u001b[0m \u001b[0;32min\u001b[0m \u001b[0mdata\u001b[0m\u001b[0;34m:\u001b[0m\u001b[0;34m\u001b[0m\u001b[0;34m\u001b[0m\u001b[0m\n\u001b[0;32m----> 4\u001b[0;31m         \u001b[0mx1\u001b[0m\u001b[0;34m,\u001b[0m\u001b[0mx2\u001b[0m\u001b[0;34m,\u001b[0m \u001b[0my1\u001b[0m\u001b[0;34m,\u001b[0m\u001b[0my2\u001b[0m\u001b[0;34m,\u001b[0m \u001b[0mz1\u001b[0m\u001b[0;34m,\u001b[0m \u001b[0mz2\u001b[0m \u001b[0;34m=\u001b[0m \u001b[0mtransform\u001b[0m\u001b[0;34m(\u001b[0m\u001b[0md\u001b[0m\u001b[0;34m)\u001b[0m\u001b[0;34m\u001b[0m\u001b[0;34m\u001b[0m\u001b[0m\n\u001b[0m\u001b[1;32m      5\u001b[0m         \u001b[0mc\u001b[0m\u001b[0;34m[\u001b[0m\u001b[0mx1\u001b[0m\u001b[0;34m:\u001b[0m\u001b[0mx2\u001b[0m\u001b[0;34m+\u001b[0m\u001b[0;36m1\u001b[0m\u001b[0;34m,\u001b[0m\u001b[0my1\u001b[0m\u001b[0;34m:\u001b[0m\u001b[0my2\u001b[0m\u001b[0;34m+\u001b[0m\u001b[0;36m1\u001b[0m\u001b[0;34m,\u001b[0m\u001b[0mz1\u001b[0m\u001b[0;34m:\u001b[0m\u001b[0mz2\u001b[0m\u001b[0;34m+\u001b[0m\u001b[0;36m1\u001b[0m\u001b[0;34m]\u001b[0m \u001b[0;34m=\u001b[0m \u001b[0ms\u001b[0m\u001b[0;34m\u001b[0m\u001b[0;34m\u001b[0m\u001b[0m\n\u001b[1;32m      6\u001b[0m         \u001b[0;31m#print(c.sum())\u001b[0m\u001b[0;34m\u001b[0m\u001b[0;34m\u001b[0m\u001b[0;34m\u001b[0m\u001b[0m\n",
      "\u001b[0;32m/tmp/ipykernel_102734/3263667197.py\u001b[0m in \u001b[0;36mtransform\u001b[0;34m(cubes)\u001b[0m\n\u001b[1;32m      2\u001b[0m     \u001b[0mc\u001b[0m\u001b[0;34m=\u001b[0m\u001b[0mlist\u001b[0m\u001b[0;34m(\u001b[0m\u001b[0mcubes\u001b[0m\u001b[0;34m)\u001b[0m\u001b[0;34m\u001b[0m\u001b[0;34m\u001b[0m\u001b[0m\n\u001b[1;32m      3\u001b[0m     \u001b[0;32mfor\u001b[0m \u001b[0mi\u001b[0m\u001b[0;34m,\u001b[0m\u001b[0mv\u001b[0m \u001b[0;32min\u001b[0m \u001b[0menumerate\u001b[0m\u001b[0;34m(\u001b[0m\u001b[0mcubes\u001b[0m\u001b[0;34m)\u001b[0m\u001b[0;34m:\u001b[0m\u001b[0;34m\u001b[0m\u001b[0;34m\u001b[0m\u001b[0m\n\u001b[0;32m----> 4\u001b[0;31m         \u001b[0mc\u001b[0m\u001b[0;34m[\u001b[0m\u001b[0mi\u001b[0m\u001b[0;34m]\u001b[0m \u001b[0;34m=\u001b[0m \u001b[0;36m50\u001b[0m\u001b[0;34m+\u001b[0m\u001b[0;34m(\u001b[0m\u001b[0mmin\u001b[0m\u001b[0;34m(\u001b[0m\u001b[0;36m50\u001b[0m\u001b[0;34m,\u001b[0m \u001b[0mv\u001b[0m\u001b[0;34m)\u001b[0m \u001b[0;32mif\u001b[0m \u001b[0mi\u001b[0m \u001b[0;34m%\u001b[0m \u001b[0;36m2\u001b[0m \u001b[0;32melse\u001b[0m \u001b[0mmax\u001b[0m\u001b[0;34m(\u001b[0m\u001b[0;34m-\u001b[0m\u001b[0;36m50\u001b[0m\u001b[0;34m,\u001b[0m\u001b[0mv\u001b[0m\u001b[0;34m)\u001b[0m\u001b[0;34m)\u001b[0m\u001b[0;34m\u001b[0m\u001b[0;34m\u001b[0m\u001b[0m\n\u001b[0m\u001b[1;32m      5\u001b[0m     \u001b[0;32mreturn\u001b[0m \u001b[0mc\u001b[0m\u001b[0;34m\u001b[0m\u001b[0;34m\u001b[0m\u001b[0m\n",
      "\u001b[0;31mTypeError\u001b[0m: '>' not supported between instances of 'tuple' and 'int'"
     ]
    }
   ],
   "source": [
    "submit(solution_a(data_in),part=\"a\",day=DD, year=YYYY)"
   ]
  },
  {
   "cell_type": "markdown",
   "id": "706ace18",
   "metadata": {},
   "source": [
    "# Teil b"
   ]
  },
  {
   "cell_type": "code",
   "execution_count": 8,
   "id": "b2993dc6",
   "metadata": {},
   "outputs": [],
   "source": [
    "def isin(a, b):\n",
    "    # is a in b?\n",
    "    if a == \"v\":\n",
    "        return False\n",
    "    a1,a2=a\n",
    "    b1,b2=b\n",
    "    return (b1 <= a1 and a2 <= b2)    \n",
    "\n",
    "\n",
    "def create_interval(l,r):\n",
    "    if r-l > 1:\n",
    "        return set([(l,l), (l+1,r-1), (r,r)])\n",
    "    return set([(l,l), (r,r)])\n",
    "    \n",
    "def list2interval(l):\n",
    "    result = set()\n",
    "    for l,r in zip(l[:-1],l[1:]):\n",
    "        result |= create_interval(l,r)\n",
    "    return list(result)\n",
    "    \n",
    "            \n",
    "def init(data):\n",
    "    X,Y,Z = set(),set(),set()\n",
    "    for switch, cube in data:\n",
    "        x,y,z = cube\n",
    "        X|=set([x[0],x[1]])\n",
    "        Y|=set([y[0],y[1]])\n",
    "        Z|=set([z[0],z[1]])\n",
    "    X=list2interval(sorted(list(X)))\n",
    "    Y=list2interval(sorted(list(Y)))\n",
    "    Z=list2interval(sorted(list(Z)))\n",
    "    return sorted(X),sorted(Y),sorted(Z)\n",
    "\n",
    "def get_volumns(x,y,z):\n",
    "    x=np.array([1+x1-x0 for x0,x1 in x])\n",
    "    y=np.array([1+y1-y0 for y0,y1 in y])\n",
    "    z=np.array([1+z1-z0 for z0,z1 in z])\n",
    "    X,Y,Z = np.ix_(x,y,z)\n",
    "    return X*Y*Z\n",
    "\n",
    "def split_cube2(cube, X,Y,Z):\n",
    "    x,y,z = cube\n",
    "    _x=[xx for i, xx in  enumerate(X) if isin(xx, x)]\n",
    "    _y=[yy for i, yy in  enumerate(Y) if isin(yy, y)]\n",
    "    _z=[zz for i, zz in  enumerate(Z) if isin(zz, z)]\n",
    "    return _x, _y, _z\n",
    "\n",
    "def get_cube(cube, X,Y,Z):\n",
    "    x,y,z = cube\n",
    "    _x=[i for i, xx in  enumerate(X) if isin(xx, x)]\n",
    "    _y=[i for i, yy in  enumerate(Y) if isin(yy, y)]\n",
    "    _z=[i for i, zz in  enumerate(Z) if isin(zz, z)]\n",
    "    return ((min(_x), max(_x)),(min(_y), max(_y)),(min(_z), max(_z)))\n",
    "\n",
    "    \n",
    "def count2(meta, x,y,z):\n",
    "    s = 0\n",
    "    dimx,dimy,dimz=meta.shape\n",
    "    \n",
    "    for xx in range(dimx):\n",
    "        print(xx)\n",
    "        xxx = (1+x[xx][1]-x[xx][0])\n",
    "        for yy in range(dimy):\n",
    "            yyy = (1+y[yy][1]-y[yy][0])\n",
    "            for zz in range(dimz):\n",
    "                if meta[xx,yy,zz]:\n",
    "                    s += xxx*yyy*(1+z[zz][1]-z[zz][0])\n",
    "    return s\n",
    "\n",
    "def count(meta, vols):    \n",
    "    for i in range(meta.shape[0]):\n",
    "        vols[i,:,:] *= meta[i,:,:]\n",
    "\n",
    "                \n",
    "\n",
    "def solution_b(data):\n",
    "    x,y,z = init(data)\n",
    "    dimx, dimy, dimz = len(x), len(y), len(z)\n",
    "    meta = np.zeros((dimx, dimy, dimz), bool)\n",
    "    volumns = get_volumns(x,y,z)\n",
    "    for i, (switch, cube) in enumerate(data):\n",
    "        # print(i,cube)\n",
    "        (x1,x2),(y1,y2),(z1,z2) = get_cube(cube, x,y,z)\n",
    "        meta[x1:x2+1,y1:y2+1,z1:z2+1] = switch \n",
    "    print(\"calc volumn ... may take a while\")\n",
    "    count(meta, volumns)\n",
    "    return volumns.sum()\n",
    "                    "
   ]
  },
  {
   "cell_type": "code",
   "execution_count": 12,
   "id": "38c8ad50",
   "metadata": {},
   "outputs": [
    {
     "name": "stdout",
     "output_type": "stream",
     "text": [
      "calc volumn ... may take a while\n",
      "CPU times: user 50.2 ms, sys: 31.9 ms, total: 82.1 ms\n",
      "Wall time: 80.3 ms\n"
     ]
    },
    {
     "data": {
      "text/plain": [
       "2758514936282235"
      ]
     },
     "execution_count": 12,
     "metadata": {},
     "output_type": "execute_result"
    }
   ],
   "source": [
    "%%time\n",
    "solution_b(test3)"
   ]
  },
  {
   "cell_type": "code",
   "execution_count": 13,
   "id": "6c312f7c",
   "metadata": {},
   "outputs": [
    {
     "name": "stdout",
     "output_type": "stream",
     "text": [
      "calc volumn ... may take a while\n",
      "CPU times: user 1min 27s, sys: 4min 11s, total: 5min 39s\n",
      "Wall time: 25min 26s\n"
     ]
    },
    {
     "data": {
      "text/plain": [
       "1263946820845866"
      ]
     },
     "execution_count": 13,
     "metadata": {},
     "output_type": "execute_result"
    }
   ],
   "source": [
    "%%time\n",
    "solution_b(data_in)"
   ]
  },
  {
   "cell_type": "code",
   "execution_count": 50,
   "id": "d70117a7",
   "metadata": {},
   "outputs": [
    {
     "data": {
      "text/plain": [
       "array([[[ 48,  56,  64,  72],\n",
       "        [ 60,  70,  80,  90]],\n",
       "\n",
       "       [[ 96, 112, 128, 144],\n",
       "        [120, 140, 160, 180]],\n",
       "\n",
       "       [[144, 168, 192, 216],\n",
       "        [180, 210, 240, 270]]])"
      ]
     },
     "execution_count": 50,
     "metadata": {},
     "output_type": "execute_result"
    }
   ],
   "source": [
    "i+i"
   ]
  },
  {
   "cell_type": "code",
   "execution_count": null,
   "id": "82c3f60e",
   "metadata": {},
   "outputs": [],
   "source": []
  }
 ],
 "metadata": {
  "kernelspec": {
   "display_name": "Python 3 (ipykernel)",
   "language": "python",
   "name": "python3"
  },
  "language_info": {
   "codemirror_mode": {
    "name": "ipython",
    "version": 3
   },
   "file_extension": ".py",
   "mimetype": "text/x-python",
   "name": "python",
   "nbconvert_exporter": "python",
   "pygments_lexer": "ipython3",
   "version": "3.7.11"
  }
 },
 "nbformat": 4,
 "nbformat_minor": 5
}
