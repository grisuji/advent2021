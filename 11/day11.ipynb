{
 "cells": [
  {
   "cell_type": "code",
   "execution_count": 1,
   "id": "56b2dd01",
   "metadata": {},
   "outputs": [],
   "source": [
    "from aocd import submit\n",
    "import numpy as np\n",
    "import re"
   ]
  },
  {
   "cell_type": "code",
   "execution_count": 2,
   "id": "e027d709",
   "metadata": {},
   "outputs": [],
   "source": [
    "YYYY=2021\n",
    "DD=11"
   ]
  },
  {
   "cell_type": "code",
   "execution_count": 39,
   "id": "25fa5b91",
   "metadata": {},
   "outputs": [
    {
     "data": {
      "text/plain": [
       "array([[5, 4, 8, 3, 1, 4, 3, 2, 2, 3],\n",
       "       [2, 7, 4, 5, 8, 5, 4, 7, 1, 1],\n",
       "       [5, 2, 6, 4, 5, 5, 6, 1, 7, 3],\n",
       "       [6, 1, 4, 1, 3, 3, 6, 1, 4, 6],\n",
       "       [6, 3, 5, 7, 3, 8, 5, 4, 7, 8],\n",
       "       [4, 1, 6, 7, 5, 2, 4, 6, 4, 5],\n",
       "       [2, 1, 7, 6, 8, 4, 1, 7, 2, 1],\n",
       "       [6, 8, 8, 2, 8, 8, 1, 1, 3, 4],\n",
       "       [4, 8, 4, 6, 8, 4, 8, 5, 5, 4],\n",
       "       [5, 2, 8, 3, 7, 5, 1, 5, 2, 6]])"
      ]
     },
     "execution_count": 39,
     "metadata": {},
     "output_type": "execute_result"
    }
   ],
   "source": [
    "def load(filename):\n",
    "    with open(filename,'r') as f:\n",
    "         lines = [ [int(n) for n in s.rstrip(\"\\n\")]  for s in f]\n",
    "    return np.array(lines)\n",
    "test0 = load(\"test0.dat\")\n",
    "test1 = load(\"test1.dat\")\n",
    "test1"
   ]
  },
  {
   "cell_type": "code",
   "execution_count": 10,
   "id": "2ee85b6c",
   "metadata": {},
   "outputs": [],
   "source": [
    "data_in = load(\"input.dat\")"
   ]
  },
  {
   "cell_type": "markdown",
   "id": "6299ea79",
   "metadata": {},
   "source": [
    "# Teil a"
   ]
  },
  {
   "cell_type": "code",
   "execution_count": 135,
   "id": "7425b5e0",
   "metadata": {},
   "outputs": [],
   "source": [
    "def inc(data):\n",
    "    return data + 1\n",
    "\n",
    "def is_adj_octopus(data, x, y):\n",
    "    dimx, dimy = data.shape\n",
    "    return dimx > x >= 0 and dimy > y >= 0\n",
    "\n",
    "def inc_adj(data, x, y):\n",
    "    for i in [-1, 0, 1]:\n",
    "        for j in [-1, 0, 1]:\n",
    "            if i==0 and j == 0:\n",
    "                continue\n",
    "            xx, yy = x+i, y+j\n",
    "            if is_adj_octopus(data, xx,yy):\n",
    "                data[xx, yy] +=1\n",
    "    return data\n",
    "\n",
    "def step(data):\n",
    "    octos = flash(inc(data), {})\n",
    "    return octos, len(np.where(octos==0)[0])\n",
    "    \n",
    "\n",
    "def flash(data, mem):\n",
    "    new_mem = {pos for pos in zip(*np.where(data > 9))}\n",
    "    flashes = np.where(data > 9)\n",
    "    flashed = False\n",
    "    for x, y in zip(*flashes):\n",
    "        if (x,y) in mem:\n",
    "            continue\n",
    "        if not flashed:\n",
    "            #print(\"flash\")\n",
    "            flashed = True\n",
    "        data = inc_adj(data, x, y) \n",
    "    if flashed:\n",
    "        data = flash(data, new_mem)\n",
    "    data[flashes] = 0\n",
    "    return data\n",
    "    \n",
    "step(test1)\n",
    "def solution_a(data):\n",
    "    flashs = 0\n",
    "    for _ in range(100):\n",
    "        data, f = step(data)\n",
    "        flashs += f\n",
    "        #print(data, f)\n",
    "    return flashs"
   ]
  },
  {
   "cell_type": "code",
   "execution_count": 141,
   "id": "04bc4e5a",
   "metadata": {},
   "outputs": [
    {
     "data": {
      "text/plain": [
       "1656"
      ]
     },
     "execution_count": 141,
     "metadata": {},
     "output_type": "execute_result"
    }
   ],
   "source": [
    "solution_a(test1)"
   ]
  },
  {
   "cell_type": "code",
   "execution_count": 123,
   "id": "6cf11ccf",
   "metadata": {},
   "outputs": [
    {
     "name": "stdout",
     "output_type": "stream",
     "text": [
      "\u001b[32mThat's the right answer!  You are one gold star closer to finding the sleigh keys. [Continue to Part Two]\u001b[0m\n"
     ]
    },
    {
     "data": {
      "text/plain": [
       "<Response [200]>"
      ]
     },
     "execution_count": 123,
     "metadata": {},
     "output_type": "execute_result"
    }
   ],
   "source": [
    "submit(solution_a(data_in),part=\"a\",day=DD, year=YYYY)"
   ]
  },
  {
   "cell_type": "markdown",
   "id": "706ace18",
   "metadata": {},
   "source": [
    "# Teil b"
   ]
  },
  {
   "cell_type": "code",
   "execution_count": 138,
   "id": "97bc6f05",
   "metadata": {},
   "outputs": [],
   "source": [
    "def solution_b(data):\n",
    "    flashs = 0\n",
    "    for i in range(10000):\n",
    "        data, f = step(data)\n",
    "        if f == 100:\n",
    "            return i+1\n",
    "        flashs += f\n",
    "        #print(data, f)\n",
    "    return flashs"
   ]
  },
  {
   "cell_type": "code",
   "execution_count": 139,
   "id": "fae1d1c9",
   "metadata": {},
   "outputs": [
    {
     "data": {
      "text/plain": [
       "195"
      ]
     },
     "execution_count": 139,
     "metadata": {},
     "output_type": "execute_result"
    }
   ],
   "source": [
    "solution_b(test1)"
   ]
  },
  {
   "cell_type": "code",
   "execution_count": 134,
   "id": "9145d4ca",
   "metadata": {},
   "outputs": [
    {
     "name": "stdout",
     "output_type": "stream",
     "text": [
      "0\n",
      "100\n",
      "200\n",
      "\u001b[32mThat's the right answer!  You are one gold star closer to finding the sleigh keys.You have completed Day 11! You can [Shareon\n",
      "  Twitter\n",
      "Mastodon] this victory or [Return to Your Advent Calendar].\u001b[0m\n"
     ]
    },
    {
     "data": {
      "text/plain": [
       "<Response [200]>"
      ]
     },
     "execution_count": 134,
     "metadata": {},
     "output_type": "execute_result"
    }
   ],
   "source": [
    "submit(solution_b(data_in),part=\"b\",day=DD, year=YYYY)"
   ]
  },
  {
   "cell_type": "code",
   "execution_count": null,
   "id": "bb9c0977",
   "metadata": {},
   "outputs": [],
   "source": []
  }
 ],
 "metadata": {
  "kernelspec": {
   "display_name": "Python 3 (ipykernel)",
   "language": "python",
   "name": "python3"
  },
  "language_info": {
   "codemirror_mode": {
    "name": "ipython",
    "version": 3
   },
   "file_extension": ".py",
   "mimetype": "text/x-python",
   "name": "python",
   "nbconvert_exporter": "python",
   "pygments_lexer": "ipython3",
   "version": "3.7.11"
  }
 },
 "nbformat": 4,
 "nbformat_minor": 5
}
