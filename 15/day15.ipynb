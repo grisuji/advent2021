{
 "cells": [
  {
   "cell_type": "code",
   "execution_count": 1,
   "id": "56b2dd01",
   "metadata": {},
   "outputs": [],
   "source": [
    "from aocd import submit\n",
    "import numpy as np\n",
    "import re"
   ]
  },
  {
   "cell_type": "code",
   "execution_count": 2,
   "id": "e027d709",
   "metadata": {},
   "outputs": [],
   "source": [
    "YYYY=2021\n",
    "DD=15"
   ]
  },
  {
   "cell_type": "code",
   "execution_count": 3,
   "id": "e8e45327",
   "metadata": {},
   "outputs": [
    {
     "name": "stdout",
     "output_type": "stream",
     "text": [
      "3000\n"
     ]
    }
   ],
   "source": [
    "import sys\n",
    "print(sys.getrecursionlimit())\n"
   ]
  },
  {
   "cell_type": "code",
   "execution_count": 4,
   "id": "e205b06a",
   "metadata": {},
   "outputs": [],
   "source": [
    "sys.setrecursionlimit(30000)"
   ]
  },
  {
   "cell_type": "code",
   "execution_count": 5,
   "id": "25fa5b91",
   "metadata": {},
   "outputs": [
    {
     "data": {
      "text/plain": [
       "array([[1, 1, 6, 3, 7, 5, 1, 7, 4, 2],\n",
       "       [1, 3, 8, 1, 3, 7, 3, 6, 7, 2],\n",
       "       [2, 1, 3, 6, 5, 1, 1, 3, 2, 8],\n",
       "       [3, 6, 9, 4, 9, 3, 1, 5, 6, 9],\n",
       "       [7, 4, 6, 3, 4, 1, 7, 1, 1, 1],\n",
       "       [1, 3, 1, 9, 1, 2, 8, 1, 3, 7],\n",
       "       [1, 3, 5, 9, 9, 1, 2, 4, 2, 1],\n",
       "       [3, 1, 2, 5, 4, 2, 1, 6, 3, 9],\n",
       "       [1, 2, 9, 3, 1, 3, 8, 5, 2, 1],\n",
       "       [2, 3, 1, 1, 9, 4, 4, 5, 8, 1]])"
      ]
     },
     "execution_count": 5,
     "metadata": {},
     "output_type": "execute_result"
    }
   ],
   "source": [
    "def load(filename):\n",
    "    with open(filename,'r') as f:\n",
    "         lines = [ [int(n) for n in s.rstrip(\"\\n\")]  for s in f]\n",
    "    return np.array(lines)\n",
    "test1 = load(\"test1.dat\")\n",
    "test1"
   ]
  },
  {
   "cell_type": "code",
   "execution_count": 6,
   "id": "2ee85b6c",
   "metadata": {},
   "outputs": [
    {
     "data": {
      "text/plain": [
       "array([[6, 7, 6, ..., 8, 6, 9],\n",
       "       [2, 3, 1, ..., 7, 4, 3],\n",
       "       [2, 6, 1, ..., 5, 7, 4],\n",
       "       ...,\n",
       "       [2, 1, 1, ..., 1, 9, 3],\n",
       "       [7, 9, 1, ..., 1, 2, 2],\n",
       "       [7, 8, 3, ..., 5, 7, 7]])"
      ]
     },
     "execution_count": 6,
     "metadata": {},
     "output_type": "execute_result"
    }
   ],
   "source": [
    "data_in = load(\"input.dat\")\n",
    "data_in"
   ]
  },
  {
   "cell_type": "markdown",
   "id": "6299ea79",
   "metadata": {},
   "source": [
    "# Teil a"
   ]
  },
  {
   "cell_type": "code",
   "execution_count": 7,
   "id": "7425b5e0",
   "metadata": {},
   "outputs": [],
   "source": [
    "def traverse(data, pos, risk, visited):\n",
    "    dimx, dimy = data.shape\n",
    "    x,y=pos\n",
    "    if x < 0 or x >= dimx or y < 0 or y >= dimy:\n",
    "        return -1\n",
    "    if pos in visited and visited[pos] <= risk:\n",
    "        return -1\n",
    "    visited[pos] = risk\n",
    "    risk += data[x,y]\n",
    "    if x == dimx-1 and y == dimy-1:\n",
    "        #print(risk)\n",
    "        return risk \n",
    "    best =  -1\n",
    "    for step in [ (x+1,y), (x, y+1)]:# ,(x-1,y), (x,y-1) ]:\n",
    "        _risk = traverse(data, step, risk,visited)\n",
    "        if _risk == -1:\n",
    "            continue\n",
    "        if best == -1 or _risk < best:\n",
    "            best = _risk\n",
    "    return best\n",
    "\n",
    "def solution_a(data):\n",
    "    return traverse(data, (0,0), 0, {})-data[0,0]"
   ]
  },
  {
   "cell_type": "code",
   "execution_count": 8,
   "id": "dec9cd4e",
   "metadata": {},
   "outputs": [
    {
     "data": {
      "text/plain": [
       "40"
      ]
     },
     "execution_count": 8,
     "metadata": {},
     "output_type": "execute_result"
    }
   ],
   "source": [
    "solution_a(test1)"
   ]
  },
  {
   "cell_type": "code",
   "execution_count": 9,
   "id": "6cf11ccf",
   "metadata": {},
   "outputs": [
    {
     "name": "stdout",
     "output_type": "stream",
     "text": [
      "Part a already solved with same answer: 553\n"
     ]
    }
   ],
   "source": [
    "submit(solution_a(data_in),part=\"a\",day=DD, year=YYYY)"
   ]
  },
  {
   "cell_type": "markdown",
   "id": "706ace18",
   "metadata": {},
   "source": [
    "# Teil b"
   ]
  },
  {
   "cell_type": "code",
   "execution_count": 16,
   "id": "6738d0b1",
   "metadata": {},
   "outputs": [],
   "source": [
    "def expand(data):\n",
    "    d= data\n",
    "    for i in range(4):\n",
    "        dd = data+i+1\n",
    "        dd[np.where(dd>9)]-= 9\n",
    "        d= np.concatenate((d,dd), axis=1)\n",
    "    _data = d\n",
    "    for i in range(4):\n",
    "        dd = _data+i+1\n",
    "        dd[np.where(dd>9)]-=9\n",
    "        d= np.concatenate((d,dd), axis=0)\n",
    "    return d\n",
    "\n",
    "def traverse(data, pos, risk, visited, neg):\n",
    "    dimx, dimy = data.shape\n",
    "    visited[pos] = risk\n",
    "    x,y=pos\n",
    "    risk += data[x,y]\n",
    "\n",
    "    if risk > visited[\"best\"]:\n",
    "        return -1\n",
    "    if x == dimx-1 and y == dimy-1:\n",
    "        visited[\"best\"] = risk\n",
    "\n",
    "        return risk \n",
    "    best =  -1\n",
    "    for step in [ (x+1,y), (x, y+1), (x-1,y), (x, y-1) ]:\n",
    "        if step == (x-1,y) or step == (x, y-1):\n",
    "            if neg <= 0:\n",
    "                continue\n",
    "            else:\n",
    "                neg -= 1\n",
    "        if step[0]< 0 or step[0] >= dimx or step[1] < 0 or step[1] >= dimy:\n",
    "            continue\n",
    "        if step in visited and visited[step] <= risk:\n",
    "            continue\n",
    "        _risk = traverse(data, step, risk,visited, neg)\n",
    "        if _risk == -1:\n",
    "            continue\n",
    "        if best == -1 or _risk < best:\n",
    "            best = _risk\n",
    "    return best\n",
    "\n",
    "def solution_b(data):\n",
    "    return traverse(expand(data), (0,0), -data[0,0], {\"best\":3000}, neg=2)"
   ]
  },
  {
   "cell_type": "code",
   "execution_count": 17,
   "id": "c3ef7c89",
   "metadata": {},
   "outputs": [
    {
     "name": "stdout",
     "output_type": "stream",
     "text": [
      "CPU times: user 279 ms, sys: 3 µs, total: 279 ms\n",
      "Wall time: 278 ms\n"
     ]
    },
    {
     "data": {
      "text/plain": [
       "315"
      ]
     },
     "execution_count": 17,
     "metadata": {},
     "output_type": "execute_result"
    }
   ],
   "source": [
    "%%time\n",
    "solution_b(test1)"
   ]
  },
  {
   "cell_type": "code",
   "execution_count": 18,
   "id": "0c3709a5",
   "metadata": {},
   "outputs": [
    {
     "name": "stdout",
     "output_type": "stream",
     "text": [
      "CPU times: user 7min 24s, sys: 52 ms, total: 7min 24s\n",
      "Wall time: 7min 24s\n"
     ]
    },
    {
     "data": {
      "text/plain": [
       "2858"
      ]
     },
     "execution_count": 18,
     "metadata": {},
     "output_type": "execute_result"
    }
   ],
   "source": [
    "%%time\n",
    "solution_b(data_in)"
   ]
  },
  {
   "cell_type": "code",
   "execution_count": null,
   "id": "9145d4ca",
   "metadata": {},
   "outputs": [],
   "source": [
    "submit(solution_b(data_in),part=\"b\",day=DD, year=YYYY)"
   ]
  }
 ],
 "metadata": {
  "kernelspec": {
   "display_name": "Python 3 (ipykernel)",
   "language": "python",
   "name": "python3"
  },
  "language_info": {
   "codemirror_mode": {
    "name": "ipython",
    "version": 3
   },
   "file_extension": ".py",
   "mimetype": "text/x-python",
   "name": "python",
   "nbconvert_exporter": "python",
   "pygments_lexer": "ipython3",
   "version": "3.7.11"
  }
 },
 "nbformat": 4,
 "nbformat_minor": 5
}
