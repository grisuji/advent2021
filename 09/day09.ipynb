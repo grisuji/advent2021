{
 "cells": [
  {
   "cell_type": "code",
   "execution_count": 148,
   "id": "56b2dd01",
   "metadata": {},
   "outputs": [],
   "source": [
    "from aocd import submit\n",
    "import numpy as np\n",
    "from functools import reduce"
   ]
  },
  {
   "cell_type": "code",
   "execution_count": 2,
   "id": "e027d709",
   "metadata": {},
   "outputs": [],
   "source": [
    "YYYY=2021\n",
    "DD=9"
   ]
  },
  {
   "cell_type": "code",
   "execution_count": 8,
   "id": "25fa5b91",
   "metadata": {},
   "outputs": [
    {
     "data": {
      "text/plain": [
       "array([[2, 1, 9, 9, 9, 4, 3, 2, 1, 0],\n",
       "       [3, 9, 8, 7, 8, 9, 4, 9, 2, 1],\n",
       "       [9, 8, 5, 6, 7, 8, 9, 8, 9, 2],\n",
       "       [8, 7, 6, 7, 8, 9, 6, 7, 8, 9],\n",
       "       [9, 8, 9, 9, 9, 6, 5, 6, 7, 8]])"
      ]
     },
     "execution_count": 8,
     "metadata": {},
     "output_type": "execute_result"
    }
   ],
   "source": [
    "def split(word):\n",
    "    return [int(n) for n in word]\n",
    "\n",
    "def load(filename):\n",
    "    with open(filename,'r') as f:\n",
    "         lines = [s.rstrip(\"\\n\")  for s in f]\n",
    "    return np.array([ split(l) for l in lines])\n",
    "test1 = load(\"test1.dat\")\n",
    "test1"
   ]
  },
  {
   "cell_type": "code",
   "execution_count": 9,
   "id": "2ee85b6c",
   "metadata": {},
   "outputs": [],
   "source": [
    "data_in = load(\"input.dat\")"
   ]
  },
  {
   "cell_type": "markdown",
   "id": "6299ea79",
   "metadata": {},
   "source": [
    "# Teil a"
   ]
  },
  {
   "cell_type": "code",
   "execution_count": 12,
   "id": "fbc79c94",
   "metadata": {},
   "outputs": [
    {
     "data": {
      "text/plain": [
       "8"
      ]
     },
     "execution_count": 12,
     "metadata": {},
     "output_type": "execute_result"
    }
   ],
   "source": [
    "test1[4,9]"
   ]
  },
  {
   "cell_type": "code",
   "execution_count": 67,
   "id": "7425b5e0",
   "metadata": {},
   "outputs": [],
   "source": [
    "def is_lowpoint(data, x,y):\n",
    "    p = data[x,y]\n",
    "    dimx, dimy = data.shape    \n",
    "    if (x-1 >= 0) and (data[x-1, y] <=  p):\n",
    "        return False\n",
    "    if (x+1 < dimx) and (data[x+1, y] <=  p):\n",
    "        return False\n",
    "    if y-1 >= 0 and data[x, y-1] <=  p:\n",
    "        return False\n",
    "    if y+1 < dimy and data[x, y+1] <=  p:\n",
    "        return False\n",
    "    \n",
    "    return True\n",
    "    \n",
    "def solution_a(data):\n",
    "    dimx, dimy = data.shape\n",
    "    risk=0\n",
    "    for x in range(dimx):\n",
    "        for y in range(dimy):\n",
    "            if is_lowpoint(data,x,y):\n",
    "                risk += data[x,y]+1\n",
    "    return risk"
   ]
  },
  {
   "cell_type": "code",
   "execution_count": 69,
   "id": "dec9cd4e",
   "metadata": {},
   "outputs": [
    {
     "data": {
      "text/plain": [
       "15"
      ]
     },
     "execution_count": 69,
     "metadata": {},
     "output_type": "execute_result"
    }
   ],
   "source": [
    "solution_a(test1)"
   ]
  },
  {
   "cell_type": "code",
   "execution_count": 70,
   "id": "6cf11ccf",
   "metadata": {},
   "outputs": [
    {
     "name": "stdout",
     "output_type": "stream",
     "text": [
      "\u001b[32mThat's the right answer!  You are one gold star closer to finding the sleigh keys. [Continue to Part Two]\u001b[0m\n"
     ]
    },
    {
     "data": {
      "text/plain": [
       "<Response [200]>"
      ]
     },
     "execution_count": 70,
     "metadata": {},
     "output_type": "execute_result"
    }
   ],
   "source": [
    "submit(solution_a(data_in),part=\"a\",day=DD, year=YYYY)"
   ]
  },
  {
   "cell_type": "markdown",
   "id": "706ace18",
   "metadata": {},
   "source": [
    "# Teil b"
   ]
  },
  {
   "cell_type": "code",
   "execution_count": 149,
   "id": "97bc6f05",
   "metadata": {},
   "outputs": [],
   "source": [
    "def find_basin(data, x, y, basin_points):\n",
    "    if (x,y) in basin_points or data[x,y]==9:\n",
    "        return \n",
    "    dimx, dimy = data.shape\n",
    "    if (x < 0) or (y < 0) or (x >= dimx) or (y >= dimy):\n",
    "        return \n",
    "    B.add((x,y))\n",
    "    basin(data,x-1,y, basin_points)\n",
    "    basin(data,x+1,y, basin_points)\n",
    "    basin(data,x,y-1, basin_points)\n",
    "    basin(data,x,y+1, basin_points)\n",
    "    \n",
    "def solution_b(data):\n",
    "    dimx, dimy = data.shape\n",
    "    basins=[]\n",
    "    for x in range(dimx):\n",
    "        for y in range(dimy):\n",
    "            if is_lowpoint(data,x,y):\n",
    "                B=set()\n",
    "                find_basin(data,x,y,B)\n",
    "                basins.append(len(B))\n",
    "    basins = sorted(basins)\n",
    "    return reduce(lambda x,y: x*y, basins[-3:])"
   ]
  },
  {
   "cell_type": "code",
   "execution_count": 150,
   "id": "fae1d1c9",
   "metadata": {},
   "outputs": [
    {
     "data": {
      "text/plain": [
       "1134"
      ]
     },
     "execution_count": 150,
     "metadata": {},
     "output_type": "execute_result"
    }
   ],
   "source": [
    "solution_b(test1)"
   ]
  },
  {
   "cell_type": "code",
   "execution_count": 143,
   "id": "9145d4ca",
   "metadata": {},
   "outputs": [
    {
     "name": "stdout",
     "output_type": "stream",
     "text": [
      "Part b already solved with same answer: 1148965\n"
     ]
    }
   ],
   "source": [
    "submit(solution_b(data_in),part=\"b\",day=DD, year=YYYY)"
   ]
  },
  {
   "cell_type": "code",
   "execution_count": null,
   "id": "d6290634",
   "metadata": {},
   "outputs": [],
   "source": []
  }
 ],
 "metadata": {
  "kernelspec": {
   "display_name": "Python 3 (ipykernel)",
   "language": "python",
   "name": "python3"
  },
  "language_info": {
   "codemirror_mode": {
    "name": "ipython",
    "version": 3
   },
   "file_extension": ".py",
   "mimetype": "text/x-python",
   "name": "python",
   "nbconvert_exporter": "python",
   "pygments_lexer": "ipython3",
   "version": "3.7.11"
  }
 },
 "nbformat": 4,
 "nbformat_minor": 5
}
