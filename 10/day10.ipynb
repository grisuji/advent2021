{
 "cells": [
  {
   "cell_type": "code",
   "execution_count": 1,
   "id": "56b2dd01",
   "metadata": {},
   "outputs": [],
   "source": [
    "from aocd import submit\n",
    "import numpy as np\n",
    "from functools import reduce\n",
    "import re"
   ]
  },
  {
   "cell_type": "code",
   "execution_count": 2,
   "id": "e027d709",
   "metadata": {},
   "outputs": [],
   "source": [
    "YYYY=2021\n",
    "DD=10"
   ]
  },
  {
   "cell_type": "code",
   "execution_count": 6,
   "id": "25fa5b91",
   "metadata": {},
   "outputs": [
    {
     "data": {
      "text/plain": [
       "['[({(<(())[]>[[{[]{<()<>>',\n",
       " '[(()[<>])]({[<{<<[]>>(',\n",
       " '{([(<{}[<>[]}>{[]{[(<()>',\n",
       " '(((({<>}<{<{<>}{[]{[]{}',\n",
       " '[[<[([]))<([[{}[[()]]]',\n",
       " '[{[{({}]{}}([{[{{{}}([]',\n",
       " '{<[[]]>}<{[{[{[]{()[[[]',\n",
       " '[<(<(<(<{}))><([]([]()',\n",
       " '<{([([[(<>()){}]>(<<{{',\n",
       " '<{([{{}}[<[[[<>{}]]]>[]]']"
      ]
     },
     "execution_count": 6,
     "metadata": {},
     "output_type": "execute_result"
    }
   ],
   "source": [
    "def load(filename):\n",
    "    with open(filename,'r') as f:\n",
    "         lines = [s.rstrip(\"\\n\") for s in f]\n",
    "    return lines\n",
    "test1 = load(\"test1.dat\")\n",
    "test1"
   ]
  },
  {
   "cell_type": "code",
   "execution_count": 7,
   "id": "2ee85b6c",
   "metadata": {},
   "outputs": [],
   "source": [
    "data_in = load(\"input.dat\")"
   ]
  },
  {
   "cell_type": "markdown",
   "id": "6299ea79",
   "metadata": {},
   "source": [
    "# Teil a"
   ]
  },
  {
   "cell_type": "code",
   "execution_count": 78,
   "id": "7425b5e0",
   "metadata": {},
   "outputs": [],
   "source": [
    "def cost_a(c):\n",
    "    return [3, 57, 1197, 25137][\")]}>\".find(c)]\n",
    "                \n",
    "\n",
    "def check(s):\n",
    "    stack = []\n",
    "    for c in s:\n",
    "        stack\n",
    "        cc = get_conterpart(c)\n",
    "        if cc == \"-\":\n",
    "            if c != stack.pop():\n",
    "                return cost_a(c)\n",
    "        else:\n",
    "            stack.append(cc)            \n",
    "    return 0\n",
    "\n",
    "def solution_a(data):\n",
    "    s = 0\n",
    "    for l in data:\n",
    "        s += check(l)\n",
    "    return s\n",
    "        "
   ]
  },
  {
   "cell_type": "code",
   "execution_count": 79,
   "id": "dec9cd4e",
   "metadata": {},
   "outputs": [
    {
     "data": {
      "text/plain": [
       "26397"
      ]
     },
     "execution_count": 79,
     "metadata": {},
     "output_type": "execute_result"
    }
   ],
   "source": [
    "solution_a(test1)"
   ]
  },
  {
   "cell_type": "code",
   "execution_count": 17,
   "id": "6cf11ccf",
   "metadata": {},
   "outputs": [
    {
     "name": "stdout",
     "output_type": "stream",
     "text": [
      "\u001b[32mThat's the right answer!  You are one gold star closer to finding the sleigh keys. [Continue to Part Two]\u001b[0m\n"
     ]
    },
    {
     "data": {
      "text/plain": [
       "<Response [200]>"
      ]
     },
     "execution_count": 17,
     "metadata": {},
     "output_type": "execute_result"
    }
   ],
   "source": [
    "submit(solution_a(data_in),part=\"a\",day=DD, year=YYYY)"
   ]
  },
  {
   "cell_type": "markdown",
   "id": "706ace18",
   "metadata": {},
   "source": [
    "# Teil b"
   ]
  },
  {
   "cell_type": "code",
   "execution_count": 74,
   "id": "97bc6f05",
   "metadata": {},
   "outputs": [],
   "source": [
    "def cost_b(c):\n",
    "    return \"0)]}>\".find(c)\n",
    "    \n",
    "def get_conterpart(c):\n",
    "    return \">)}]-\"[\"<({[\".find(c)]\n",
    "\n",
    "def check(s):\n",
    "    stack = []\n",
    "    for c in s:\n",
    "        stack\n",
    "        cc = get_conterpart(c)\n",
    "        if cc == \"-\":\n",
    "            if c != stack.pop():\n",
    "                return []\n",
    "        else:\n",
    "            stack.append(cc)            \n",
    "    return stack[::-1]\n",
    "\n",
    "def solution_b(data):\n",
    "    scores=[]\n",
    "    for l in data:\n",
    "        s = 0\n",
    "        rest = check(l)\n",
    "        if not rest:\n",
    "            continue\n",
    "        for c in rest:\n",
    "            s = s*5 + cost_b(c)\n",
    "        scores.append(s)\n",
    "    scores.sort()\n",
    "    return scores[int(len(scores)/2)]\n",
    "        \n"
   ]
  },
  {
   "cell_type": "code",
   "execution_count": 75,
   "id": "fae1d1c9",
   "metadata": {},
   "outputs": [
    {
     "data": {
      "text/plain": [
       "288957"
      ]
     },
     "execution_count": 75,
     "metadata": {},
     "output_type": "execute_result"
    }
   ],
   "source": [
    "solution_b(test1)"
   ]
  },
  {
   "cell_type": "code",
   "execution_count": 51,
   "id": "9145d4ca",
   "metadata": {},
   "outputs": [
    {
     "name": "stdout",
     "output_type": "stream",
     "text": [
      "Part b already solved with same answer: 3490802734\n"
     ]
    }
   ],
   "source": [
    "submit(solution_b(data_in),part=\"b\",day=DD, year=YYYY)"
   ]
  },
  {
   "cell_type": "markdown",
   "id": "8b5fd2c3",
   "metadata": {},
   "source": [
    "# recursive"
   ]
  },
  {
   "cell_type": "code",
   "execution_count": 123,
   "id": "4ef9a11d",
   "metadata": {},
   "outputs": [
    {
     "data": {
      "text/plain": [
       "26397"
      ]
     },
     "execution_count": 123,
     "metadata": {},
     "output_type": "execute_result"
    }
   ],
   "source": [
    "def check_r(s):\n",
    "    if not s:\n",
    "        return \"\", \"\"\n",
    "    c, rest = s[0], s[1:] \n",
    "    cc = get_conterpart(c)\n",
    "    if cc == \"-\":\n",
    "        return s, \"\"\n",
    "    ss, err = check_r(rest)\n",
    "    if not ss:\n",
    "        return ss, err\n",
    "    if ss[0] != cc:\n",
    "        return check_r(ss[1:]), err+ss[0]\n",
    "    return check_r(ss[1:])\n",
    "\n",
    "def solution_r(data):\n",
    "    s = 0\n",
    "    for l in data:\n",
    "        r,e = check_r(l)\n",
    "        if e:\n",
    "            s+= cost_a(e[0])\n",
    "    return s\n",
    "\n",
    "solution_r(test1)\n"
   ]
  },
  {
   "cell_type": "code",
   "execution_count": 65,
   "id": "c3163c95",
   "metadata": {},
   "outputs": [
    {
     "data": {
      "text/plain": [
       "'-'"
      ]
     },
     "execution_count": 65,
     "metadata": {},
     "output_type": "execute_result"
    }
   ],
   "source": [
    "get_conterpart(\")\")"
   ]
  },
  {
   "cell_type": "code",
   "execution_count": null,
   "id": "2e35011d",
   "metadata": {},
   "outputs": [],
   "source": []
  }
 ],
 "metadata": {
  "kernelspec": {
   "display_name": "Python 3 (ipykernel)",
   "language": "python",
   "name": "python3"
  },
  "language_info": {
   "codemirror_mode": {
    "name": "ipython",
    "version": 3
   },
   "file_extension": ".py",
   "mimetype": "text/x-python",
   "name": "python",
   "nbconvert_exporter": "python",
   "pygments_lexer": "ipython3",
   "version": "3.7.11"
  }
 },
 "nbformat": 4,
 "nbformat_minor": 5
}
