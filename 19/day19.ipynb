{
 "cells": [
  {
   "cell_type": "code",
   "execution_count": 1,
   "id": "56b2dd01",
   "metadata": {},
   "outputs": [],
   "source": [
    "from aocd import submit\n",
    "import numpy as np\n",
    "import re"
   ]
  },
  {
   "cell_type": "code",
   "execution_count": 2,
   "id": "e027d709",
   "metadata": {},
   "outputs": [],
   "source": [
    "YYYY=2021\n",
    "DD=19"
   ]
  },
  {
   "cell_type": "code",
   "execution_count": 15,
   "id": "25fa5b91",
   "metadata": {},
   "outputs": [
    {
     "data": {
      "text/plain": [
       "[array([[0, 2],\n",
       "        [4, 1],\n",
       "        [3, 3]]),\n",
       " array([[-1, -1],\n",
       "        [-5,  0],\n",
       "        [-2,  1]])]"
      ]
     },
     "execution_count": 15,
     "metadata": {},
     "output_type": "execute_result"
    }
   ],
   "source": [
    "def load(filename):\n",
    "    with open(filename,'r') as f:\n",
    "        scanners = []\n",
    "        ss = []\n",
    "        for s in f:\n",
    "            if s == \"\\n\":\n",
    "                continue\n",
    "            if s.startswith(\"---\"):\n",
    "                if ss: \n",
    "                    scanners.append(np.array(ss))\n",
    "                    ss = []\n",
    "            else:\n",
    "                ss.append([int(n) for n in s.rstrip(\"\\n\").split(\",\")])\n",
    "        else:\n",
    "            scanners.append(np.array(ss))\n",
    "    return scanners\n",
    "test1 = load(\"test1.dat\")\n",
    "test2 = load(\"test2.dat\")\n",
    "test1"
   ]
  },
  {
   "cell_type": "code",
   "execution_count": 13,
   "id": "2ee85b6c",
   "metadata": {},
   "outputs": [],
   "source": [
    "data_in = load(\"input.dat\")"
   ]
  },
  {
   "cell_type": "markdown",
   "id": "6299ea79",
   "metadata": {},
   "source": [
    "# Teil a"
   ]
  },
  {
   "cell_type": "code",
   "execution_count": 641,
   "id": "7425b5e0",
   "metadata": {},
   "outputs": [],
   "source": [
    "def rotate(scanner, rot):\n",
    "    r = np.array(scanner, copy=True)  \n",
    "    for dim, rr in enumerate(f\"{rot:03b}\"):\n",
    "        if rr == \"1\":\n",
    "            r[:,dim] *= -1 \n",
    "    return r\n",
    "\n",
    "def flip(scanner, f):\n",
    "    r = np.array(scanner, copy=True)  \n",
    "    return r[:,f]\n",
    "\n",
    "def distances(scanner):\n",
    "    dim = scanner.shape[0]\n",
    "    dist = np.zeros((dim, dim))\n",
    "    for i in range(dim):\n",
    "        for j in range(i+1,dim):\n",
    "            dist[i,j] = np.linalg.norm(scanner[i]-scanner[j]).round(2)\n",
    "            dist[j,i] = dist [i,j]\n",
    "    return dist\n",
    "\n",
    "def compare(s1, s2, min_overlap=12):\n",
    "    d1=distances(s1)\n",
    "    d2=distances(s2)\n",
    "    for i, di in enumerate(d1):\n",
    "        for j, dj in enumerate(d2):\n",
    "            #print(np.intersect1d(i,j))\n",
    "            intersection, ii, jj = np.intersect1d(di,dj, return_indices=True)\n",
    "            if intersection.shape[0] >= min_overlap:\n",
    "                #print(f\"{i} {j}\")\n",
    "                return ii, jj\n",
    "    return None, None\n",
    "\n",
    "def all_equal(arr):\n",
    "    # Check if all value in 2D array are equal\n",
    "    u, c = np.unique(arr, return_counts = True, axis=0)\n",
    "    if c.max() < 12:\n",
    "        return None\n",
    "    return u[c == c.max()]\n",
    "    \n",
    "def transform(s1, s2, idx1, idx2):\n",
    "    for r in range(9):\n",
    "        tmp = rotate(s2, r)\n",
    "        for f in [(0,1,2), (0,2,1), (1,0,2), (1,2,0), (2,0,1),(2,1,0)]:\n",
    "            tmp2 = flip(tmp, f)\n",
    "            a = all_equal(tmp2[idx2]-s1[idx1])\n",
    "            if a is not None:\n",
    "                return tmp2-a, a\n",
    "    return None\n",
    "    \n",
    "def merge(s1, s2):\n",
    "    s = np.vstack((s1, s2))\n",
    "    return np.unique(s, axis=0)\n",
    "    \n",
    "def solution_a(data):\n",
    "    s=data[0]\n",
    "    merge_list=[0]\n",
    "    scanners = [np.array([0,0,0])]\n",
    "    mem = 0\n",
    "    for _ in range(10):\n",
    "        for i, s1 in enumerate(data):\n",
    "            if i in merge_list:\n",
    "                continue\n",
    "            ii, jj = compare(s, s1)\n",
    "            if ii is not None:\n",
    "                t, spos = transform(s, s1, ii, jj) \n",
    "                scanners.append(spos)\n",
    "                merge_list.append(i)\n",
    "                s = merge(s,t)\n",
    "        if s.shape[0] == mem:\n",
    "            return s, scanners\n",
    "        else: \n",
    "            mem = s.shape[0]\n",
    "    return s, scanners\n",
    "\n"
   ]
  },
  {
   "cell_type": "code",
   "execution_count": 642,
   "id": "b6170f6e",
   "metadata": {},
   "outputs": [
    {
     "data": {
      "text/plain": [
       "79"
      ]
     },
     "execution_count": 642,
     "metadata": {},
     "output_type": "execute_result"
    }
   ],
   "source": [
    "solution_a(test2)[0].shape[0]"
   ]
  },
  {
   "cell_type": "code",
   "execution_count": 635,
   "id": "6e9ddb05",
   "metadata": {},
   "outputs": [
    {
     "name": "stdout",
     "output_type": "stream",
     "text": [
      "Part a already solved with same answer: 303\n"
     ]
    }
   ],
   "source": [
    "submit(solution_a(data_in)[0].shape[0],part=\"a\",day=DD, year=YYYY)"
   ]
  },
  {
   "cell_type": "markdown",
   "id": "706ace18",
   "metadata": {},
   "source": [
    "# Teil b"
   ]
  },
  {
   "cell_type": "code",
   "execution_count": 638,
   "id": "cd310bda",
   "metadata": {
    "scrolled": true
   },
   "outputs": [],
   "source": [
    "def solution_b(data):\n",
    "    _, pos = solution_a(data)\n",
    "    x = 0\n",
    "    for i, p1 in enumerate(pos):\n",
    "        for j,p2 in enumerate(pos):\n",
    "            if i <= j:\n",
    "                continue\n",
    "            dist = np.abs(p1-p2).sum()\n",
    "            if dist > x:\n",
    "                x = dist\n",
    "    return x"
   ]
  },
  {
   "cell_type": "code",
   "execution_count": 639,
   "id": "9a4f15b1",
   "metadata": {},
   "outputs": [
    {
     "data": {
      "text/plain": [
       "3621"
      ]
     },
     "execution_count": 639,
     "metadata": {},
     "output_type": "execute_result"
    }
   ],
   "source": [
    "solution_b(test2)"
   ]
  },
  {
   "cell_type": "code",
   "execution_count": 640,
   "id": "6cf11ccf",
   "metadata": {
    "scrolled": true
   },
   "outputs": [
    {
     "name": "stdout",
     "output_type": "stream",
     "text": [
      "Part b already solved with same answer: 9621\n"
     ]
    }
   ],
   "source": [
    "submit(solution_b(data_in),part=\"b\",day=DD, year=YYYY)"
   ]
  }
 ],
 "metadata": {
  "kernelspec": {
   "display_name": "Python 3 (ipykernel)",
   "language": "python",
   "name": "python3"
  },
  "language_info": {
   "codemirror_mode": {
    "name": "ipython",
    "version": 3
   },
   "file_extension": ".py",
   "mimetype": "text/x-python",
   "name": "python",
   "nbconvert_exporter": "python",
   "pygments_lexer": "ipython3",
   "version": "3.7.11"
  }
 },
 "nbformat": 4,
 "nbformat_minor": 5
}
