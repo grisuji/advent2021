{
 "cells": [
  {
   "cell_type": "code",
   "execution_count": 1,
   "id": "56b2dd01",
   "metadata": {},
   "outputs": [],
   "source": [
    "from aocd import submit\n",
    "import numpy as np\n",
    "import re\n",
    "from functools import reduce\n",
    "from collections import Counter\n"
   ]
  },
  {
   "cell_type": "code",
   "execution_count": 2,
   "id": "e027d709",
   "metadata": {},
   "outputs": [],
   "source": [
    "YYYY=2021\n",
    "DD=14"
   ]
  },
  {
   "cell_type": "code",
   "execution_count": 3,
   "id": "25fa5b91",
   "metadata": {},
   "outputs": [
    {
     "data": {
      "text/plain": [
       "('NNCB',\n",
       " {'CH': 'B',\n",
       "  'HH': 'N',\n",
       "  'CB': 'H',\n",
       "  'NH': 'C',\n",
       "  'HB': 'C',\n",
       "  'HC': 'B',\n",
       "  'HN': 'C',\n",
       "  'NN': 'C',\n",
       "  'BH': 'H',\n",
       "  'NC': 'B',\n",
       "  'NB': 'B',\n",
       "  'BN': 'B',\n",
       "  'BB': 'N',\n",
       "  'BC': 'B',\n",
       "  'CC': 'N',\n",
       "  'CN': 'C'})"
      ]
     },
     "execution_count": 3,
     "metadata": {},
     "output_type": "execute_result"
    }
   ],
   "source": [
    "def get_rule(s):\n",
    "    ss = s.split()\n",
    "    return ss[0], ss[2]\n",
    "\n",
    "def load(filename):\n",
    "    with open(filename,'r') as f:\n",
    "         lines = [s.rstrip(\"\\n\") for s in f]\n",
    "    start = lines[0]\n",
    "    return start,{get_rule(l)[0]:get_rule(l)[1] for l in lines[2:]}\n",
    "\n",
    "test1 = load(\"test1.dat\")\n",
    "test1"
   ]
  },
  {
   "cell_type": "code",
   "execution_count": 4,
   "id": "2ee85b6c",
   "metadata": {},
   "outputs": [],
   "source": [
    "data_in = load(\"input.dat\")"
   ]
  },
  {
   "cell_type": "markdown",
   "id": "6299ea79",
   "metadata": {},
   "source": [
    "# Teil a"
   ]
  },
  {
   "cell_type": "code",
   "execution_count": 9,
   "id": "7425b5e0",
   "metadata": {},
   "outputs": [],
   "source": [
    "def get_inlets(rules, s):\n",
    "    pairs = list(zip(s[:-1],s[1:]))\n",
    "    return [rules[a+b] for a, b in pairs]\n",
    "\n",
    "def get_polymer(rules, s):\n",
    "    inserts = get_inlets(rules, s)\n",
    "    ss = \"\"\n",
    "    for i in range(len(s)-1):\n",
    "        ss += s[i] + inserts[i]\n",
    "    ss+=s[-1]\n",
    "    return ss\n",
    "\n",
    "def solution_a(data):\n",
    "    s, rules = data\n",
    "    for _ in range(10):\n",
    "        s = get_polymer(rules, s)\n",
    "    d = dict(Counter(s))\n",
    "    #print(d)\n",
    "    return d[max(d, key=d.get)]-d[min(d, key=d.get)]\n",
    "    "
   ]
  },
  {
   "cell_type": "code",
   "execution_count": 39,
   "id": "dec9cd4e",
   "metadata": {},
   "outputs": [
    {
     "data": {
      "text/plain": [
       "1588"
      ]
     },
     "execution_count": 39,
     "metadata": {},
     "output_type": "execute_result"
    }
   ],
   "source": [
    "solution_a(test1)"
   ]
  },
  {
   "cell_type": "code",
   "execution_count": 40,
   "id": "6cf11ccf",
   "metadata": {},
   "outputs": [
    {
     "name": "stdout",
     "output_type": "stream",
     "text": [
      "\u001b[32mThat's the right answer!  You are one gold star closer to finding the sleigh keys. [Continue to Part Two]\u001b[0m\n"
     ]
    },
    {
     "data": {
      "text/plain": [
       "<Response [200]>"
      ]
     },
     "execution_count": 40,
     "metadata": {},
     "output_type": "execute_result"
    }
   ],
   "source": [
    "submit(solution_a(data_in),part=\"a\",day=DD, year=YYYY)"
   ]
  },
  {
   "cell_type": "markdown",
   "id": "706ace18",
   "metadata": {},
   "source": [
    "# Teil b"
   ]
  },
  {
   "cell_type": "code",
   "execution_count": 94,
   "id": "97bc6f05",
   "metadata": {},
   "outputs": [],
   "source": [
    "def update(d, rules):\n",
    "    n = {}\n",
    "    for k,v in d.items():\n",
    "        c = rules[k]\n",
    "        left = k[0] + c\n",
    "        right = c + k[1]\n",
    "        n[left] = n.get(left,0) + v\n",
    "        n[right] = n.get(right,0) + v\n",
    "    return n\n",
    "\n",
    "def create(s):\n",
    "    pairs = list(zip(s[:-1],s[1:]))\n",
    "    n = {}\n",
    "    for a,b in pairs:\n",
    "        n[a+b] = n.get(a+b,0) + 1\n",
    "    return n\n",
    "    \n",
    "def solution_b(data):\n",
    "    s, rules = data\n",
    "    d = create(s)\n",
    "    for _ in range(40):\n",
    "        d = update(d, rules)\n",
    "    summe = 0\n",
    "    n = {s[-1]:1}\n",
    "    for k, v in d.items():\n",
    "        c = k[0]\n",
    "        n[c] = n.get(c,0) + v\n",
    "    \n",
    "    return n[max(n, key=n.get)]-n[min(n, key=n.get)]\n",
    "    "
   ]
  },
  {
   "cell_type": "code",
   "execution_count": 91,
   "id": "bbbe5f2e",
   "metadata": {},
   "outputs": [
    {
     "data": {
      "text/plain": [
       "2188189693529"
      ]
     },
     "execution_count": 91,
     "metadata": {},
     "output_type": "execute_result"
    }
   ],
   "source": [
    "solution_b(test1)"
   ]
  },
  {
   "cell_type": "code",
   "execution_count": 93,
   "id": "9145d4ca",
   "metadata": {},
   "outputs": [
    {
     "name": "stdout",
     "output_type": "stream",
     "text": [
      "Part b already solved with same answer: 3692219987038\n"
     ]
    }
   ],
   "source": [
    "submit(solution_b(data_in),part=\"b\",day=DD, year=YYYY)"
   ]
  }
 ],
 "metadata": {
  "kernelspec": {
   "display_name": "Python 3 (ipykernel)",
   "language": "python",
   "name": "python3"
  },
  "language_info": {
   "codemirror_mode": {
    "name": "ipython",
    "version": 3
   },
   "file_extension": ".py",
   "mimetype": "text/x-python",
   "name": "python",
   "nbconvert_exporter": "python",
   "pygments_lexer": "ipython3",
   "version": "3.7.11"
  }
 },
 "nbformat": 4,
 "nbformat_minor": 5
}
