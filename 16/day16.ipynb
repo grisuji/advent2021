{
 "cells": [
  {
   "cell_type": "code",
   "execution_count": 149,
   "id": "56b2dd01",
   "metadata": {},
   "outputs": [],
   "source": [
    "from aocd import submit\n",
    "import numpy as np\n",
    "import re"
   ]
  },
  {
   "cell_type": "code",
   "execution_count": 147,
   "id": "e027d709",
   "metadata": {},
   "outputs": [],
   "source": [
    "YYYY=2021\n",
    "DD=16"
   ]
  },
  {
   "cell_type": "code",
   "execution_count": 18,
   "id": "25fa5b91",
   "metadata": {},
   "outputs": [
    {
     "data": {
      "text/plain": [
       "'D2FE28'"
      ]
     },
     "execution_count": 18,
     "metadata": {},
     "output_type": "execute_result"
    }
   ],
   "source": [
    "def load(filename):\n",
    "    with open(filename,'r') as f:\n",
    "         lines = [s.rstrip(\"\\n\")  for s in f]\n",
    "    return  lines[0]\n",
    "test1 = load(\"test1.dat\")\n",
    "test2 = load(\"test2.dat\")\n",
    "test3 = load(\"test3.dat\")\n",
    "test1"
   ]
  },
  {
   "cell_type": "code",
   "execution_count": 19,
   "id": "2ee85b6c",
   "metadata": {},
   "outputs": [],
   "source": [
    "data_in = load(\"input.dat\")"
   ]
  },
  {
   "cell_type": "markdown",
   "id": "6299ea79",
   "metadata": {},
   "source": [
    "# Teil a"
   ]
  },
  {
   "cell_type": "code",
   "execution_count": 157,
   "id": "7425b5e0",
   "metadata": {},
   "outputs": [],
   "source": [
    "def hex2bin(data):\n",
    "    return bin(int(data,base=16))[2:].zfill(len(data)*4)\n",
    "\n",
    "def version(data):\n",
    "    return int(data[:3],base=2), data[3:]\n",
    "\n",
    "def typeid(data):\n",
    "    return int(data[:3], base=2), data[3:]\n",
    "\n",
    "def literal(data):\n",
    "    lit = \"\"\n",
    "    for i in range(0,len(data),5):\n",
    "        lit+=data[i+1:i+5]\n",
    "        if data[i] == \"0\":\n",
    "            break\n",
    "    return int(lit, base=2), data[i+5:]\n",
    "\n",
    "def optype(data):\n",
    "    return data[0], data[1:]\n",
    "\n",
    "def length(data):\n",
    "    return int(data[:15], base=2), data[15:]\n",
    "\n",
    "def subpackets(data):\n",
    "    return int(data[:11], base=2), data[11:]\n",
    "\n",
    "def op2(data):\n",
    "    pass\n",
    "\n",
    "def parse_packet(data):\n",
    "    result = []\n",
    "    version_sum = 0\n",
    "    rest=data\n",
    "    if all(c == '0' for c in rest):\n",
    "        return result, \"\", version_sum\n",
    "    v, rest = version(rest)\n",
    "    version_sum = v\n",
    "    t, rest = typeid(rest)\n",
    "    if t == 4:\n",
    "        l, rest = literal(rest)\n",
    "        result = [l]\n",
    "    else:\n",
    "        op, rest = optype(rest)\n",
    "        if op == \"0\":\n",
    "            l, rest = length(rest)\n",
    "            a, _ , vv = parse_packet(rest[:l])\n",
    "            result += a\n",
    "            version_sum += vv\n",
    "            rest = rest[l:]\n",
    "        else:\n",
    "            p, rest = subpackets(rest)\n",
    "            for _ in range(p):\n",
    "                a, rest, vv = parse_packet(rest)\n",
    "                result += a\n",
    "                version_sum += vv\n",
    "    a, rest, vv = parse_packet(rest)\n",
    "    result += a\n",
    "    version_sum += vv\n",
    "    \n",
    "    return result, rest, version_sum\n",
    "        \n",
    "    \n",
    "\n",
    "def solution_a(data):\n",
    "    return parse_packet(hex2bin(data_in))[2]\n"
   ]
  },
  {
   "cell_type": "code",
   "execution_count": 159,
   "id": "6cf11ccf",
   "metadata": {},
   "outputs": [
    {
     "name": "stdout",
     "output_type": "stream",
     "text": [
      "Part a already solved with same answer: 923\n"
     ]
    }
   ],
   "source": [
    "submit(solution_a(data_in),part=\"a\",day=DD, year=YYYY)"
   ]
  },
  {
   "cell_type": "markdown",
   "id": "706ace18",
   "metadata": {},
   "source": [
    "# Teil b"
   ]
  },
  {
   "cell_type": "code",
   "execution_count": 165,
   "id": "97bc6f05",
   "metadata": {},
   "outputs": [],
   "source": [
    "def hex2bin(data):\n",
    "    return bin(int(data,base=16))[2:].zfill(len(data)*4)\n",
    "\n",
    "def version(data):\n",
    "    return int(data[:3],base=2), data[3:]\n",
    "\n",
    "def typeid(data):\n",
    "    return int(data[:3], base=2), data[3:]\n",
    "\n",
    "def literal(data):\n",
    "    lit = \"\"\n",
    "    for i in range(0,len(data),5):\n",
    "        lit+=data[i+1:i+5]\n",
    "        if data[i] == \"0\":\n",
    "            break\n",
    "    return int(lit, base=2), data[i+5:]\n",
    "\n",
    "def optype(data):\n",
    "    return data[0], data[1:]\n",
    "\n",
    "def length(data):\n",
    "    return int(data[:15], base=2), data[15:]\n",
    "\n",
    "def subpackets(data):\n",
    "    return int(data[:11], base=2), data[11:]\n",
    "\n",
    "def op2(data):\n",
    "    pass\n",
    "\n",
    "def parse_packet(data, c=True):\n",
    "    result = []\n",
    "    rest=data\n",
    "    if all(c == '0' for c in rest):\n",
    "        return result, \"\"\n",
    "    v, rest = version(rest)\n",
    "    \n",
    "    t, rest = typeid(rest)\n",
    "    if t == 4:\n",
    "        l, rest = literal(rest)\n",
    "        result = [l]\n",
    "    else:\n",
    "        op, rest = optype(rest)\n",
    "        if op == \"0\":\n",
    "            l, rest = length(rest)\n",
    "            head, rest = rest[:l], rest[l:]\n",
    "            while head:\n",
    "                a, head = parse_packet(head)\n",
    "                result += a\n",
    "        else:\n",
    "            p, rest = subpackets(rest)\n",
    "            for _ in range(p):\n",
    "                a, rest = parse_packet(rest, False)\n",
    "                result += a\n",
    "        r = np.array(result)\n",
    "        if t == 0:\n",
    "            value = r.sum()\n",
    "        elif t == 1:\n",
    "            value = r.prod()\n",
    "        elif t == 2:\n",
    "            value = r.min()\n",
    "        elif t == 3:\n",
    "            value = r.max()\n",
    "        elif t == 5:\n",
    "            value = 1 if r[0] > r[1] else 0\n",
    "        elif t == 6:\n",
    "            value = 1 if r[0] < r[1] else 0\n",
    "        elif t == 7:\n",
    "            value = 1 if r[0] == r[1] else 0\n",
    "        result = [value] \n",
    "    \n",
    "    return result, rest\n",
    "        \n",
    "def solution_b(data):\n",
    "    return parse_packet(hex2bin(data))[0][0]"
   ]
  },
  {
   "cell_type": "code",
   "execution_count": 154,
   "id": "fae1d1c9",
   "metadata": {},
   "outputs": [
    {
     "data": {
      "text/plain": [
       "['C200B40A82',\n",
       " '04005AC33890',\n",
       " '880086C3E88112',\n",
       " 'CE00C43D881120',\n",
       " 'D8005AC2A8F0',\n",
       " 'F600BC2D8F',\n",
       " '9C005AC2F8F0',\n",
       " '9C0141080250320F1802104A08']"
      ]
     },
     "execution_count": 154,
     "metadata": {},
     "output_type": "execute_result"
    }
   ],
   "source": [
    "test4 = \"C200B40A82\"\n",
    "test5 = \"04005AC33890\"\n",
    "test6 = \"880086C3E88112\"\n",
    "test7 = \"CE00C43D881120\"\n",
    "test8 = \"D8005AC2A8F0\"\n",
    "test9 = \"F600BC2D8F\"\n",
    "test10 = \"9C005AC2F8F0\"\n",
    "test11 = \"9C0141080250320F1802104A08\"\n",
    "b=[test4, test5, test6, test7, test8,test9, test10, test11]\n",
    "b"
   ]
  },
  {
   "cell_type": "code",
   "execution_count": 155,
   "id": "fc7f68fb",
   "metadata": {},
   "outputs": [
    {
     "data": {
      "text/plain": [
       "[3, 54, 7, 9, 1, 0, 0, 1]"
      ]
     },
     "execution_count": 155,
     "metadata": {},
     "output_type": "execute_result"
    }
   ],
   "source": [
    "[ solution_b(test) for test in b]"
   ]
  },
  {
   "cell_type": "code",
   "execution_count": 167,
   "id": "7f2fb111",
   "metadata": {},
   "outputs": [
    {
     "name": "stdout",
     "output_type": "stream",
     "text": [
      "Part b already solved with same answer: 258888628940\n"
     ]
    }
   ],
   "source": [
    "submit(solution_b(data_in),part=\"b\",day=DD, year=YYYY)"
   ]
  },
  {
   "cell_type": "code",
   "execution_count": null,
   "id": "86347a59",
   "metadata": {},
   "outputs": [],
   "source": []
  }
 ],
 "metadata": {
  "kernelspec": {
   "display_name": "Python 3 (ipykernel)",
   "language": "python",
   "name": "python3"
  },
  "language_info": {
   "codemirror_mode": {
    "name": "ipython",
    "version": 3
   },
   "file_extension": ".py",
   "mimetype": "text/x-python",
   "name": "python",
   "nbconvert_exporter": "python",
   "pygments_lexer": "ipython3",
   "version": "3.7.11"
  }
 },
 "nbformat": 4,
 "nbformat_minor": 5
}
