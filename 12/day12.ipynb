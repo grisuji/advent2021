{
 "cells": [
  {
   "cell_type": "code",
   "execution_count": 1,
   "id": "56b2dd01",
   "metadata": {},
   "outputs": [],
   "source": [
    "from aocd import submit\n",
    "import numpy as np\n",
    "import re\n",
    "import sting"
   ]
  },
  {
   "cell_type": "code",
   "execution_count": 2,
   "id": "e027d709",
   "metadata": {},
   "outputs": [],
   "source": [
    "YYYY=2021\n",
    "DD=12"
   ]
  },
  {
   "cell_type": "code",
   "execution_count": 113,
   "id": "25fa5b91",
   "metadata": {},
   "outputs": [
    {
     "data": {
      "text/plain": [
       "{'fs': ['end', 'he', 'DX', 'pj'],\n",
       " 'he': ['DX', 'fs', 'pj', 'RW', 'WI', 'zg'],\n",
       " 'DX': ['he', 'pj', 'fs'],\n",
       " 'start': ['DX', 'pj', 'RW'],\n",
       " 'pj': ['DX', 'zg', 'he', 'RW', 'fs'],\n",
       " 'zg': ['end', 'sl', 'pj', 'RW', 'he'],\n",
       " 'sl': ['zg'],\n",
       " 'RW': ['he', 'pj', 'zg'],\n",
       " 'WI': ['he']}"
      ]
     },
     "execution_count": 113,
     "metadata": {},
     "output_type": "execute_result"
    }
   ],
   "source": [
    "def add_rule(rules, left, right):\n",
    "    if left != \"end\" and right != \"start\":\n",
    "        if left in rules:\n",
    "            rules[left].append(right)\n",
    "        else:\n",
    "            rules[left] = [right]\n",
    "        \n",
    "    \n",
    "def load(filename):\n",
    "    with open(filename,'r') as f:\n",
    "         lines = [tuple(s.rstrip(\"\\n\").split(\"-\"))  for s in f]\n",
    "    rules = {}\n",
    "    for k, v in lines:\n",
    "        add_rule(rules, k, v)\n",
    "        add_rule(rules, v, k)\n",
    "    return rules\n",
    "\n",
    "test1 = load(\"test1.dat\")\n",
    "test2 = load(\"test2.dat\")\n",
    "test3 = load(\"test3.dat\")\n",
    "test3"
   ]
  },
  {
   "cell_type": "code",
   "execution_count": 114,
   "id": "2ee85b6c",
   "metadata": {},
   "outputs": [],
   "source": [
    "data_in = load(\"input.dat\")"
   ]
  },
  {
   "cell_type": "markdown",
   "id": "6299ea79",
   "metadata": {},
   "source": [
    "# Teil a"
   ]
  },
  {
   "cell_type": "code",
   "execution_count": 115,
   "id": "7425b5e0",
   "metadata": {},
   "outputs": [],
   "source": [
    "def traverse(data, pos, path):\n",
    "    path += [pos]\n",
    "    if pos not in data:\n",
    "        return [path]\n",
    "    candidates = data[pos]\n",
    "    result = []\n",
    "    for c in candidates:\n",
    "        if c.islower() and c in path:\n",
    "            continue\n",
    "        result += traverse(data, c, path[:])\n",
    "    #print(f\"{pos}  -> {result}\")\n",
    "    return result\n",
    "\n",
    "def solution_a(data):\n",
    "    return(len(traverse(data, \"start\", [])))"
   ]
  },
  {
   "cell_type": "code",
   "execution_count": 117,
   "id": "dec9cd4e",
   "metadata": {},
   "outputs": [
    {
     "data": {
      "text/plain": [
       "226"
      ]
     },
     "execution_count": 117,
     "metadata": {},
     "output_type": "execute_result"
    }
   ],
   "source": [
    "solution_a(test3)"
   ]
  },
  {
   "cell_type": "code",
   "execution_count": 82,
   "id": "6cf11ccf",
   "metadata": {},
   "outputs": [
    {
     "name": "stdout",
     "output_type": "stream",
     "text": [
      "\u001b[32mThat's the right answer!  You are one gold star closer to finding the sleigh keys. [Continue to Part Two]\u001b[0m\n"
     ]
    },
    {
     "data": {
      "text/plain": [
       "<Response [200]>"
      ]
     },
     "execution_count": 82,
     "metadata": {},
     "output_type": "execute_result"
    }
   ],
   "source": [
    "submit(solution_a(data_in),part=\"a\",day=DD, year=YYYY)"
   ]
  },
  {
   "cell_type": "markdown",
   "id": "706ace18",
   "metadata": {},
   "source": [
    "# Teil b"
   ]
  },
  {
   "cell_type": "code",
   "execution_count": 118,
   "id": "97bc6f05",
   "metadata": {},
   "outputs": [],
   "source": [
    "def traverse(data, pos, path, sc_visit_twice):\n",
    "    path += [pos]\n",
    "    if pos not in data:\n",
    "        return [path]\n",
    "    candidates = data[pos]\n",
    "    result = []\n",
    "    for c in candidates:\n",
    "        if c.islower() and c in path:\n",
    "            if sc_visit_twice:\n",
    "                continue\n",
    "            else:\n",
    "                result += traverse(data, c, path[:], True)\n",
    "        else:\n",
    "            result += traverse(data, c, path[:], sc_visit_twice)\n",
    "    return result\n",
    "\n",
    "def solution_b(data):\n",
    "    return(len(traverse(data, \"start\", [], False)))"
   ]
  },
  {
   "cell_type": "code",
   "execution_count": 119,
   "id": "fae1d1c9",
   "metadata": {},
   "outputs": [
    {
     "data": {
      "text/plain": [
       "36"
      ]
     },
     "execution_count": 119,
     "metadata": {},
     "output_type": "execute_result"
    }
   ],
   "source": [
    "solution_b(test1)"
   ]
  },
  {
   "cell_type": "code",
   "execution_count": 99,
   "id": "9145d4ca",
   "metadata": {},
   "outputs": [
    {
     "name": "stdout",
     "output_type": "stream",
     "text": [
      "\u001b[32mThat's the right answer!  You are one gold star closer to finding the sleigh keys.You have completed Day 12! You can [Shareon\n",
      "  Twitter\n",
      "Mastodon] this victory or [Return to Your Advent Calendar].\u001b[0m\n"
     ]
    },
    {
     "data": {
      "text/plain": [
       "<Response [200]>"
      ]
     },
     "execution_count": 99,
     "metadata": {},
     "output_type": "execute_result"
    }
   ],
   "source": [
    "submit(solution_b(data_in),part=\"b\",day=DD, year=YYYY)"
   ]
  },
  {
   "cell_type": "code",
   "execution_count": null,
   "id": "b2932992",
   "metadata": {},
   "outputs": [],
   "source": []
  }
 ],
 "metadata": {
  "kernelspec": {
   "display_name": "Python 3 (ipykernel)",
   "language": "python",
   "name": "python3"
  },
  "language_info": {
   "codemirror_mode": {
    "name": "ipython",
    "version": 3
   },
   "file_extension": ".py",
   "mimetype": "text/x-python",
   "name": "python",
   "nbconvert_exporter": "python",
   "pygments_lexer": "ipython3",
   "version": "3.7.11"
  }
 },
 "nbformat": 4,
 "nbformat_minor": 5
}
