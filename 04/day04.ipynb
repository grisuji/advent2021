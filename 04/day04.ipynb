{
 "cells": [
  {
   "cell_type": "code",
   "execution_count": 2,
   "id": "56b2dd01",
   "metadata": {},
   "outputs": [],
   "source": [
    "from aocd import submit\n",
    "import numpy as np\n",
    "import re"
   ]
  },
  {
   "cell_type": "code",
   "execution_count": 3,
   "id": "e027d709",
   "metadata": {},
   "outputs": [],
   "source": [
    "YYYY=2021\n",
    "DD=4"
   ]
  },
  {
   "cell_type": "code",
   "execution_count": 4,
   "id": "25fa5b91",
   "metadata": {},
   "outputs": [
    {
     "data": {
      "text/plain": [
       "['7,4,9,5,11,17,23,2,0,14,21,24,10,16,13,6,15,25,12,22,18,20,8,19,3,26,1',\n",
       " '',\n",
       " '22 13 17 11  0',\n",
       " ' 8  2 23  4 24',\n",
       " '21  9 14 16  7',\n",
       " ' 6 10  3 18  5',\n",
       " ' 1 12 20 15 19',\n",
       " '',\n",
       " ' 3 15  0  2 22',\n",
       " ' 9 18 13 17  5',\n",
       " '19  8  7 25 23',\n",
       " '20 11 10 24  4',\n",
       " '14 21 16 12  6',\n",
       " '',\n",
       " '14 21 17 24  4',\n",
       " '10 16 15  9 19',\n",
       " '18  8 23 26 20',\n",
       " '22 11 13  6  5',\n",
       " ' 2  0 12  3  7']"
      ]
     },
     "execution_count": 4,
     "metadata": {},
     "output_type": "execute_result"
    }
   ],
   "source": [
    "def load(filename):\n",
    "    with open(filename,'r') as f:\n",
    "         lines = [s.rstrip(\"\\n\")  for s in f]\n",
    "    return lines #[d for d in lines]\n",
    "test1 = load(\"test1.dat\")\n",
    "test1"
   ]
  },
  {
   "cell_type": "code",
   "execution_count": 5,
   "id": "2ee85b6c",
   "metadata": {},
   "outputs": [],
   "source": [
    "data_in = load(\"input.dat\")"
   ]
  },
  {
   "cell_type": "code",
   "execution_count": 57,
   "id": "2ec73f29",
   "metadata": {},
   "outputs": [],
   "source": [
    "def get_env(data):\n",
    "    numbers = np.array([int(n) for n in data[0].split(\",\")])\n",
    "    boards = []\n",
    "    for b in range(1, len(data), 6):\n",
    "        board = []\n",
    "        for row in data[b+1: b+6]:\n",
    "            board.append([int(n) for n in row.split()])\n",
    "        boards.append(np.array(board))\n",
    "    return  numbers, boards"
   ]
  },
  {
   "cell_type": "code",
   "execution_count": 58,
   "id": "82b5c3cf",
   "metadata": {},
   "outputs": [
    {
     "data": {
      "text/plain": [
       "(array([ 7,  4,  9,  5, 11, 17, 23,  2,  0, 14, 21, 24, 10, 16, 13,  6, 15,\n",
       "        25, 12, 22, 18, 20,  8, 19,  3, 26,  1]),\n",
       " [array([[22, 13, 17, 11,  0],\n",
       "         [ 8,  2, 23,  4, 24],\n",
       "         [21,  9, 14, 16,  7],\n",
       "         [ 6, 10,  3, 18,  5],\n",
       "         [ 1, 12, 20, 15, 19]]),\n",
       "  array([[ 3, 15,  0,  2, 22],\n",
       "         [ 9, 18, 13, 17,  5],\n",
       "         [19,  8,  7, 25, 23],\n",
       "         [20, 11, 10, 24,  4],\n",
       "         [14, 21, 16, 12,  6]]),\n",
       "  array([[14, 21, 17, 24,  4],\n",
       "         [10, 16, 15,  9, 19],\n",
       "         [18,  8, 23, 26, 20],\n",
       "         [22, 11, 13,  6,  5],\n",
       "         [ 2,  0, 12,  3,  7]])])"
      ]
     },
     "execution_count": 58,
     "metadata": {},
     "output_type": "execute_result"
    }
   ],
   "source": [
    "get_env(test1)"
   ]
  },
  {
   "cell_type": "markdown",
   "id": "6299ea79",
   "metadata": {},
   "source": [
    "# Teil a"
   ]
  },
  {
   "cell_type": "code",
   "execution_count": 59,
   "id": "7425b5e0",
   "metadata": {},
   "outputs": [],
   "source": [
    "def solution_a(data):\n",
    "    numbers, boards =  get_env(data)\n",
    "    for n in numbers:\n",
    "        for b in boards:\n",
    "            x, y = np.where(b==n)\n",
    "            if len(x) > 0:\n",
    "                b[x[0],[y[0]]] = -1\n",
    "                if -5 in b.sum(axis=0) or -5 in b.sum(axis=1):\n",
    "                    return n*b[np.where( b > -1 )].sum()"
   ]
  },
  {
   "cell_type": "code",
   "execution_count": 60,
   "id": "dec9cd4e",
   "metadata": {},
   "outputs": [
    {
     "data": {
      "text/plain": [
       "4512"
      ]
     },
     "execution_count": 60,
     "metadata": {},
     "output_type": "execute_result"
    }
   ],
   "source": [
    "solution_a(test1)"
   ]
  },
  {
   "cell_type": "code",
   "execution_count": 46,
   "id": "6cf11ccf",
   "metadata": {},
   "outputs": [
    {
     "name": "stdout",
     "output_type": "stream",
     "text": [
      "\u001b[32mThat's the right answer!  You are one gold star closer to finding the sleigh keys. [Continue to Part Two]\u001b[0m\n"
     ]
    },
    {
     "data": {
      "text/plain": [
       "<Response [200]>"
      ]
     },
     "execution_count": 46,
     "metadata": {},
     "output_type": "execute_result"
    }
   ],
   "source": [
    "submit(solution_a(data_in),part=\"a\",day=DD, year=YYYY)"
   ]
  },
  {
   "cell_type": "markdown",
   "id": "706ace18",
   "metadata": {},
   "source": [
    "# Teil b"
   ]
  },
  {
   "cell_type": "code",
   "execution_count": null,
   "id": "b51eac2a",
   "metadata": {},
   "outputs": [],
   "source": []
  },
  {
   "cell_type": "code",
   "execution_count": 52,
   "id": "97bc6f05",
   "metadata": {},
   "outputs": [],
   "source": [
    "def solution_b(data):\n",
    "    numbers, boards =  get_env(data)\n",
    "    won=[]\n",
    "    scores=[]\n",
    "    for n in numbers:\n",
    "        for i, b in enumerate(boards):\n",
    "            if i in won:\n",
    "                continue\n",
    "            x, y = np.where(b==n)\n",
    "            if len(x) > 0:\n",
    "                b[x[0],[y[0]]] = -1\n",
    "                if -5 in b.sum(axis=0) or -5 in b.sum(axis=1):\n",
    "                    scores.append(n*b[np.where( b > -1 )].sum())\n",
    "                    won.append(i)\n",
    "    return scores[-1]"
   ]
  },
  {
   "cell_type": "code",
   "execution_count": 53,
   "id": "fae1d1c9",
   "metadata": {},
   "outputs": [
    {
     "data": {
      "text/plain": [
       "1924"
      ]
     },
     "execution_count": 53,
     "metadata": {},
     "output_type": "execute_result"
    }
   ],
   "source": [
    "solution_b(test1)"
   ]
  },
  {
   "cell_type": "code",
   "execution_count": 54,
   "id": "9145d4ca",
   "metadata": {},
   "outputs": [
    {
     "name": "stdout",
     "output_type": "stream",
     "text": [
      "\u001b[32mThat's the right answer!  You are one gold star closer to finding the sleigh keys.You have completed Day 4! You can [Shareon\n",
      "  Twitter\n",
      "Mastodon] this victory or [Return to Your Advent Calendar].\u001b[0m\n"
     ]
    },
    {
     "data": {
      "text/plain": [
       "<Response [200]>"
      ]
     },
     "execution_count": 54,
     "metadata": {},
     "output_type": "execute_result"
    }
   ],
   "source": [
    "submit(solution_b(data_in),part=\"b\",day=DD, year=YYYY)"
   ]
  },
  {
   "cell_type": "code",
   "execution_count": null,
   "id": "a2f2367d",
   "metadata": {},
   "outputs": [],
   "source": []
  }
 ],
 "metadata": {
  "kernelspec": {
   "display_name": "Python 3 (ipykernel)",
   "language": "python",
   "name": "python3"
  },
  "language_info": {
   "codemirror_mode": {
    "name": "ipython",
    "version": 3
   },
   "file_extension": ".py",
   "mimetype": "text/x-python",
   "name": "python",
   "nbconvert_exporter": "python",
   "pygments_lexer": "ipython3",
   "version": "3.7.11"
  }
 },
 "nbformat": 4,
 "nbformat_minor": 5
}
