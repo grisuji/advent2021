{
 "cells": [
  {
   "cell_type": "code",
   "execution_count": 111,
   "id": "56b2dd01",
   "metadata": {},
   "outputs": [],
   "source": [
    "from aocd import submit\n",
    "import numpy as np\n",
    "import re"
   ]
  },
  {
   "cell_type": "code",
   "execution_count": 112,
   "id": "e027d709",
   "metadata": {},
   "outputs": [],
   "source": [
    "YYYY=2021\n",
    "DD=7"
   ]
  },
  {
   "cell_type": "code",
   "execution_count": 145,
   "id": "25fa5b91",
   "metadata": {},
   "outputs": [
    {
     "data": {
      "text/plain": [
       "array([16,  1,  2,  0,  4,  2,  7,  1,  2, 14])"
      ]
     },
     "execution_count": 145,
     "metadata": {},
     "output_type": "execute_result"
    }
   ],
   "source": [
    "def load(filename):\n",
    "    with open(filename,'r') as f:\n",
    "         lines = [s.rstrip(\"\\n\")  for s in f][0]\n",
    "    return np.array([ int(n) for n in lines.split(\",\")])\n",
    "test1 = load(\"test1.dat\")\n",
    "test1"
   ]
  },
  {
   "cell_type": "code",
   "execution_count": 125,
   "id": "2ee85b6c",
   "metadata": {},
   "outputs": [
    {
     "data": {
      "text/plain": [
       "(1000,)"
      ]
     },
     "execution_count": 125,
     "metadata": {},
     "output_type": "execute_result"
    }
   ],
   "source": [
    "data_in = load(\"input.dat\")\n",
    "data_in.shape"
   ]
  },
  {
   "cell_type": "markdown",
   "id": "6299ea79",
   "metadata": {},
   "source": [
    "# Teil a"
   ]
  },
  {
   "cell_type": "code",
   "execution_count": 163,
   "id": "7425b5e0",
   "metadata": {},
   "outputs": [],
   "source": [
    "def costs(data, pos):\n",
    "    return abs(data-pos).sum()\n",
    "\n",
    "def solution_a(data):\n",
    "    return int(min(np.array([costs(data, i) for i in range(max(data))])))\n",
    "\n",
    "def solution_a_faster(data):\n",
    "    best=-1\n",
    "    for i in range(max(data)):\n",
    "        fuel = costs(data, i)\n",
    "        if fuel > best and best > -1:\n",
    "            #print(f\"Solution found at {i-1} from {data.shape[0]}\")\n",
    "            return int(best)\n",
    "        else:\n",
    "            best = fuel"
   ]
  },
  {
   "cell_type": "code",
   "execution_count": 137,
   "id": "db19574d",
   "metadata": {},
   "outputs": [
    {
     "data": {
      "text/plain": [
       "37"
      ]
     },
     "execution_count": 137,
     "metadata": {},
     "output_type": "execute_result"
    }
   ],
   "source": [
    "solution_a(test1)"
   ]
  },
  {
   "cell_type": "code",
   "execution_count": 138,
   "id": "dec9cd4e",
   "metadata": {},
   "outputs": [
    {
     "data": {
      "text/plain": [
       "37"
      ]
     },
     "execution_count": 138,
     "metadata": {},
     "output_type": "execute_result"
    }
   ],
   "source": [
    "solution_a_faster(test1)"
   ]
  },
  {
   "cell_type": "code",
   "execution_count": 166,
   "id": "245b5885",
   "metadata": {},
   "outputs": [
    {
     "data": {
      "text/plain": [
       "(2, 37)"
      ]
     },
     "execution_count": 166,
     "metadata": {},
     "output_type": "execute_result"
    }
   ],
   "source": [
    "pos = int(np.median(test1))\n",
    "pos, int(costs(test1, pos).sum())"
   ]
  },
  {
   "cell_type": "code",
   "execution_count": 23,
   "id": "6cf11ccf",
   "metadata": {},
   "outputs": [
    {
     "name": "stdout",
     "output_type": "stream",
     "text": [
      "\u001b[32mThat's the right answer!  You are one gold star closer to finding the sleigh keys. [Continue to Part Two]\u001b[0m\n"
     ]
    },
    {
     "data": {
      "text/plain": [
       "<Response [200]>"
      ]
     },
     "execution_count": 23,
     "metadata": {},
     "output_type": "execute_result"
    }
   ],
   "source": [
    "submit(solution_a(data_in),part=\"a\",day=DD, year=YYYY)"
   ]
  },
  {
   "cell_type": "markdown",
   "id": "706ace18",
   "metadata": {},
   "source": [
    "# Teil b"
   ]
  },
  {
   "cell_type": "code",
   "execution_count": 168,
   "id": "97bc6f05",
   "metadata": {},
   "outputs": [],
   "source": [
    "def costs(data, pos):\n",
    "    n = abs(data-pos)\n",
    "    return (n*(n+1)/2).sum()\n",
    "\n",
    "def solution_b(data):\n",
    "    return solution_a(data)\n",
    "\n",
    "def solution_b_faster(data):\n",
    "    return solution_a_faster(data)"
   ]
  },
  {
   "cell_type": "code",
   "execution_count": 94,
   "id": "fae1d1c9",
   "metadata": {},
   "outputs": [
    {
     "data": {
      "text/plain": [
       "168"
      ]
     },
     "execution_count": 94,
     "metadata": {},
     "output_type": "execute_result"
    }
   ],
   "source": [
    "solution_b(test1)"
   ]
  },
  {
   "cell_type": "code",
   "execution_count": 95,
   "id": "f7a99119",
   "metadata": {},
   "outputs": [
    {
     "name": "stdout",
     "output_type": "stream",
     "text": [
      "Solution found at 5 from 10\n"
     ]
    },
    {
     "data": {
      "text/plain": [
       "168"
      ]
     },
     "execution_count": 95,
     "metadata": {},
     "output_type": "execute_result"
    }
   ],
   "source": [
    "solution_b_faster(test1)"
   ]
  },
  {
   "cell_type": "code",
   "execution_count": 39,
   "id": "9145d4ca",
   "metadata": {},
   "outputs": [
    {
     "name": "stdout",
     "output_type": "stream",
     "text": [
      "\u001b[32mThat's the right answer!  You are one gold star closer to finding the sleigh keys.You have completed Day 7! You can [Shareon\n",
      "  Twitter\n",
      "Mastodon] this victory or [Return to Your Advent Calendar].\u001b[0m\n"
     ]
    },
    {
     "data": {
      "text/plain": [
       "<Response [200]>"
      ]
     },
     "execution_count": 39,
     "metadata": {},
     "output_type": "execute_result"
    }
   ],
   "source": [
    "submit(solution_b(data_in),part=\"b\",day=DD, year=YYYY)"
   ]
  },
  {
   "cell_type": "code",
   "execution_count": 107,
   "id": "0e1c82ee",
   "metadata": {},
   "outputs": [
    {
     "name": "stdout",
     "output_type": "stream",
     "text": [
      "CPU times: user 19.3 s, sys: 2.75 ms, total: 19.3 s\n",
      "Wall time: 19.3 s\n"
     ]
    }
   ],
   "source": [
    "%%time\n",
    "for _ in range(1000):\n",
    "    solution_b(data_in)"
   ]
  },
  {
   "cell_type": "code",
   "execution_count": 109,
   "id": "dd2d05f8",
   "metadata": {},
   "outputs": [
    {
     "name": "stdout",
     "output_type": "stream",
     "text": [
      "CPU times: user 1.63 s, sys: 0 ns, total: 1.63 s\n",
      "Wall time: 1.63 s\n"
     ]
    }
   ],
   "source": [
    "%%time\n",
    "for _ in range(1000):\n",
    "    solution_b_faster(data_in)"
   ]
  }
 ],
 "metadata": {
  "kernelspec": {
   "display_name": "Python 3 (ipykernel)",
   "language": "python",
   "name": "python3"
  },
  "language_info": {
   "codemirror_mode": {
    "name": "ipython",
    "version": 3
   },
   "file_extension": ".py",
   "mimetype": "text/x-python",
   "name": "python",
   "nbconvert_exporter": "python",
   "pygments_lexer": "ipython3",
   "version": "3.7.11"
  }
 },
 "nbformat": 4,
 "nbformat_minor": 5
}
